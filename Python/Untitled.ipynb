{
 "cells": [
  {
   "cell_type": "code",
   "execution_count": 1,
   "id": "c732a819",
   "metadata": {},
   "outputs": [],
   "source": [
    "# Define a class called Bank to implement a simple banking system\n",
    "class Bank:\n",
    "    # Initialize the bank with an empty dictionary to store customer accounts and balances\n",
    "    def __init__(self):\n",
    "        self.customers = {}\n",
    "\n",
    "    # Create a new account with a given account number and an optional initial balance (default to 0)\n",
    "    def create_account(self, account_number, initial_balance=0):\n",
    "        if account_number in self.customers:\n",
    "            print(\"Account number already exists.\")\n",
    "        else:\n",
    "            self.customers[account_number] = initial_balance\n",
    "            print(\"Account created successfully.\")\n",
    "\n",
    "    # Make a deposit to the account with the given account number\n",
    "    def make_deposit(self, account_number, amount):\n",
    "        if account_number in self.customers:\n",
    "            self.customers[account_number] += amount\n",
    "            print(\"Deposit successful.\")\n",
    "        else:\n",
    "            print(\"Account number does not exist.\")\n",
    "\n",
    "    # Make a withdrawal from the account with the given account number\n",
    "    def make_withdrawal(self, account_number, amount):\n",
    "        if account_number in self.customers:\n",
    "            if self.customers[account_number] >= amount:\n",
    "                self.customers[account_number] -= amount\n",
    "                print(\"Withdrawal successful.\")\n",
    "            else:\n",
    "                print(\"Insufficient funds.\")\n",
    "        else:\n",
    "            print(\"Account number does not exist.\")\n",
    "\n",
    "    # Check and print the balance of the account with the given account number\n",
    "    def check_balance(self, account_number):\n",
    "        if account_number in self.customers:\n",
    "            balance = self.customers[account_number]\n",
    "            print(f\"Account balance: {balance}\")\n",
    "        else:\n",
    "            print(\"Account number does not exist.\")\n",
    "\n"
   ]
  },
  {
   "cell_type": "code",
   "execution_count": 2,
   "id": "5aab0d74",
   "metadata": {},
   "outputs": [],
   "source": [
    "# Example usage\n",
    "# Create an instance of the Bank class\n",
    "bank = Bank()\n",
    "\n"
   ]
  },
  {
   "cell_type": "code",
   "execution_count": 6,
   "id": "79ca7f35",
   "metadata": {},
   "outputs": [
    {
     "name": "stdout",
     "output_type": "stream",
     "text": [
      "New a/c No.:  SB-123 Deposit Amount: 1000\n",
      "Account number already exists.\n"
     ]
    }
   ],
   "source": [
    "# Create customer accounts and perform account operations\n",
    "acno1= \"SB-123\"\n",
    "damt1 = 1000\n",
    "print(\"New a/c No.: \",acno1,\"Deposit Amount:\",damt1)\n",
    "bank.create_account(acno1, damt1)"
   ]
  },
  {
   "cell_type": "code",
   "execution_count": 7,
   "id": "947c723c",
   "metadata": {},
   "outputs": [
    {
     "name": "stdout",
     "output_type": "stream",
     "text": [
      "New a/c No.:  SB-124 Deposit Amount: 1500\n",
      "Account number already exists.\n"
     ]
    }
   ],
   "source": [
    "acno2= \"SB-124\"\n",
    "damt2 = 1500\n",
    "print(\"New a/c No.: \",acno2,\"Deposit Amount:\",damt2)\n",
    "bank.create_account(acno2, damt2)"
   ]
  },
  {
   "cell_type": "code",
   "execution_count": null,
   "id": "cc7bf7b2",
   "metadata": {},
   "outputs": [],
   "source": [
    "while True:\n",
    "    "
   ]
  }
 ],
 "metadata": {
  "kernelspec": {
   "display_name": "Python 3 (ipykernel)",
   "language": "python",
   "name": "python3"
  },
  "language_info": {
   "codemirror_mode": {
    "name": "ipython",
    "version": 3
   },
   "file_extension": ".py",
   "mimetype": "text/x-python",
   "name": "python",
   "nbconvert_exporter": "python",
   "pygments_lexer": "ipython3",
   "version": "3.10.9"
  }
 },
 "nbformat": 4,
 "nbformat_minor": 5
}
