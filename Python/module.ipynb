{
 "cells": [
  {
   "cell_type": "code",
   "execution_count": 1,
   "id": "c5eb95b8",
   "metadata": {},
   "outputs": [],
   "source": [
    "def add(*n):\n",
    "    return sum(n)"
   ]
  },
  {
   "cell_type": "code",
   "execution_count": 5,
   "id": "684a2e7e",
   "metadata": {},
   "outputs": [],
   "source": [
    "def mult(n1 , n2 ):\n",
    "    return n1 * n2"
   ]
  },
  {
   "cell_type": "code",
   "execution_count": 6,
   "id": "d5f550d2",
   "metadata": {},
   "outputs": [],
   "source": [
    "def check():\n",
    "    num = int(input(\"enter your num \"))\n",
    "    if num % 2 == 0 :\n",
    "        return \"Even\"\n",
    "    else:\n",
    "        return \"Odd\""
   ]
  }
 ],
 "metadata": {
  "kernelspec": {
   "display_name": "Python 3 (ipykernel)",
   "language": "python",
   "name": "python3"
  },
  "language_info": {
   "codemirror_mode": {
    "name": "ipython",
    "version": 3
   },
   "file_extension": ".py",
   "mimetype": "text/x-python",
   "name": "python",
   "nbconvert_exporter": "python",
   "pygments_lexer": "ipython3",
   "version": "3.10.9"
  }
 },
 "nbformat": 4,
 "nbformat_minor": 5
}
