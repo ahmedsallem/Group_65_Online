{
 "cells": [
  {
   "cell_type": "code",
   "execution_count": 6,
   "id": "28f6f72c",
   "metadata": {},
   "outputs": [],
   "source": [
    "class BankAccount(object):\n",
    "    defaultAccNumber = 1        # Class Attribute\n",
    "\n",
    "    def __init__(self, name, balance = 0):\n",
    "        self.__name = name\n",
    "        self.balance = balance\n",
    "        self.accountNumber = BankAccount.defaultAccNumber\n",
    "        BankAccount.defaultAccNumber = BankAccount.defaultAccNumber + 1\n",
    "\n",
    "    def deposit(self, amount):\n",
    "        self.balance += amount\n",
    "\n",
    "    def withdraw(self, amount):\n",
    "        if self.balance < amount:\n",
    "            print('Not enough balance!')\n",
    "        else:\n",
    "            self.balance -= amount\n",
    "\n",
    "    def getBalance(self):\n",
    "        return self.balance , self.__name"
   ]
  },
  {
   "cell_type": "code",
   "execution_count": 7,
   "id": "f8da66c2",
   "metadata": {},
   "outputs": [
    {
     "name": "stdout",
     "output_type": "stream",
     "text": [
      "(2000, 'Omar')\n",
      "(1500, 'Omar')\n"
     ]
    }
   ],
   "source": [
    "myObj = BankAccount('Omar', 1000)\n",
    "myObj.deposit(1000)\n",
    "print(myObj.getBalance())\n",
    "myObj.withdraw(500)\n",
    "print(myObj.getBalance())"
   ]
  },
  {
   "cell_type": "code",
   "execution_count": 10,
   "id": "32276c08",
   "metadata": {},
   "outputs": [],
   "source": [
    "# myObj._BankAccount__name = \"aa\""
   ]
  },
  {
   "cell_type": "code",
   "execution_count": 12,
   "id": "a340d46a",
   "metadata": {},
   "outputs": [],
   "source": [
    "# print(myObj.getBalance())"
   ]
  },
  {
   "cell_type": "code",
   "execution_count": null,
   "id": "4298b2d4",
   "metadata": {},
   "outputs": [],
   "source": []
  }
 ],
 "metadata": {
  "kernelspec": {
   "display_name": "Python 3 (ipykernel)",
   "language": "python",
   "name": "python3"
  },
  "language_info": {
   "codemirror_mode": {
    "name": "ipython",
    "version": 3
   },
   "file_extension": ".py",
   "mimetype": "text/x-python",
   "name": "python",
   "nbconvert_exporter": "python",
   "pygments_lexer": "ipython3",
   "version": "3.10.9"
  }
 },
 "nbformat": 4,
 "nbformat_minor": 5
}
