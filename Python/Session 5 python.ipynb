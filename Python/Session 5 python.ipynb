{
 "cells": [
  {
   "cell_type": "markdown",
   "id": "d2985f71",
   "metadata": {},
   "source": [
    "# Agenda \n",
    "    OOP Examples \n",
    "    New info about OOP\n",
    "    Inheritance in oop \n",
    "    Examples on python "
   ]
  },
  {
   "cell_type": "code",
   "execution_count": 18,
   "id": "df7d3d62",
   "metadata": {},
   "outputs": [],
   "source": [
    "class Dog:\n",
    "    #class attribute \n",
    "    n_dog = 0\n",
    "    def __init__(self , name , age):\n",
    "        #instance attribute \n",
    "        self.__name = name \n",
    "        self.__age  = age\n",
    "        Dog.n_dog += 1\n",
    "    #instance method\n",
    "    def speak(self):\n",
    "        return f\"my name is {self.__name} and my age is {self.__age}\"\n",
    "    #class method\n",
    "    @classmethod\n",
    "    def nofdog(cls):\n",
    "        return f\"number of Dogs= {cls.n_dog}\"\n",
    "    #static method\n",
    "    @staticmethod\n",
    "    def time(distance , speed):\n",
    "        return f\"time = {distance/speed}\""
   ]
  },
  {
   "cell_type": "code",
   "execution_count": 19,
   "id": "4c29104e",
   "metadata": {},
   "outputs": [],
   "source": [
    "d1 = Dog(\"jack\" , 2)"
   ]
  },
  {
   "cell_type": "code",
   "execution_count": 20,
   "id": "66de1368",
   "metadata": {},
   "outputs": [],
   "source": [
    "# d1._Dog__name"
   ]
  },
  {
   "cell_type": "code",
   "execution_count": 21,
   "id": "052242ad",
   "metadata": {},
   "outputs": [],
   "source": [
    "# d1._Dog__age"
   ]
  },
  {
   "cell_type": "code",
   "execution_count": 22,
   "id": "2fb73c53",
   "metadata": {},
   "outputs": [
    {
     "data": {
      "text/plain": [
       "'my name is jack and my age is 2'"
      ]
     },
     "execution_count": 22,
     "metadata": {},
     "output_type": "execute_result"
    }
   ],
   "source": [
    "d1.speak()"
   ]
  },
  {
   "cell_type": "code",
   "execution_count": 23,
   "id": "c2bb1b9c",
   "metadata": {},
   "outputs": [],
   "source": [
    "d2 = Dog(\"jack2\" , 3)\n",
    "d3 = Dog(\"jack3\" , 4)"
   ]
  },
  {
   "cell_type": "code",
   "execution_count": 24,
   "id": "d222d4bc",
   "metadata": {},
   "outputs": [
    {
     "name": "stdout",
     "output_type": "stream",
     "text": [
      "my name is jack and my age is 2\n",
      "my name is jack2 and my age is 3\n",
      "my name is jack3 and my age is 4\n"
     ]
    }
   ],
   "source": [
    "print(d1.speak())\n",
    "print(d2.speak())\n",
    "print(d3.speak())"
   ]
  },
  {
   "cell_type": "code",
   "execution_count": 25,
   "id": "9cd23f3e",
   "metadata": {},
   "outputs": [
    {
     "data": {
      "text/plain": [
       "'number of Dogs= 3'"
      ]
     },
     "execution_count": 25,
     "metadata": {},
     "output_type": "execute_result"
    }
   ],
   "source": [
    "Dog.nofdog()"
   ]
  },
  {
   "cell_type": "code",
   "execution_count": 27,
   "id": "b4e84a46",
   "metadata": {},
   "outputs": [
    {
     "data": {
      "text/plain": [
       "'time = 4.0'"
      ]
     },
     "execution_count": 27,
     "metadata": {},
     "output_type": "execute_result"
    }
   ],
   "source": [
    "d1.time(20,5)"
   ]
  },
  {
   "cell_type": "code",
   "execution_count": 85,
   "id": "227b87ad",
   "metadata": {},
   "outputs": [],
   "source": [
    "class ShoppingCart:\n",
    "                             \n",
    "    def __init__(self):\n",
    "        self.items = []     #[(\"apple\" , 50) ,(\"orange\" , 20) , (\"k\" , 40) ]\n",
    "    #instance method\n",
    "    def add_item(self ,item , price):\n",
    "        if isinstance(item , str):\n",
    "            self.items.append((item , price))\n",
    "            print(f\"Done! number of item/s is {len(self.items)}\")\n",
    "        else:\n",
    "            print(f\"please check your item! {item}\")\n",
    "\n",
    "    \n",
    "    #instance method\n",
    "    def remove_item(self , item):\n",
    "        l = len(self.items)\n",
    "        for i in self.items:\n",
    "            if i[0] ==   item:\n",
    "                self.items.remove(i)\n",
    "        if l != len(self.items):\n",
    "            print(f\"Done! number of item/s is {len(self.items)}\")\n",
    "        else:\n",
    "            print(\"Check Again!\")\n",
    "    #instance method\n",
    "    def total_price(self):\n",
    "        s = 0 \n",
    "        for i in self.items:\n",
    "            s += i[1] \n",
    "        return f\"total_price = {s} \"\n",
    "    def info(self):\n",
    "        for i in self.items:\n",
    "            print(f\"item name: {i[0]} , price: {i[1]}\")"
   ]
  },
  {
   "cell_type": "code",
   "execution_count": 87,
   "id": "2356bac3",
   "metadata": {},
   "outputs": [
    {
     "name": "stdout",
     "output_type": "stream",
     "text": [
      "Done! number of item/s is 1\n"
     ]
    }
   ],
   "source": [
    "person1 = ShoppingCart()\n",
    "person1.add_item(\"orange\" , 20)"
   ]
  },
  {
   "cell_type": "code",
   "execution_count": 73,
   "id": "d9994dad",
   "metadata": {},
   "outputs": [
    {
     "name": "stdout",
     "output_type": "stream",
     "text": [
      "Done! number of item/s is 2\n"
     ]
    }
   ],
   "source": [
    "person1.add_item(\"apple\" , 50)"
   ]
  },
  {
   "cell_type": "code",
   "execution_count": 74,
   "id": "8ca81a3e",
   "metadata": {},
   "outputs": [
    {
     "name": "stdout",
     "output_type": "stream",
     "text": [
      "Done! number of item/s is 3\n"
     ]
    }
   ],
   "source": [
    "person1.add_item(\"k\" , 40)"
   ]
  },
  {
   "cell_type": "code",
   "execution_count": 75,
   "id": "81105a60",
   "metadata": {},
   "outputs": [
    {
     "name": "stdout",
     "output_type": "stream",
     "text": [
      "Check Again!\n"
     ]
    }
   ],
   "source": [
    "person1.remove_item(\"orange\")"
   ]
  },
  {
   "cell_type": "code",
   "execution_count": 76,
   "id": "c6310545",
   "metadata": {},
   "outputs": [
    {
     "data": {
      "text/plain": [
       "'total_price = 110 '"
      ]
     },
     "execution_count": 76,
     "metadata": {},
     "output_type": "execute_result"
    }
   ],
   "source": [
    "person1.total_price()"
   ]
  },
  {
   "cell_type": "code",
   "execution_count": 77,
   "id": "ac8c05ec",
   "metadata": {},
   "outputs": [
    {
     "name": "stdout",
     "output_type": "stream",
     "text": [
      "item name: 2 , price: 20\n",
      "item name: apple , price: 50\n",
      "item name: k , price: 40\n"
     ]
    }
   ],
   "source": [
    "person1.info()"
   ]
  },
  {
   "cell_type": "code",
   "execution_count": 84,
   "id": "df6a50c6",
   "metadata": {},
   "outputs": [
    {
     "name": "stdout",
     "output_type": "stream",
     "text": [
      "False\n"
     ]
    }
   ],
   "source": [
    "if isinstance(1 , str):\n",
    "    print(True)\n",
    "else:\n",
    "    print(False)"
   ]
  },
  {
   "cell_type": "code",
   "execution_count": 88,
   "id": "0e6df35f",
   "metadata": {},
   "outputs": [],
   "source": [
    "# parent\n",
    "class Person:\n",
    "    def __init__(self , name , age ):\n",
    "        self.name = name \n",
    "        self.age = age\n",
    "        \n",
    "    #instance method\n",
    "    def info(self):\n",
    "        return f\"my name is {self.name} and my age is {self.age}\""
   ]
  },
  {
   "cell_type": "code",
   "execution_count": 89,
   "id": "51c23f74",
   "metadata": {},
   "outputs": [],
   "source": [
    "p1 = Person(\"Mohamed\" , 30)"
   ]
  },
  {
   "cell_type": "code",
   "execution_count": 90,
   "id": "80117031",
   "metadata": {},
   "outputs": [
    {
     "data": {
      "text/plain": [
       "'my name is Mohamed and my age is 30'"
      ]
     },
     "execution_count": 90,
     "metadata": {},
     "output_type": "execute_result"
    }
   ],
   "source": [
    "p1.info()"
   ]
  },
  {
   "cell_type": "code",
   "execution_count": 117,
   "id": "0f2018b1",
   "metadata": {},
   "outputs": [],
   "source": [
    "# child\n",
    "class Students(Person):\n",
    "    def __init__(self , name ,age , n_courses ):\n",
    "        self.n_courses = n_courses\n",
    "        Person.__init__(self , name , age )\n",
    "    def info(self):\n",
    "        return f\"my name is {self.name} and my age is {self.age} , and number of courses is {self.n_courses} \""
   ]
  },
  {
   "cell_type": "code",
   "execution_count": 119,
   "id": "f3eaffb7",
   "metadata": {},
   "outputs": [],
   "source": [
    "s1 = Students(\"Ahmed\" , 20  , 5)"
   ]
  },
  {
   "cell_type": "code",
   "execution_count": 120,
   "id": "9713326b",
   "metadata": {},
   "outputs": [
    {
     "data": {
      "text/plain": [
       "'my name is Mohamed and my age is 30'"
      ]
     },
     "execution_count": 120,
     "metadata": {},
     "output_type": "execute_result"
    }
   ],
   "source": [
    "p1.info()"
   ]
  },
  {
   "cell_type": "code",
   "execution_count": 121,
   "id": "696b10e1",
   "metadata": {},
   "outputs": [
    {
     "data": {
      "text/plain": [
       "'my name is Ahmed and my age is 20 , and number of courses is 5 '"
      ]
     },
     "execution_count": 121,
     "metadata": {},
     "output_type": "execute_result"
    }
   ],
   "source": [
    "s1.info()"
   ]
  },
  {
   "cell_type": "code",
   "execution_count": 122,
   "id": "fa752d7b",
   "metadata": {},
   "outputs": [],
   "source": [
    "# magic method in oop "
   ]
  },
  {
   "cell_type": "code",
   "execution_count": 164,
   "id": "beea2c00",
   "metadata": {},
   "outputs": [],
   "source": [
    "class Employee:\n",
    "    def __init__(self , fname , lname , salary):\n",
    "        self.fname = fname\n",
    "        self.lname = lname\n",
    "        self.salary = salary\n",
    "    def __str__(self):\n",
    "        return f\"Full Name: {self.fname} {self.lname}\"\n",
    "    def __int__(self):\n",
    "        return self.salary\n",
    "    def __add__(self , other):\n",
    "        return self.salary + other.salary\n",
    "    def __mul__(self , other):\n",
    "        return self.salary * other.salary\n",
    "    def __len__(self):\n",
    "        return len(self.fname + self.lname)"
   ]
  },
  {
   "cell_type": "code",
   "execution_count": 165,
   "id": "8a635c74",
   "metadata": {},
   "outputs": [],
   "source": [
    "mohamed = Employee(\"Mohamed\" , \"Sayed\" , 10000)\n",
    "ahmed   = Employee(\"Ahmed\" , \"Salem\" , 15000)"
   ]
  },
  {
   "cell_type": "code",
   "execution_count": 166,
   "id": "9234e6e3",
   "metadata": {},
   "outputs": [
    {
     "name": "stdout",
     "output_type": "stream",
     "text": [
      "Full Name: Mohamed Sayed\n",
      "Full Name: Ahmed Salem\n"
     ]
    }
   ],
   "source": [
    "print(mohamed)\n",
    "print(ahmed)"
   ]
  },
  {
   "cell_type": "code",
   "execution_count": 167,
   "id": "67232b59",
   "metadata": {},
   "outputs": [
    {
     "data": {
      "text/plain": [
       "'Full Name: Mohamed Sayed'"
      ]
     },
     "execution_count": 167,
     "metadata": {},
     "output_type": "execute_result"
    }
   ],
   "source": [
    "str(mohamed)"
   ]
  },
  {
   "cell_type": "code",
   "execution_count": 168,
   "id": "05fcade9",
   "metadata": {},
   "outputs": [
    {
     "data": {
      "text/plain": [
       "'Full Name: Ahmed Salem'"
      ]
     },
     "execution_count": 168,
     "metadata": {},
     "output_type": "execute_result"
    }
   ],
   "source": [
    "str(ahmed)"
   ]
  },
  {
   "cell_type": "code",
   "execution_count": 169,
   "id": "ef4e8ce7",
   "metadata": {},
   "outputs": [
    {
     "name": "stdout",
     "output_type": "stream",
     "text": [
      "15000\n"
     ]
    }
   ],
   "source": [
    "print(int(ahmed))"
   ]
  },
  {
   "cell_type": "code",
   "execution_count": 170,
   "id": "703b7b79",
   "metadata": {},
   "outputs": [
    {
     "name": "stdout",
     "output_type": "stream",
     "text": [
      "25000\n"
     ]
    }
   ],
   "source": [
    "print(ahmed + mohamed)"
   ]
  },
  {
   "cell_type": "code",
   "execution_count": 171,
   "id": "5af99fa9",
   "metadata": {},
   "outputs": [
    {
     "name": "stdout",
     "output_type": "stream",
     "text": [
      "150000000\n"
     ]
    }
   ],
   "source": [
    "print(ahmed * mohamed)"
   ]
  },
  {
   "cell_type": "code",
   "execution_count": 172,
   "id": "a33a7f25",
   "metadata": {},
   "outputs": [
    {
     "name": "stdout",
     "output_type": "stream",
     "text": [
      "10\n"
     ]
    }
   ],
   "source": [
    "print(len(ahmed))"
   ]
  },
  {
   "cell_type": "code",
   "execution_count": 203,
   "id": "966137df",
   "metadata": {},
   "outputs": [],
   "source": [
    "class MyList:\n",
    "    def __init__(self):\n",
    "        self.data = []\n",
    "    def append(self , item):\n",
    "        self.data.append(item)\n",
    "    def __getitem__(self , index):\n",
    "        return self.data[index]\n",
    "    def __setitem__(self ,index , value ):\n",
    "        self.data[index] = value\n",
    "    def __len__(self):\n",
    "        return len(self.data)"
   ]
  },
  {
   "cell_type": "code",
   "execution_count": 204,
   "id": "2d8a5f4b",
   "metadata": {},
   "outputs": [],
   "source": [
    "lst1 = MyList()\n",
    "lst1.append(10)\n",
    "lst1.append(12)"
   ]
  },
  {
   "cell_type": "code",
   "execution_count": 205,
   "id": "86fed417",
   "metadata": {},
   "outputs": [
    {
     "data": {
      "text/plain": [
       "[10, 12]"
      ]
     },
     "execution_count": 205,
     "metadata": {},
     "output_type": "execute_result"
    }
   ],
   "source": [
    "lst1.data"
   ]
  },
  {
   "cell_type": "code",
   "execution_count": 206,
   "id": "765a2485",
   "metadata": {},
   "outputs": [],
   "source": [
    "lst1[1] = 100"
   ]
  },
  {
   "cell_type": "code",
   "execution_count": 207,
   "id": "3e6c4e92",
   "metadata": {},
   "outputs": [
    {
     "data": {
      "text/plain": [
       "100"
      ]
     },
     "execution_count": 207,
     "metadata": {},
     "output_type": "execute_result"
    }
   ],
   "source": [
    "lst1[1]"
   ]
  },
  {
   "cell_type": "code",
   "execution_count": 208,
   "id": "53ba853f",
   "metadata": {},
   "outputs": [
    {
     "name": "stdout",
     "output_type": "stream",
     "text": [
      "2\n"
     ]
    }
   ],
   "source": [
    "print(len(lst1))"
   ]
  },
  {
   "cell_type": "code",
   "execution_count": 209,
   "id": "a6fe8c0b",
   "metadata": {},
   "outputs": [],
   "source": [
    "lst = list()"
   ]
  },
  {
   "cell_type": "code",
   "execution_count": 211,
   "id": "8cc256c7",
   "metadata": {},
   "outputs": [],
   "source": [
    "lst.append(12)"
   ]
  },
  {
   "cell_type": "code",
   "execution_count": 212,
   "id": "e760c583",
   "metadata": {},
   "outputs": [
    {
     "data": {
      "text/plain": [
       "[12]"
      ]
     },
     "execution_count": 212,
     "metadata": {},
     "output_type": "execute_result"
    }
   ],
   "source": [
    "lst"
   ]
  },
  {
   "cell_type": "code",
   "execution_count": 213,
   "id": "6cfa3a44",
   "metadata": {},
   "outputs": [
    {
     "data": {
      "text/plain": [
       "1"
      ]
     },
     "execution_count": 213,
     "metadata": {},
     "output_type": "execute_result"
    }
   ],
   "source": [
    "len(lst)"
   ]
  },
  {
   "cell_type": "code",
   "execution_count": null,
   "id": "d4da5b23",
   "metadata": {},
   "outputs": [],
   "source": [
    "class BankAccount:\n",
    "    n_account ??\n",
    "            #instance attribute \n",
    "             self.name \n",
    "             self.balance = balance\n",
    "                \n",
    "    #instance method\n",
    "    deposit(self , amount)  \n",
    "    withdraw(self , amount)   \n",
    "    get_balance(self)\n",
    "    \n",
    "    \n",
    "1 >> create new account\n",
    "2 >> login\n",
    "\n",
    "1 (username , password) , full_name , balance \n",
    "\n",
    "    1 >> deposit(self , amount)  \n",
    "    2 >> withdraw(self , amount)   \n",
    "    3 >> get_balance(self)\n",
    "    4 >> logout\n",
    "    \n",
    "       4 logout >> \n",
    "           1 >> create new account\n",
    "           2 >> login        "
   ]
  }
 ],
 "metadata": {
  "kernelspec": {
   "display_name": "Python 3 (ipykernel)",
   "language": "python",
   "name": "python3"
  },
  "language_info": {
   "codemirror_mode": {
    "name": "ipython",
    "version": 3
   },
   "file_extension": ".py",
   "mimetype": "text/x-python",
   "name": "python",
   "nbconvert_exporter": "python",
   "pygments_lexer": "ipython3",
   "version": "3.10.9"
  }
 },
 "nbformat": 4,
 "nbformat_minor": 5
}
