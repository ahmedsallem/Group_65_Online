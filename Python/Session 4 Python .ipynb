{
 "cells": [
  {
   "cell_type": "code",
   "execution_count": 30,
   "id": "fbc9809d",
   "metadata": {},
   "outputs": [],
   "source": [
    "# Agenda \n",
    "#     file handling \n",
    "#     OOP "
   ]
  },
  {
   "cell_type": "code",
   "execution_count": 32,
   "id": "3d1dbd49",
   "metadata": {},
   "outputs": [],
   "source": [
    "# How to add two matrices (X and Y) and save the output in variable name \"result\"?\n",
    "\n",
    "X = [[12,7,3],[4 ,5,6],[7 ,8,9]]\n",
    "\n",
    "Y = [[5,8,1],[6,7,3],[4,5,9]]\n",
    "\n",
    "result = [[0,0,0],[0,0,0],[0,0,0]]"
   ]
  },
  {
   "cell_type": "code",
   "execution_count": 39,
   "id": "6f2ceaaf",
   "metadata": {},
   "outputs": [
    {
     "name": "stdout",
     "output_type": "stream",
     "text": [
      "[17, 15, 4]\n",
      "[10, 12, 9]\n",
      "[11, 13, 18]\n"
     ]
    }
   ],
   "source": [
    "for i in range(len(Y)):   #i = 0 , 1  , 2 \n",
    "    for j in range(len(X[0])):  #i = 0 , j = 0 , 1  , 2  , i = 1 , j = 0 , 1 , 2  , i = 2 j = 0 ,1 ,2 \n",
    "        result[i][j]=X[i][j] + Y[i][j]        \n",
    "for i in result:\n",
    "    print(i)\n",
    "# print(result)"
   ]
  },
  {
   "cell_type": "code",
   "execution_count": 40,
   "id": "24354bf8",
   "metadata": {},
   "outputs": [
    {
     "data": {
      "text/plain": [
       "[[17, 15, 4], [10, 12, 9], [11, 13, 18]]"
      ]
     },
     "execution_count": 40,
     "metadata": {},
     "output_type": "execute_result"
    }
   ],
   "source": [
    "[[X[i][j] + Y[i][j] for j in range(len(X[0]))] for i in range(len(X))]"
   ]
  },
  {
   "cell_type": "code",
   "execution_count": 43,
   "id": "b0cbef9c",
   "metadata": {},
   "outputs": [],
   "source": [
    "X = [[12,7,3],\n",
    "     [4 ,5,6],\n",
    "     [7 ,8,9], \n",
    "     [3,4,5]]\n",
    "\n",
    "result =[[0  , 0 , 0 , 0 ],\n",
    "         [0  , 0 , 0 , 0 ],\n",
    "         [0  , 0 , 0 , 0 ]]\n"
   ]
  },
  {
   "cell_type": "code",
   "execution_count": 47,
   "id": "e5b3c6e8",
   "metadata": {},
   "outputs": [
    {
     "name": "stdout",
     "output_type": "stream",
     "text": [
      "[12, 4, 7, 3]\n",
      "[7, 5, 8, 4]\n",
      "[3, 6, 9, 5]\n"
     ]
    }
   ],
   "source": [
    "for i in range(len(X)):   \n",
    "    for j in range(len(X[0])):  \n",
    "        result[j][i]=X[i][j] \n",
    "        \n",
    "for i in result:\n",
    "    print(i)\n",
    "# print(result)"
   ]
  },
  {
   "cell_type": "code",
   "execution_count": 48,
   "id": "5c95d451",
   "metadata": {},
   "outputs": [
    {
     "data": {
      "text/plain": [
       "'my name is amit'"
      ]
     },
     "execution_count": 48,
     "metadata": {},
     "output_type": "execute_result"
    }
   ],
   "source": [
    "f = open(\"test.txt\" , \"r\")\n",
    "f.read()"
   ]
  },
  {
   "cell_type": "code",
   "execution_count": 49,
   "id": "8a68ca66",
   "metadata": {},
   "outputs": [
    {
     "ename": "UnsupportedOperation",
     "evalue": "not writable",
     "output_type": "error",
     "traceback": [
      "\u001b[1;31m---------------------------------------------------------------------------\u001b[0m",
      "\u001b[1;31mUnsupportedOperation\u001b[0m                      Traceback (most recent call last)",
      "Cell \u001b[1;32mIn[49], line 1\u001b[0m\n\u001b[1;32m----> 1\u001b[0m \u001b[43mf\u001b[49m\u001b[38;5;241;43m.\u001b[39;49m\u001b[43mwrite\u001b[49m\u001b[43m(\u001b[49m\u001b[38;5;124;43m\"\u001b[39;49m\u001b[38;5;124;43mmy age is 30\u001b[39;49m\u001b[38;5;124;43m\"\u001b[39;49m\u001b[43m)\u001b[49m\n",
      "\u001b[1;31mUnsupportedOperation\u001b[0m: not writable"
     ]
    }
   ],
   "source": [
    "f.write(\"my age is 30\")"
   ]
  },
  {
   "cell_type": "code",
   "execution_count": 50,
   "id": "1c3901d9",
   "metadata": {},
   "outputs": [],
   "source": [
    "f = open(\"test.txt\" , \"a\")"
   ]
  },
  {
   "cell_type": "code",
   "execution_count": 51,
   "id": "55678d05",
   "metadata": {},
   "outputs": [
    {
     "data": {
      "text/plain": [
       "13"
      ]
     },
     "execution_count": 51,
     "metadata": {},
     "output_type": "execute_result"
    }
   ],
   "source": [
    "f.write(\"\\nmy age is 30\")"
   ]
  },
  {
   "cell_type": "code",
   "execution_count": 52,
   "id": "a56321bd",
   "metadata": {},
   "outputs": [],
   "source": [
    "f.close()"
   ]
  },
  {
   "cell_type": "code",
   "execution_count": 53,
   "id": "e4501dc8",
   "metadata": {},
   "outputs": [],
   "source": [
    "f = open(\"test.txt\" , \"w\")  "
   ]
  },
  {
   "cell_type": "code",
   "execution_count": 54,
   "id": "b63de8b1",
   "metadata": {},
   "outputs": [
    {
     "data": {
      "text/plain": [
       "8"
      ]
     },
     "execution_count": 54,
     "metadata": {},
     "output_type": "execute_result"
    }
   ],
   "source": [
    "f.write(\"........\")"
   ]
  },
  {
   "cell_type": "code",
   "execution_count": 55,
   "id": "2d7b38ca",
   "metadata": {},
   "outputs": [],
   "source": [
    "f.close()"
   ]
  },
  {
   "cell_type": "code",
   "execution_count": 66,
   "id": "ac38d2c7",
   "metadata": {},
   "outputs": [],
   "source": [
    "f = open(\"task.txt\" , \"r\")   # read "
   ]
  },
  {
   "cell_type": "code",
   "execution_count": 60,
   "id": "71debb44",
   "metadata": {},
   "outputs": [],
   "source": [
    "f = open(\"task.txt\" , \"w\")  #create new file "
   ]
  },
  {
   "cell_type": "code",
   "execution_count": 61,
   "id": "6a29872b",
   "metadata": {},
   "outputs": [],
   "source": [
    "f = open(\"task2.txt\" , \"a\")"
   ]
  },
  {
   "cell_type": "code",
   "execution_count": 62,
   "id": "7cefdff2",
   "metadata": {},
   "outputs": [
    {
     "data": {
      "text/plain": [
       "15"
      ]
     },
     "execution_count": 62,
     "metadata": {},
     "output_type": "execute_result"
    }
   ],
   "source": [
    "f.write(\"my name is amit\")"
   ]
  },
  {
   "cell_type": "code",
   "execution_count": 63,
   "id": "31903156",
   "metadata": {},
   "outputs": [],
   "source": [
    "f.close()"
   ]
  },
  {
   "cell_type": "code",
   "execution_count": 64,
   "id": "517686c3",
   "metadata": {},
   "outputs": [],
   "source": [
    "f = open(\"task2.txt\" , \"a\") # create ,append"
   ]
  },
  {
   "cell_type": "code",
   "execution_count": 70,
   "id": "42fc39ad",
   "metadata": {},
   "outputs": [],
   "source": [
    "f = open(\"task2_2.txt\" , \"x\")"
   ]
  },
  {
   "cell_type": "code",
   "execution_count": 77,
   "id": "65e5fc4b",
   "metadata": {},
   "outputs": [
    {
     "name": "stdout",
     "output_type": "stream",
     "text": [
      "my name is amit\n",
      "انا اسمي اميت \n"
     ]
    }
   ],
   "source": [
    "with open(\"task2.txt\" , encoding=\"utf-8\") as f :\n",
    "    print(f.read())"
   ]
  },
  {
   "cell_type": "code",
   "execution_count": 82,
   "id": "c6f45d01",
   "metadata": {},
   "outputs": [],
   "source": [
    "f = open(\"task2.txt\" , \"r+\") "
   ]
  },
  {
   "cell_type": "code",
   "execution_count": 83,
   "id": "b11cbfee",
   "metadata": {},
   "outputs": [
    {
     "data": {
      "text/plain": [
       "'my name is amit'"
      ]
     },
     "execution_count": 83,
     "metadata": {},
     "output_type": "execute_result"
    }
   ],
   "source": [
    "f.read()"
   ]
  },
  {
   "cell_type": "code",
   "execution_count": 84,
   "id": "0b69045e",
   "metadata": {},
   "outputs": [
    {
     "data": {
      "text/plain": [
       "14"
      ]
     },
     "execution_count": 84,
     "metadata": {},
     "output_type": "execute_result"
    }
   ],
   "source": [
    "f.write(\"\\nmy age is 30 \")"
   ]
  },
  {
   "cell_type": "code",
   "execution_count": 85,
   "id": "34b1ff5d",
   "metadata": {},
   "outputs": [],
   "source": [
    "f.close()"
   ]
  },
  {
   "cell_type": "code",
   "execution_count": 86,
   "id": "c704da25",
   "metadata": {},
   "outputs": [
    {
     "data": {
      "text/plain": [
       "['my name is amit', 'my age is 30 ']"
      ]
     },
     "execution_count": 86,
     "metadata": {},
     "output_type": "execute_result"
    }
   ],
   "source": [
    "[\"my name is amit\", \"my age is 30 \"]"
   ]
  },
  {
   "cell_type": "code",
   "execution_count": 87,
   "id": "8116d954",
   "metadata": {},
   "outputs": [],
   "source": [
    "x= \"amit\\n\""
   ]
  },
  {
   "cell_type": "code",
   "execution_count": 88,
   "id": "6d4668b4",
   "metadata": {},
   "outputs": [
    {
     "data": {
      "text/plain": [
       "'amit'"
      ]
     },
     "execution_count": 88,
     "metadata": {},
     "output_type": "execute_result"
    }
   ],
   "source": [
    "x.strip()"
   ]
  },
  {
   "cell_type": "code",
   "execution_count": 90,
   "id": "6d6517ca",
   "metadata": {},
   "outputs": [],
   "source": [
    "# Task\n",
    "# [1,1,1,1,,4,5,6,7,6,5,4,3,2]\n",
    "# odd >> 1,1,1,5,7,3\n",
    "# even>> 4,6,4,2\n",
    "# f.write()"
   ]
  },
  {
   "cell_type": "code",
   "execution_count": 96,
   "id": "bba3af3e",
   "metadata": {},
   "outputs": [],
   "source": [
    "with open(\"task2.txt\" , encoding=\"utf-8\") as f :\n",
    "    x = f.readlines()"
   ]
  },
  {
   "cell_type": "code",
   "execution_count": 97,
   "id": "3079d855",
   "metadata": {},
   "outputs": [
    {
     "name": "stdout",
     "output_type": "stream",
     "text": [
      "my name is amit\n",
      "my age is 30\n"
     ]
    }
   ],
   "source": [
    "for i in x :\n",
    "    print(i.strip())"
   ]
  },
  {
   "cell_type": "markdown",
   "id": "3bd1104f",
   "metadata": {},
   "source": [
    "## OOP"
   ]
  },
  {
   "cell_type": "code",
   "execution_count": 99,
   "id": "9295f90a",
   "metadata": {},
   "outputs": [],
   "source": [
    "class Cars:\n",
    "    pass"
   ]
  },
  {
   "cell_type": "code",
   "execution_count": 100,
   "id": "95e0c8f9",
   "metadata": {},
   "outputs": [],
   "source": [
    "# object \n",
    "car1 = Cars()"
   ]
  },
  {
   "cell_type": "code",
   "execution_count": 102,
   "id": "6e577976",
   "metadata": {},
   "outputs": [],
   "source": [
    "car2 = Cars()"
   ]
  },
  {
   "cell_type": "code",
   "execution_count": 170,
   "id": "c9f39f49",
   "metadata": {},
   "outputs": [],
   "source": [
    "class Cars:\n",
    "    #class attribute\n",
    "    counter = 0\n",
    "    #Constructor \n",
    "    def __init__(self , name , age , color):\n",
    "        #instance attribute\n",
    "        self.namee = name\n",
    "        self.agee  = age\n",
    "        self.colorr= color\n",
    "        Cars.counter += 1 \n",
    "    #instance method \n",
    "    def show(self):   \n",
    "        print(f\"Car name is {self.namee} \")\n",
    "        print(f\"Car age is {self.agee}\")\n",
    "        print(f\"Car color is {self.colorr}\")    \n",
    "    #class method\n",
    "    @classmethod\n",
    "    def number_of_cars(cls):\n",
    "        print(f\"The number of Cars is {cls.counter}\")\n",
    "    #static method\n",
    "    @staticmethod\n",
    "    def time(distance , speed):\n",
    "        return f\"time = {distance / speed}\"\n",
    "    \n",
    "    def __str__(self):\n",
    "        return f\"{self.namee}\""
   ]
  },
  {
   "cell_type": "code",
   "execution_count": 171,
   "id": "cdd7c213",
   "metadata": {},
   "outputs": [],
   "source": [
    "car1 =Cars(\"BMW\" , 4 , \"red\")\n",
    "car2 =Cars(\"FIAT\" , 2 , \"black\")\n",
    "car3 =Cars(\"MER\" , 15 , \"blue\")"
   ]
  },
  {
   "cell_type": "code",
   "execution_count": 172,
   "id": "72a580e3",
   "metadata": {},
   "outputs": [
    {
     "name": "stdout",
     "output_type": "stream",
     "text": [
      "BMW\n"
     ]
    }
   ],
   "source": [
    "print(car1)"
   ]
  },
  {
   "cell_type": "code",
   "execution_count": null,
   "id": "48bb2a88",
   "metadata": {},
   "outputs": [],
   "source": []
  },
  {
   "cell_type": "code",
   "execution_count": 157,
   "id": "86957b31",
   "metadata": {},
   "outputs": [
    {
     "name": "stdout",
     "output_type": "stream",
     "text": [
      "Car name is BMW \n",
      "Car age is 4\n",
      "Car color is red\n"
     ]
    }
   ],
   "source": [
    "car1.show()"
   ]
  },
  {
   "cell_type": "code",
   "execution_count": 160,
   "id": "6ad5fc00",
   "metadata": {},
   "outputs": [
    {
     "name": "stdout",
     "output_type": "stream",
     "text": [
      "Car name is FIAT \n",
      "Car age is 2\n",
      "Car color is black\n"
     ]
    }
   ],
   "source": [
    "car2.show()"
   ]
  },
  {
   "cell_type": "code",
   "execution_count": 161,
   "id": "9631f48d",
   "metadata": {},
   "outputs": [
    {
     "name": "stdout",
     "output_type": "stream",
     "text": [
      "Car name is MER \n",
      "Car age is 15\n",
      "Car color is blue\n"
     ]
    }
   ],
   "source": [
    "car3.show()"
   ]
  },
  {
   "cell_type": "code",
   "execution_count": 162,
   "id": "22e2e821",
   "metadata": {},
   "outputs": [
    {
     "name": "stdout",
     "output_type": "stream",
     "text": [
      "The number of Cars is 3\n"
     ]
    }
   ],
   "source": [
    "car1.number_of_cars()"
   ]
  },
  {
   "cell_type": "code",
   "execution_count": 163,
   "id": "8eb739dd",
   "metadata": {},
   "outputs": [
    {
     "data": {
      "text/plain": [
       "'time = 4.0'"
      ]
     },
     "execution_count": 163,
     "metadata": {},
     "output_type": "execute_result"
    }
   ],
   "source": [
    "car1.time(1000 , 250)"
   ]
  },
  {
   "cell_type": "code",
   "execution_count": null,
   "id": "e6e2ec5f",
   "metadata": {},
   "outputs": [],
   "source": [
    "# Students \n",
    "#         name\n",
    "#         age\n",
    "#         address\n",
    "#         ncourses\n",
    "#     #instan cemethod\n",
    "#     info(self):\n",
    "#     #class attribute\n",
    "#     nstudents\n",
    "#     @classmethod\n",
    "#     n_student(cls):\n",
    "    \n",
    "#     @staticmethod\n",
    "#     score(lst):\n",
    "#         return sum(lst)\n"
   ]
  },
  {
   "cell_type": "code",
   "execution_count": 184,
   "id": "9b9c71bc",
   "metadata": {},
   "outputs": [],
   "source": [
    "class Cars:\n",
    " \n",
    "    def __init__(self , name , age , color):\n",
    "        #instance attribute\n",
    "        self.__namee = name\n",
    "        self.__agee  = age\n",
    "        self.__colorr= color\n",
    " \n",
    "    #instance method \n",
    "    def show(self):   \n",
    "        print(f\"Car name is {self.__namee} \")\n",
    "        print(f\"Car age is {self.__agee}\")\n",
    "        print(f\"Car color is {self.__colorr}\")    \n"
   ]
  },
  {
   "cell_type": "code",
   "execution_count": 185,
   "id": "7435eaf6",
   "metadata": {},
   "outputs": [],
   "source": [
    "car1 =Cars(\"BMW\" , 4 , \"red\")\n",
    "car2 =Cars(\"FIAT\" , 2 , \"black\")\n",
    "car3 =Cars(\"MER\" , 15 , \"blue\")"
   ]
  },
  {
   "cell_type": "code",
   "execution_count": 189,
   "id": "6cea15c9",
   "metadata": {},
   "outputs": [
    {
     "data": {
      "text/plain": [
       "'amit'"
      ]
     },
     "execution_count": 189,
     "metadata": {},
     "output_type": "execute_result"
    }
   ],
   "source": [
    "car1.__namee = \"amit\"\n",
    "car1.__namee"
   ]
  },
  {
   "cell_type": "code",
   "execution_count": 179,
   "id": "ceb2e365",
   "metadata": {},
   "outputs": [
    {
     "data": {
      "text/plain": [
       "2"
      ]
     },
     "execution_count": 179,
     "metadata": {},
     "output_type": "execute_result"
    }
   ],
   "source": [
    "car2.agee"
   ]
  },
  {
   "cell_type": "code",
   "execution_count": 182,
   "id": "5ab8f1b2",
   "metadata": {},
   "outputs": [],
   "source": [
    "car1.namee = \"amit\""
   ]
  },
  {
   "cell_type": "code",
   "execution_count": 190,
   "id": "9f8a2a27",
   "metadata": {},
   "outputs": [
    {
     "name": "stdout",
     "output_type": "stream",
     "text": [
      "Car name is BMW \n",
      "Car age is 4\n",
      "Car color is red\n"
     ]
    }
   ],
   "source": [
    "car1.show()"
   ]
  },
  {
   "cell_type": "code",
   "execution_count": 191,
   "id": "f93740d7",
   "metadata": {},
   "outputs": [
    {
     "name": "stdout",
     "output_type": "stream",
     "text": [
      "Car name is FIAT \n",
      "Car age is 2\n",
      "Car color is black\n"
     ]
    }
   ],
   "source": [
    "car2.show()"
   ]
  },
  {
   "cell_type": "code",
   "execution_count": 192,
   "id": "80e429d0",
   "metadata": {},
   "outputs": [
    {
     "ename": "AttributeError",
     "evalue": "'Cars' object has no attribute '__namee'",
     "output_type": "error",
     "traceback": [
      "\u001b[1;31m---------------------------------------------------------------------------\u001b[0m",
      "\u001b[1;31mAttributeError\u001b[0m                            Traceback (most recent call last)",
      "Cell \u001b[1;32mIn[192], line 1\u001b[0m\n\u001b[1;32m----> 1\u001b[0m \u001b[43mcar2\u001b[49m\u001b[38;5;241;43m.\u001b[39;49m\u001b[43m__namee\u001b[49m\n",
      "\u001b[1;31mAttributeError\u001b[0m: 'Cars' object has no attribute '__namee'"
     ]
    }
   ],
   "source": [
    "car2.__namee"
   ]
  },
  {
   "cell_type": "code",
   "execution_count": 193,
   "id": "3c332138",
   "metadata": {},
   "outputs": [
    {
     "data": {
      "text/plain": [
       "6"
      ]
     },
     "execution_count": 193,
     "metadata": {},
     "output_type": "execute_result"
    }
   ],
   "source": [
    "lst = [1,2,3]\n",
    "sum(lst)"
   ]
  },
  {
   "cell_type": "code",
   "execution_count": 194,
   "id": "eb933649",
   "metadata": {},
   "outputs": [
    {
     "data": {
      "text/plain": [
       "6"
      ]
     },
     "execution_count": 194,
     "metadata": {},
     "output_type": "execute_result"
    }
   ],
   "source": [
    "s = {1,2,3}\n",
    "sum(s)"
   ]
  },
  {
   "cell_type": "code",
   "execution_count": 195,
   "id": "0bfaf1bd",
   "metadata": {},
   "outputs": [
    {
     "data": {
      "text/plain": [
       "3"
      ]
     },
     "execution_count": 195,
     "metadata": {},
     "output_type": "execute_result"
    }
   ],
   "source": [
    "len(lst)"
   ]
  },
  {
   "cell_type": "code",
   "execution_count": 196,
   "id": "34376584",
   "metadata": {},
   "outputs": [
    {
     "data": {
      "text/plain": [
       "3"
      ]
     },
     "execution_count": 196,
     "metadata": {},
     "output_type": "execute_result"
    }
   ],
   "source": [
    "len(s)"
   ]
  },
  {
   "cell_type": "code",
   "execution_count": 197,
   "id": "0a5328bf",
   "metadata": {},
   "outputs": [
    {
     "data": {
      "text/plain": [
       "4"
      ]
     },
     "execution_count": 197,
     "metadata": {},
     "output_type": "execute_result"
    }
   ],
   "source": [
    "len(\"amit\")"
   ]
  },
  {
   "cell_type": "code",
   "execution_count": null,
   "id": "c5eacece",
   "metadata": {},
   "outputs": [],
   "source": [
    "# task2 \n",
    "#     class Calc:\n",
    "\n",
    "# class ShoppingCart:\n",
    "\n",
    "# items = [(\"orange\" , 40) , (\"apple\" , 50) ]\n",
    "# add_item(item , price):    items.append((item,price))  \"Done\"\n",
    "# remove_item(item): remove_item(\"orange\") >> items>> [(\"apple\" , 50) ]\n",
    "# total_price() >> sum(items[i][1])\n",
    "# info()>> orange 40\n",
    "#          apple  50 \n",
    "    "
   ]
  }
 ],
 "metadata": {
  "kernelspec": {
   "display_name": "Python 3 (ipykernel)",
   "language": "python",
   "name": "python3"
  },
  "language_info": {
   "codemirror_mode": {
    "name": "ipython",
    "version": 3
   },
   "file_extension": ".py",
   "mimetype": "text/x-python",
   "name": "python",
   "nbconvert_exporter": "python",
   "pygments_lexer": "ipython3",
   "version": "3.10.9"
  }
 },
 "nbformat": 4,
 "nbformat_minor": 5
}
