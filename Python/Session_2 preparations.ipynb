{
 "cells": [
  {
   "cell_type": "markdown",
   "id": "93c70d54",
   "metadata": {},
   "source": [
    "# List "
   ]
  },
  {
   "cell_type": "markdown",
   "id": "a5e5872b",
   "metadata": {},
   "source": [
    "In Python, you can apply various methods to a list to perform different operations. Here are some commonly used methods:\n",
    "\n",
    "1. `append(x)`: Adds a single element `x` to the end of the list.\n",
    "   ```python\n",
    "   my_list = [1, 2, 3]\n",
    "   my_list.append(4)\n",
    "   # my_list is now [1, 2, 3, 4]\n",
    "   ```\n",
    "\n",
    "2. `extend(iterable)`: Extends the list by appending elements from the iterable.\n",
    "   ```python\n",
    "   my_list = [1, 2, 3]\n",
    "   my_list.extend([4, 5, 6])\n",
    "   # my_list is now [1, 2, 3, 4, 5, 6]\n",
    "   ```\n",
    "\n",
    "3. `insert(i, x)`: Inserts element `x` at the given index `i`.\n",
    "   ```python\n",
    "   my_list = [1, 2, 3]\n",
    "   my_list.insert(1, 5)\n",
    "   # my_list is now [1, 5, 2, 3]\n",
    "   ```\n",
    "\n",
    "4. `remove(x)`: Removes the first occurrence of element `x` from the list.\n",
    "   ```python\n",
    "   my_list = [1, 2, 3, 2]\n",
    "   my_list.remove(2)\n",
    "   # my_list is now [1, 3, 2]\n",
    "   ```\n",
    "\n",
    "5. `pop([i])`: Removes and returns the element at index `i`. If `i` is not specified, it removes and returns the last element.\n",
    "   ```python\n",
    "   my_list = [1, 2, 3]\n",
    "   popped_element = my_list.pop(1)\n",
    "   # my_list is now [1, 3], popped_element is 2\n",
    "   ```\n",
    "\n",
    "6. `index(x)`: Returns the index of the first occurrence of element `x`.\n",
    "   ```python\n",
    "   my_list = [1, 2, 3, 4]\n",
    "   index = my_list.index(3)\n",
    "   # index is 2\n",
    "   ```\n",
    "\n",
    "7. `count(x)`: Returns the number of occurrences of element `x` in the list.\n",
    "   ```python\n",
    "   my_list = [1, 2, 2, 3, 2]\n",
    "   count = my_list.count(2)\n",
    "   # count is 3\n",
    "   ```\n",
    "\n",
    "8. `sort()`: Sorts the list in ascending order.\n",
    "   ```python\n",
    "   my_list = [3, 1, 4, 2]\n",
    "   my_list.sort()\n",
    "   # my_list is now [1, 2, 3, 4]\n",
    "   ```\n",
    "\n",
    "9. `reverse()`: Reverses the elements of the list in place.\n",
    "   ```python\n",
    "   my_list = [1, 2, 3]\n",
    "   my_list.reverse()\n",
    "   # my_list is now [3, 2, 1]\n",
    "   ```\n",
    "\n",
    "10. `copy()`: Returns a shallow copy of the list.\n",
    "    ```python\n",
    "    my_list = [1, 2, 3]\n",
    "    new_list = my_list.copy()\n",
    "    ```\n",
    "\n",
    "These are just a few methods you can use on lists in Python."
   ]
  },
  {
   "cell_type": "code",
   "execution_count": 1,
   "id": "c76cb2aa",
   "metadata": {},
   "outputs": [
    {
     "name": "stdout",
     "output_type": "stream",
     "text": [
      "Original list: [1, 2, 3, 4, 5]\n"
     ]
    }
   ],
   "source": [
    "# Creating a list\n",
    "my_list = [1, 2, 3, 4, 5]\n",
    "print(\"Original list:\", my_list)"
   ]
  },
  {
   "cell_type": "code",
   "execution_count": 2,
   "id": "12916a44",
   "metadata": {},
   "outputs": [
    {
     "name": "stdout",
     "output_type": "stream",
     "text": [
      "First element: 1\n",
      "Last element: 5\n"
     ]
    }
   ],
   "source": [
    "# Accessing elements of a list\n",
    "print(\"First element:\", my_list[0])   # Prints: 1\n",
    "print(\"Last element:\", my_list[-1])   # Prints: 5"
   ]
  },
  {
   "cell_type": "code",
   "execution_count": 3,
   "id": "679498c7",
   "metadata": {},
   "outputs": [
    {
     "name": "stdout",
     "output_type": "stream",
     "text": [
      "Sliced list: [2, 3, 4]\n"
     ]
    }
   ],
   "source": [
    "# Slicing a list\n",
    "print(\"Sliced list:\", my_list[1:4])   # Prints: [2, 3, 4]"
   ]
  },
  {
   "cell_type": "code",
   "execution_count": 4,
   "id": "37816d79",
   "metadata": {},
   "outputs": [
    {
     "name": "stdout",
     "output_type": "stream",
     "text": [
      "Modified list: [1, 2, 10, 4, 5]\n"
     ]
    }
   ],
   "source": [
    "# Modifying elements of a list\n",
    "my_list[2] = 10\n",
    "print(\"Modified list:\", my_list)      # Prints: [1, 2, 10, 4, 5]"
   ]
  },
  {
   "cell_type": "code",
   "execution_count": 5,
   "id": "2665eadd",
   "metadata": {},
   "outputs": [
    {
     "name": "stdout",
     "output_type": "stream",
     "text": [
      "Appended list: [1, 2, 10, 4, 5, 6]\n"
     ]
    }
   ],
   "source": [
    "# Appending to a list\n",
    "my_list.append(6)\n",
    "print(\"Appended list:\", my_list)      # Prints: [1, 2, 10, 4, 5, 6]"
   ]
  },
  {
   "cell_type": "code",
   "execution_count": 6,
   "id": "d82db796",
   "metadata": {},
   "outputs": [
    {
     "name": "stdout",
     "output_type": "stream",
     "text": [
      "List after removing 2: [1, 10, 4, 5, 6]\n"
     ]
    }
   ],
   "source": [
    "# Removing from a list\n",
    "my_list.remove(2)  # Removes the first occurrence of 2\n",
    "print(\"List after removing 2:\", my_list)"
   ]
  },
  {
   "cell_type": "code",
   "execution_count": 7,
   "id": "72044b06",
   "metadata": {},
   "outputs": [
    {
     "name": "stdout",
     "output_type": "stream",
     "text": [
      "Is 10 in the list? True\n"
     ]
    }
   ],
   "source": [
    "# Checking if an element is in a list\n",
    "print(\"Is 10 in the list?\", 10 in my_list)   # Prints: True"
   ]
  },
  {
   "cell_type": "code",
   "execution_count": 8,
   "id": "316d33fd",
   "metadata": {},
   "outputs": [
    {
     "name": "stdout",
     "output_type": "stream",
     "text": [
      "Length of the list: 5\n"
     ]
    }
   ],
   "source": [
    "# Length of a list\n",
    "print(\"Length of the list:\", len(my_list))   # Prints: 5"
   ]
  },
  {
   "cell_type": "code",
   "execution_count": 9,
   "id": "beb5c9a1",
   "metadata": {},
   "outputs": [
    {
     "name": "stdout",
     "output_type": "stream",
     "text": [
      "Elements of the list:\n",
      "1\n",
      "10\n",
      "4\n",
      "5\n",
      "6\n"
     ]
    }
   ],
   "source": [
    "# Iterating over a list\n",
    "print(\"Elements of the list:\")\n",
    "for item in my_list:\n",
    "    print(item)"
   ]
  },
  {
   "cell_type": "code",
   "execution_count": 10,
   "id": "e0a1e2a2",
   "metadata": {},
   "outputs": [
    {
     "name": "stdout",
     "output_type": "stream",
     "text": [
      "Element at (0,1): 2\n"
     ]
    }
   ],
   "source": [
    "# Nested lists\n",
    "nested_list = [[1, 2, 3], [4, 5, 6], [7, 8, 9]]\n",
    "print(\"Element at (0,1):\", nested_list[0][1])  # Prints: 2"
   ]
  },
  {
   "cell_type": "markdown",
   "id": "059f7893",
   "metadata": {},
   "source": [
    "# Tuple "
   ]
  },
  {
   "cell_type": "markdown",
   "id": "0753373e",
   "metadata": {},
   "source": [
    "In Python, a tuple is a collection of ordered elements, similar to a list. However, tuples are immutable, meaning once they are created, their elements cannot be modified, added, or removed. Tuples are typically used for storing data that shouldn't be changed, such as coordinates or configurations.\n",
    "\n",
    "You can create a tuple by enclosing elements in parentheses `()`. Here's an example:\n",
    "\n",
    "```python\n",
    "my_tuple = (1, 2, 3, 'a', 'b', 'c')\n",
    "```\n",
    "\n",
    "You can also create a tuple without parentheses, separated by commas:\n",
    "\n",
    "```python\n",
    "another_tuple = 1, 2, 3\n",
    "```\n",
    "\n",
    "Accessing elements in a tuple is similar to accessing elements in a list, using square brackets `[]` and the index of the element:\n",
    "\n",
    "```python\n",
    "print(my_tuple[0])  # Output: 1\n",
    "print(my_tuple[3])  # Output: 'a'\n",
    "```\n",
    "\n",
    "Since tuples are immutable, you cannot change their elements after creation:\n",
    "\n",
    "```python\n",
    "my_tuple[0] = 5  # This will result in a TypeError\n",
    "```\n",
    "\n",
    "However, you can perform operations like concatenation to create new tuples:\n",
    "\n",
    "```python\n",
    "tuple1 = (1, 2)\n",
    "tuple2 = ('a', 'b')\n",
    "concatenated_tuple = tuple1 + tuple2\n",
    "# Output: (1, 2, 'a', 'b')\n",
    "```\n",
    "\n",
    "You can also unpack tuples into variables:\n",
    "\n",
    "```python\n",
    "a, b, c = my_tuple[:3]  # Unpacks the first three elements of my_tuple\n",
    "# a = 1, b = 2, c = 3\n",
    "```\n",
    "\n",
    "Tuples are useful for situations where you want to ensure that the data remains unchanged throughout the program execution. They are often used as keys in dictionaries or for returning multiple values from a function."
   ]
  },
  {
   "cell_type": "code",
   "execution_count": 11,
   "id": "58ad73c7",
   "metadata": {},
   "outputs": [
    {
     "data": {
      "text/plain": [
       "(1, 2, 3, 'a', 'b', 'c')"
      ]
     },
     "execution_count": 11,
     "metadata": {},
     "output_type": "execute_result"
    }
   ],
   "source": [
    "my_tuple = (1, 2, 3, 'a', 'b', 'c')\n",
    "my_tuple"
   ]
  },
  {
   "cell_type": "code",
   "execution_count": 12,
   "id": "21652b91",
   "metadata": {},
   "outputs": [
    {
     "data": {
      "text/plain": [
       "6"
      ]
     },
     "execution_count": 12,
     "metadata": {},
     "output_type": "execute_result"
    }
   ],
   "source": [
    "len(my_tuple)"
   ]
  },
  {
   "cell_type": "code",
   "execution_count": 14,
   "id": "e4912172",
   "metadata": {},
   "outputs": [
    {
     "data": {
      "text/plain": [
       "tuple"
      ]
     },
     "execution_count": 14,
     "metadata": {},
     "output_type": "execute_result"
    }
   ],
   "source": [
    "type(my_tuple)"
   ]
  },
  {
   "cell_type": "code",
   "execution_count": 15,
   "id": "83f68d35",
   "metadata": {},
   "outputs": [
    {
     "name": "stdout",
     "output_type": "stream",
     "text": [
      "1\n",
      "a\n"
     ]
    }
   ],
   "source": [
    "print(my_tuple[0])  # Output: 1\n",
    "print(my_tuple[3])  # Output: 'a'"
   ]
  },
  {
   "cell_type": "markdown",
   "id": "dd537936",
   "metadata": {},
   "source": [
    "Here are some methods available for tuples in Python:\n",
    "\n",
    "1. `count(x)`: Returns the number of occurrences of element `x` in the tuple.\n",
    "   ```python\n",
    "   my_tuple = (1, 2, 2, 3, 2)\n",
    "   count = my_tuple.count(2)\n",
    "   # count is 3\n",
    "   ```\n",
    "\n",
    "2. `index(x)`: Returns the index of the first occurrence of element `x`.\n",
    "   ```python\n",
    "   my_tuple = (1, 2, 3, 4)\n",
    "   index = my_tuple.index(3)\n",
    "   # index is 2\n",
    "   ```\n",
    "\n",
    "Note that since tuples are immutable, they don't have methods for modification like lists do. Once a tuple is created, you cannot change its elements directly.\n",
    "\n",
    "Example:\n",
    "\n",
    "```python\n",
    "my_tuple = (1, 2, 3)\n",
    "\n",
    "# This would result in an error because tuples are immutable\n",
    "my_tuple[0] = 4\n",
    "```\n",
    "\n",
    "However, you can perform operations that return new tuples or utilize functions that work with tuples. For example, you can concatenate tuples:\n",
    "\n",
    "```python\n",
    "tuple1 = (1, 2, 3)\n",
    "tuple2 = (4, 5, 6)\n",
    "result_tuple = tuple1 + tuple2\n",
    "# result_tuple is (1, 2, 3, 4, 5, 6)\n",
    "```\n",
    "\n",
    "Or you can unpack a tuple into variables:\n",
    "\n",
    "```python\n",
    "my_tuple = (1, 2, 3)\n",
    "a, b, c = my_tuple\n",
    "# a is 1, b is 2, c is 3\n",
    "```\n",
    "\n",
    "These methods and operations allow you to work with tuples effectively despite their immutability."
   ]
  },
  {
   "cell_type": "markdown",
   "id": "667e564e",
   "metadata": {},
   "source": [
    "# Set "
   ]
  },
  {
   "cell_type": "code",
   "execution_count": 24,
   "id": "9f1dfa42",
   "metadata": {},
   "outputs": [],
   "source": [
    "my_set = {1, 2, 3, 4, 5}\n",
    "another_set = set([4, 5, 6, 7, 8])"
   ]
  },
  {
   "cell_type": "code",
   "execution_count": 25,
   "id": "42046e76",
   "metadata": {},
   "outputs": [
    {
     "data": {
      "text/plain": [
       "{1, 2, 3, 4, 5, 6}"
      ]
     },
     "execution_count": 25,
     "metadata": {},
     "output_type": "execute_result"
    }
   ],
   "source": [
    "my_set.add(6)\n",
    "# Now my_set is {1, 2, 3, 4, 5, 6}\n",
    "my_set"
   ]
  },
  {
   "cell_type": "code",
   "execution_count": 18,
   "id": "96edd825",
   "metadata": {},
   "outputs": [],
   "source": [
    "set1 = {1, 2, 3, 4, 5}\n",
    "set2 = {4, 5, 6, 7, 8}"
   ]
  },
  {
   "cell_type": "code",
   "execution_count": 26,
   "id": "dc995d52",
   "metadata": {},
   "outputs": [
    {
     "data": {
      "text/plain": [
       "{1, 2, 3, 4, 5}"
      ]
     },
     "execution_count": 26,
     "metadata": {},
     "output_type": "execute_result"
    }
   ],
   "source": [
    "my_set.remove(6)\n",
    "# Now my_set is {1, 2, 3, 4, 5}\n",
    "my_set"
   ]
  },
  {
   "cell_type": "code",
   "execution_count": 27,
   "id": "ef470ce2",
   "metadata": {},
   "outputs": [
    {
     "data": {
      "text/plain": [
       "{1, 2, 4, 5}"
      ]
     },
     "execution_count": 27,
     "metadata": {},
     "output_type": "execute_result"
    }
   ],
   "source": [
    "my_set.discard(3)\n",
    "# Now my_set is {1, 2, 4, 5}\n",
    "my_set"
   ]
  },
  {
   "cell_type": "code",
   "execution_count": 19,
   "id": "9b2d90e5",
   "metadata": {},
   "outputs": [
    {
     "name": "stdout",
     "output_type": "stream",
     "text": [
      "{1, 2, 3, 4, 5, 6, 7, 8}\n",
      "{1, 2, 3, 4, 5, 6, 7, 8}\n"
     ]
    }
   ],
   "source": [
    "# Union\n",
    "print(set1.union(set2))\n",
    "# or\n",
    "print(set1 | set2)"
   ]
  },
  {
   "cell_type": "code",
   "execution_count": 20,
   "id": "42354ecd",
   "metadata": {},
   "outputs": [
    {
     "name": "stdout",
     "output_type": "stream",
     "text": [
      "{4, 5}\n",
      "{4, 5}\n"
     ]
    }
   ],
   "source": [
    "# Intersection\n",
    "print(set1.intersection(set2))\n",
    "# or\n",
    "print(set1 & set2)"
   ]
  },
  {
   "cell_type": "code",
   "execution_count": 21,
   "id": "f88a4971",
   "metadata": {
    "scrolled": true
   },
   "outputs": [
    {
     "name": "stdout",
     "output_type": "stream",
     "text": [
      "{1, 2, 3}\n",
      "{1, 2, 3}\n"
     ]
    }
   ],
   "source": [
    "# Difference\n",
    "print(set1.difference(set2))\n",
    "# or\n",
    "print(set1 - set2)"
   ]
  },
  {
   "cell_type": "markdown",
   "id": "0ee960a5",
   "metadata": {},
   "source": [
    "# Dictionary"
   ]
  },
  {
   "cell_type": "markdown",
   "id": "e9a061a4",
   "metadata": {},
   "source": [
    "In Python, a dictionary is an unordered collection of key-value pairs. It's often referred to as a \"mapping\" type because it maps keys to corresponding values. Each key in a dictionary must be unique and immutable (like strings, numbers, or tuples), while values can be of any data type and can be mutable or immutable.\n",
    "\n",
    "You can create a dictionary in Python using curly braces `{}` and specifying key-value pairs, separated by colons `:`. Here's how you can create dictionaries:\n",
    "\n",
    "```python\n",
    "my_dict = {'name': 'John', 'age': 30, 'city': 'New York'}\n",
    "another_dict = dict(name='Alice', age=25, city='Paris')\n",
    "```\n",
    "\n",
    "You can also create an empty dictionary like this:\n",
    "\n",
    "```python\n",
    "empty_dict = {}\n",
    "```\n",
    "\n",
    "Accessing values in a dictionary is done by specifying the key within square brackets `[]`:\n",
    "\n",
    "```python\n",
    "print(my_dict['name'])  # Output: 'John'\n",
    "print(my_dict['age'])   # Output: 30\n",
    "```\n",
    "\n",
    "You can add new key-value pairs to a dictionary by assigning a value to a new key:\n",
    "\n",
    "```python\n",
    "my_dict['email'] = 'john@example.com'\n",
    "# Now my_dict is {'name': 'John', 'age': 30, 'city': 'New York', 'email': 'john@example.com'}\n",
    "```\n",
    "\n",
    "You can also modify existing values by accessing them through their keys:\n",
    "\n",
    "```python\n",
    "my_dict['age'] = 35\n",
    "# Now my_dict is {'name': 'John', 'age': 35, 'city': 'New York', 'email': 'john@example.com'}\n",
    "```\n",
    "\n",
    "You can remove key-value pairs from a dictionary using the `del` keyword or the `pop()` method:\n",
    "\n",
    "```python\n",
    "del my_dict['city']\n",
    "# Now my_dict is {'name': 'John', 'age': 35, 'email': 'john@example.com'}\n",
    "\n",
    "email = my_dict.pop('email')\n",
    "# email variable now contains 'john@example.com', and my_dict is {'name': 'John', 'age': 35}\n",
    "```\n",
    "\n",
    "You can also perform various operations with dictionaries, such as checking if a key exists, getting the number of key-value pairs, and iterating over keys or values.\n",
    "\n",
    "```python\n",
    "# Checking if a key exists\n",
    "if 'age' in my_dict:\n",
    "    print('Age exists in my_dict')\n",
    "\n",
    "# Getting the number of key-value pairs\n",
    "num_items = len(my_dict)\n",
    "print('Number of items in my_dict:', num_items)\n",
    "\n",
    "# Iterating over keys\n",
    "for key in my_dict:\n",
    "    print(key)\n",
    "\n",
    "# Iterating over values\n",
    "for value in my_dict.values():\n",
    "    print(value)\n",
    "\n",
    "# Iterating over key-value pairs\n",
    "for key, value in my_dict.items():\n",
    "    print(key, ':', value)\n",
    "```\n",
    "\n",
    "Dictionaries are widely used in Python for tasks like storing configurations, mapping unique identifiers to data, and efficiently looking up values based on keys. They offer a flexible and powerful way to manage data in Python."
   ]
  },
  {
   "cell_type": "code",
   "execution_count": null,
   "id": "12136dab",
   "metadata": {},
   "outputs": [],
   "source": []
  }
 ],
 "metadata": {
  "kernelspec": {
   "display_name": "Python 3 (ipykernel)",
   "language": "python",
   "name": "python3"
  },
  "language_info": {
   "codemirror_mode": {
    "name": "ipython",
    "version": 3
   },
   "file_extension": ".py",
   "mimetype": "text/x-python",
   "name": "python",
   "nbconvert_exporter": "python",
   "pygments_lexer": "ipython3",
   "version": "3.10.9"
  }
 },
 "nbformat": 4,
 "nbformat_minor": 5
}
