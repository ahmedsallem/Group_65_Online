{
 "cells": [
  {
   "cell_type": "code",
   "execution_count": 1,
   "id": "803a4583",
   "metadata": {},
   "outputs": [],
   "source": [
    "%run module.ipynb"
   ]
  },
  {
   "cell_type": "code",
   "execution_count": 2,
   "id": "58b143d5",
   "metadata": {},
   "outputs": [
    {
     "data": {
      "text/plain": [
       "13"
      ]
     },
     "execution_count": 2,
     "metadata": {},
     "output_type": "execute_result"
    }
   ],
   "source": [
    "add(1,3,4,5)"
   ]
  },
  {
   "cell_type": "code",
   "execution_count": 3,
   "id": "76933f6a",
   "metadata": {},
   "outputs": [
    {
     "data": {
      "text/plain": [
       "4"
      ]
     },
     "execution_count": 3,
     "metadata": {},
     "output_type": "execute_result"
    }
   ],
   "source": [
    "mult(2,2)"
   ]
  },
  {
   "cell_type": "code",
   "execution_count": 4,
   "id": "9e56b7be",
   "metadata": {},
   "outputs": [],
   "source": [
    "import module"
   ]
  },
  {
   "cell_type": "code",
   "execution_count": 6,
   "id": "4dc645dc",
   "metadata": {},
   "outputs": [],
   "source": [
    "# dir(module)"
   ]
  },
  {
   "cell_type": "code",
   "execution_count": 7,
   "id": "058b2d77",
   "metadata": {},
   "outputs": [
    {
     "name": "stdout",
     "output_type": "stream",
     "text": [
      "enter your num 12\n"
     ]
    },
    {
     "data": {
      "text/plain": [
       "'Even'"
      ]
     },
     "execution_count": 7,
     "metadata": {},
     "output_type": "execute_result"
    }
   ],
   "source": [
    "module.check()"
   ]
  },
  {
   "cell_type": "code",
   "execution_count": 8,
   "id": "2c0a8e36",
   "metadata": {},
   "outputs": [
    {
     "data": {
      "text/plain": [
       "24"
      ]
     },
     "execution_count": 8,
     "metadata": {},
     "output_type": "execute_result"
    }
   ],
   "source": [
    "module.add(12,12)"
   ]
  },
  {
   "cell_type": "code",
   "execution_count": 9,
   "id": "c2184408",
   "metadata": {},
   "outputs": [
    {
     "data": {
      "text/plain": [
       "144"
      ]
     },
     "execution_count": 9,
     "metadata": {},
     "output_type": "execute_result"
    }
   ],
   "source": [
    "module.mult(12,12)"
   ]
  },
  {
   "cell_type": "code",
   "execution_count": 10,
   "id": "861f9096",
   "metadata": {},
   "outputs": [],
   "source": [
    "import module as md "
   ]
  },
  {
   "cell_type": "code",
   "execution_count": 12,
   "id": "97872f72",
   "metadata": {},
   "outputs": [],
   "source": [
    "# dir(md)"
   ]
  },
  {
   "cell_type": "code",
   "execution_count": 13,
   "id": "0b87b739",
   "metadata": {},
   "outputs": [
    {
     "data": {
      "text/plain": [
       "24"
      ]
     },
     "execution_count": 13,
     "metadata": {},
     "output_type": "execute_result"
    }
   ],
   "source": [
    "md.add(12,12)"
   ]
  },
  {
   "cell_type": "code",
   "execution_count": 14,
   "id": "f7f68e15",
   "metadata": {},
   "outputs": [
    {
     "data": {
      "text/plain": [
       "144"
      ]
     },
     "execution_count": 14,
     "metadata": {},
     "output_type": "execute_result"
    }
   ],
   "source": [
    "md.mult(12,12)"
   ]
  },
  {
   "cell_type": "code",
   "execution_count": 17,
   "id": "51aad77d",
   "metadata": {},
   "outputs": [],
   "source": [
    "from module import add , check"
   ]
  },
  {
   "cell_type": "code",
   "execution_count": 18,
   "id": "74680466",
   "metadata": {},
   "outputs": [
    {
     "data": {
      "text/plain": [
       "24"
      ]
     },
     "execution_count": 18,
     "metadata": {},
     "output_type": "execute_result"
    }
   ],
   "source": [
    "add(12,12)"
   ]
  },
  {
   "cell_type": "code",
   "execution_count": 19,
   "id": "a0943c6b",
   "metadata": {},
   "outputs": [
    {
     "name": "stdout",
     "output_type": "stream",
     "text": [
      "enter your num 13\n"
     ]
    },
    {
     "data": {
      "text/plain": [
       "'Odd'"
      ]
     },
     "execution_count": 19,
     "metadata": {},
     "output_type": "execute_result"
    }
   ],
   "source": [
    "check()"
   ]
  },
  {
   "cell_type": "code",
   "execution_count": 20,
   "id": "c48347b4",
   "metadata": {},
   "outputs": [],
   "source": [
    "from module import * "
   ]
  },
  {
   "cell_type": "code",
   "execution_count": 21,
   "id": "511a4bc5",
   "metadata": {},
   "outputs": [
    {
     "data": {
      "text/plain": [
       "24"
      ]
     },
     "execution_count": 21,
     "metadata": {},
     "output_type": "execute_result"
    }
   ],
   "source": [
    "add(12,12)"
   ]
  },
  {
   "cell_type": "code",
   "execution_count": 22,
   "id": "8b595e6e",
   "metadata": {},
   "outputs": [],
   "source": [
    "# import module\n",
    "# import module as md \n",
    "# from module import * \n",
    "# from module import add , check ...."
   ]
  },
  {
   "cell_type": "code",
   "execution_count": 23,
   "id": "5f176429",
   "metadata": {},
   "outputs": [],
   "source": [
    "import random as rm"
   ]
  },
  {
   "cell_type": "code",
   "execution_count": 25,
   "id": "09ed8b1e",
   "metadata": {},
   "outputs": [],
   "source": [
    "# dir(rm)"
   ]
  },
  {
   "cell_type": "code",
   "execution_count": 28,
   "id": "dcb437f1",
   "metadata": {},
   "outputs": [
    {
     "data": {
      "text/plain": [
       "0.252477091813487"
      ]
     },
     "execution_count": 28,
     "metadata": {},
     "output_type": "execute_result"
    }
   ],
   "source": [
    "rm.random()   # 0 to 1 "
   ]
  },
  {
   "cell_type": "code",
   "execution_count": 30,
   "id": "b2d1c855",
   "metadata": {},
   "outputs": [
    {
     "data": {
      "text/plain": [
       "1"
      ]
     },
     "execution_count": 30,
     "metadata": {},
     "output_type": "execute_result"
    }
   ],
   "source": [
    "rm.randint(0,10)"
   ]
  },
  {
   "cell_type": "code",
   "execution_count": 31,
   "id": "108577fb",
   "metadata": {},
   "outputs": [
    {
     "name": "stdout",
     "output_type": "stream",
     "text": [
      "0\n",
      "10\n",
      "4\n",
      "7\n",
      "7\n",
      "7\n",
      "5\n",
      "1\n",
      "4\n",
      "8\n"
     ]
    }
   ],
   "source": [
    "for i in range(10):\n",
    "    print(rm.randint(0,10))  #end included "
   ]
  },
  {
   "cell_type": "code",
   "execution_count": 33,
   "id": "4ee8d3d4",
   "metadata": {},
   "outputs": [
    {
     "data": {
      "text/plain": [
       "8"
      ]
     },
     "execution_count": 33,
     "metadata": {},
     "output_type": "execute_result"
    }
   ],
   "source": [
    "rm.randrange(0,10)"
   ]
  },
  {
   "cell_type": "code",
   "execution_count": 36,
   "id": "6ef856d8",
   "metadata": {},
   "outputs": [
    {
     "name": "stdout",
     "output_type": "stream",
     "text": [
      "5\n",
      "5\n",
      "4\n",
      "4\n",
      "4\n",
      "1\n",
      "2\n",
      "3\n",
      "9\n",
      "2\n"
     ]
    }
   ],
   "source": [
    "for i in range(10):\n",
    "    print(rm.randrange(0,10))   #end not included "
   ]
  },
  {
   "cell_type": "code",
   "execution_count": 37,
   "id": "e04b9d31",
   "metadata": {},
   "outputs": [],
   "source": [
    "lst = [1,2,3,4,5]\n",
    "rm.shuffle(lst)"
   ]
  },
  {
   "cell_type": "code",
   "execution_count": 38,
   "id": "c9dc2466",
   "metadata": {},
   "outputs": [
    {
     "data": {
      "text/plain": [
       "[3, 2, 5, 4, 1]"
      ]
     },
     "execution_count": 38,
     "metadata": {},
     "output_type": "execute_result"
    }
   ],
   "source": [
    "lst"
   ]
  },
  {
   "cell_type": "code",
   "execution_count": 78,
   "id": "594a0344",
   "metadata": {},
   "outputs": [
    {
     "data": {
      "text/plain": [
       "'learning'"
      ]
     },
     "execution_count": 78,
     "metadata": {},
     "output_type": "execute_result"
    }
   ],
   "source": [
    "rm.choices([\"amit\",\"learning\" , \"deep\" , \"machine\"])[0]"
   ]
  },
  {
   "cell_type": "code",
   "execution_count": 74,
   "id": "078a874f",
   "metadata": {},
   "outputs": [
    {
     "data": {
      "text/plain": [
       "'m'"
      ]
     },
     "execution_count": 74,
     "metadata": {},
     "output_type": "execute_result"
    }
   ],
   "source": [
    "rm.choice(\"amit\")"
   ]
  },
  {
   "cell_type": "code",
   "execution_count": null,
   "id": "16625100",
   "metadata": {},
   "outputs": [],
   "source": []
  }
 ],
 "metadata": {
  "kernelspec": {
   "display_name": "Python 3 (ipykernel)",
   "language": "python",
   "name": "python3"
  },
  "language_info": {
   "codemirror_mode": {
    "name": "ipython",
    "version": 3
   },
   "file_extension": ".py",
   "mimetype": "text/x-python",
   "name": "python",
   "nbconvert_exporter": "python",
   "pygments_lexer": "ipython3",
   "version": "3.10.9"
  }
 },
 "nbformat": 4,
 "nbformat_minor": 5
}
