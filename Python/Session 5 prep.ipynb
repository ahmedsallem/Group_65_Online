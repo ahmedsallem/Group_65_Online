{
 "cells": [
  {
   "cell_type": "code",
   "execution_count": 8,
   "id": "6cf5dccc",
   "metadata": {},
   "outputs": [
    {
     "name": "stdout",
     "output_type": "stream",
     "text": [
      "Full Name: Ahmed Salem\n",
      "Full Name: Mohamed Sayed\n",
      "3000\n",
      "2000000\n",
      "1000\n",
      "2000\n",
      "True\n",
      "10\n"
     ]
    }
   ],
   "source": [
    "class Employee:\n",
    "    def __init__(self, firstname, lastname, salary = 0):\n",
    "        self.firstname = firstname\n",
    "        self.lastname = lastname\n",
    "        self.salary = salary\n",
    "\n",
    "    def __str__(self):\n",
    "        return 'Full Name: ' + self.firstname + ' ' + self.lastname\n",
    "\n",
    "    # Implements behaviour for built in type comparison to int\n",
    "    def __int__(self):\n",
    "        return self.salary\n",
    "\n",
    "    # For overloading the (==)\n",
    "    def __eq__(self,other):\n",
    "        return self.salary==other.salary   \n",
    "\n",
    "    # For overloading the (+)\n",
    "    def __add__(self, other):\n",
    "        return self.salary + other.salary\n",
    "\n",
    "    # For overloading the (*)\n",
    "    def __mul__(self, other):\n",
    "        return self.salary * other.salary\n",
    "    \n",
    "    def __len__(self):\n",
    "        return len(self.firstname + self.lastname)\n",
    "\n",
    "Ahmed = Employee('Ahmed', 'Salem', 1000)\n",
    "Mohamed = Employee('Mohamed','Sayed', 2000)\n",
    "print(Ahmed)   #or str(Ahmed)                 \n",
    "print(Mohamed)              \n",
    "print(Ahmed + Mohamed)      \n",
    "print(Ahmed * Mohamed)      \n",
    "print(int(Ahmed))           \n",
    "print(int(Mohamed))         \n",
    "print(Omkar!=Mohamed)\n",
    "print(len(Ahmed))"
   ]
  },
  {
   "cell_type": "markdown",
   "id": "9fefb1a9",
   "metadata": {},
   "source": [
    "# Example Two "
   ]
  },
  {
   "cell_type": "code",
   "execution_count": 11,
   "id": "54612c4e",
   "metadata": {},
   "outputs": [
    {
     "name": "stdout",
     "output_type": "stream",
     "text": [
      "a\n",
      "b\n",
      "z\n"
     ]
    }
   ],
   "source": [
    "class MyList:\n",
    "    def __init__(self):\n",
    "        self.__data = []\n",
    "\n",
    "    def __getitem__(self, index):\n",
    "        return self.__data[index]\n",
    "\n",
    "    def __setitem__(self, index, value):\n",
    "        self.__data[index] = value\n",
    "\n",
    "    def append(self, item):\n",
    "        self.__data.append(item)\n",
    "\n",
    "    def __len__(self):\n",
    "        return len(self.__data)\n",
    "\n",
    "# Example usage:\n",
    "my_list = MyList()\n",
    "my_list.append('a')\n",
    "my_list.append('b')\n",
    "my_list.append('c')\n",
    "\n",
    "print(my_list[0])  # Output: 'a'\n",
    "print(my_list[1])  # Output: 'b'\n",
    "\n",
    "# Now let's try setting a value\n",
    "my_list[1] = 'z'\n",
    "print(my_list[1])  # Output: 'z'\n"
   ]
  },
  {
   "cell_type": "code",
   "execution_count": 15,
   "id": "2d1dfba5",
   "metadata": {},
   "outputs": [],
   "source": [
    "# my_list._MyList__data"
   ]
  },
  {
   "cell_type": "markdown",
   "id": "6265c2ca",
   "metadata": {},
   "source": [
    "# Example Three"
   ]
  },
  {
   "cell_type": "code",
   "execution_count": 18,
   "id": "0d1a0567",
   "metadata": {},
   "outputs": [
    {
     "name": "stdout",
     "output_type": "stream",
     "text": [
      "Amit\n",
      "30\n"
     ]
    }
   ],
   "source": [
    "class MyDictionary:\n",
    "    def __init__(self):\n",
    "        self._data = {}\n",
    "\n",
    "    def __getitem__(self, key):\n",
    "        return self._data[key]\n",
    "\n",
    "    def __setitem__(self, key, value):\n",
    "        self._data[key] = value\n",
    "\n",
    "# Example usage:\n",
    "my_dict = MyDictionary()\n",
    "my_dict['name'] = 'Amit'\n",
    "my_dict['age'] = 30\n",
    "\n",
    "print(my_dict['name'])  # Output: 'Amit'\n",
    "print(my_dict['age'])   # Output: 30\n"
   ]
  },
  {
   "cell_type": "code",
   "execution_count": null,
   "id": "185f0f18",
   "metadata": {},
   "outputs": [],
   "source": []
  }
 ],
 "metadata": {
  "kernelspec": {
   "display_name": "Python 3 (ipykernel)",
   "language": "python",
   "name": "python3"
  },
  "language_info": {
   "codemirror_mode": {
    "name": "ipython",
    "version": 3
   },
   "file_extension": ".py",
   "mimetype": "text/x-python",
   "name": "python",
   "nbconvert_exporter": "python",
   "pygments_lexer": "ipython3",
   "version": "3.10.9"
  }
 },
 "nbformat": 4,
 "nbformat_minor": 5
}
