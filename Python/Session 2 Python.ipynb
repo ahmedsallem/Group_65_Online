{
 "cells": [
  {
   "cell_type": "markdown",
   "id": "db724b79",
   "metadata": {},
   "source": [
    "# Agenda \n",
    "    PYTHON OPERATORS\n",
    "             Arithmetic\n",
    "             Comparison\n",
    "             Assignment\n",
    "             Logical         \n",
    "    If Else Conditional Statement\n",
    "\n",
    "    list \n",
    "    \n",
    "    tuple \n",
    "    \n",
    "    set \n",
    "    \n",
    "    dictionary \n",
    "    \n",
    "    For Loops"
   ]
  },
  {
   "cell_type": "markdown",
   "id": "571d7e9f",
   "metadata": {},
   "source": [
    "### Arithmetic"
   ]
  },
  {
   "cell_type": "code",
   "execution_count": 6,
   "id": "01e60a03",
   "metadata": {},
   "outputs": [
    {
     "name": "stdout",
     "output_type": "stream",
     "text": [
      "12\n"
     ]
    }
   ],
   "source": [
    "a = 10\n",
    "b = 2\n",
    "print( a + b )"
   ]
  },
  {
   "cell_type": "code",
   "execution_count": 7,
   "id": "6310b93a",
   "metadata": {},
   "outputs": [
    {
     "name": "stdout",
     "output_type": "stream",
     "text": [
      "8\n"
     ]
    }
   ],
   "source": [
    "print(a - b )"
   ]
  },
  {
   "cell_type": "code",
   "execution_count": 8,
   "id": "4438e3a9",
   "metadata": {},
   "outputs": [
    {
     "name": "stdout",
     "output_type": "stream",
     "text": [
      "20\n"
     ]
    }
   ],
   "source": [
    "print(a * b )"
   ]
  },
  {
   "cell_type": "code",
   "execution_count": 9,
   "id": "32bd6832",
   "metadata": {},
   "outputs": [
    {
     "data": {
      "text/plain": [
       "100"
      ]
     },
     "execution_count": 9,
     "metadata": {},
     "output_type": "execute_result"
    }
   ],
   "source": [
    "pow(a,b)   # a^b"
   ]
  },
  {
   "cell_type": "code",
   "execution_count": 10,
   "id": "597a203f",
   "metadata": {},
   "outputs": [
    {
     "data": {
      "text/plain": [
       "100"
      ]
     },
     "execution_count": 10,
     "metadata": {},
     "output_type": "execute_result"
    }
   ],
   "source": [
    "a ** b"
   ]
  },
  {
   "cell_type": "code",
   "execution_count": 19,
   "id": "d1fb3508",
   "metadata": {},
   "outputs": [
    {
     "data": {
      "text/plain": [
       "5.0"
      ]
     },
     "execution_count": 19,
     "metadata": {},
     "output_type": "execute_result"
    }
   ],
   "source": [
    "a / b "
   ]
  },
  {
   "cell_type": "code",
   "execution_count": 12,
   "id": "9711ea38",
   "metadata": {},
   "outputs": [
    {
     "data": {
      "text/plain": [
       "1"
      ]
     },
     "execution_count": 12,
     "metadata": {},
     "output_type": "execute_result"
    }
   ],
   "source": [
    "9 % 2   #>> 8 / 2 "
   ]
  },
  {
   "cell_type": "code",
   "execution_count": 13,
   "id": "1c70a647",
   "metadata": {},
   "outputs": [
    {
     "data": {
      "text/plain": [
       "0"
      ]
     },
     "execution_count": 13,
     "metadata": {},
     "output_type": "execute_result"
    }
   ],
   "source": [
    "10 % 2 "
   ]
  },
  {
   "cell_type": "code",
   "execution_count": 15,
   "id": "00139ad9",
   "metadata": {},
   "outputs": [
    {
     "data": {
      "text/plain": [
       "3"
      ]
     },
     "execution_count": 15,
     "metadata": {},
     "output_type": "execute_result"
    }
   ],
   "source": [
    "10 // 3    # int "
   ]
  },
  {
   "cell_type": "code",
   "execution_count": 22,
   "id": "c42eeef6",
   "metadata": {},
   "outputs": [
    {
     "data": {
      "text/plain": [
       "5.0"
      ]
     },
     "execution_count": 22,
     "metadata": {},
     "output_type": "execute_result"
    }
   ],
   "source": [
    "x = 10 \n",
    "y = 5 \n",
    "z = (x * True) / (y * False + 2) \n",
    "z"
   ]
  },
  {
   "cell_type": "markdown",
   "id": "273f3966",
   "metadata": {},
   "source": [
    "### Comparison"
   ]
  },
  {
   "cell_type": "code",
   "execution_count": 24,
   "id": "412943be",
   "metadata": {},
   "outputs": [
    {
     "data": {
      "text/plain": [
       "True"
      ]
     },
     "execution_count": 24,
     "metadata": {},
     "output_type": "execute_result"
    }
   ],
   "source": [
    "a = 10 \n",
    "b = 5\n",
    "a > b  "
   ]
  },
  {
   "cell_type": "code",
   "execution_count": 25,
   "id": "382db6bf",
   "metadata": {},
   "outputs": [
    {
     "data": {
      "text/plain": [
       "True"
      ]
     },
     "execution_count": 25,
     "metadata": {},
     "output_type": "execute_result"
    }
   ],
   "source": [
    "a >= b "
   ]
  },
  {
   "cell_type": "code",
   "execution_count": 26,
   "id": "6c41b013",
   "metadata": {},
   "outputs": [
    {
     "data": {
      "text/plain": [
       "False"
      ]
     },
     "execution_count": 26,
     "metadata": {},
     "output_type": "execute_result"
    }
   ],
   "source": [
    "a < b "
   ]
  },
  {
   "cell_type": "code",
   "execution_count": 27,
   "id": "ca58c185",
   "metadata": {},
   "outputs": [
    {
     "data": {
      "text/plain": [
       "False"
      ]
     },
     "execution_count": 27,
     "metadata": {},
     "output_type": "execute_result"
    }
   ],
   "source": [
    "a <= b "
   ]
  },
  {
   "cell_type": "code",
   "execution_count": 28,
   "id": "67db4179",
   "metadata": {},
   "outputs": [
    {
     "data": {
      "text/plain": [
       "False"
      ]
     },
     "execution_count": 28,
     "metadata": {},
     "output_type": "execute_result"
    }
   ],
   "source": [
    "a == b "
   ]
  },
  {
   "cell_type": "code",
   "execution_count": 29,
   "id": "6e68309b",
   "metadata": {},
   "outputs": [
    {
     "data": {
      "text/plain": [
       "True"
      ]
     },
     "execution_count": 29,
     "metadata": {},
     "output_type": "execute_result"
    }
   ],
   "source": [
    "a != b "
   ]
  },
  {
   "cell_type": "code",
   "execution_count": 31,
   "id": "3b1c1f11",
   "metadata": {},
   "outputs": [
    {
     "data": {
      "text/plain": [
       "False"
      ]
     },
     "execution_count": 31,
     "metadata": {},
     "output_type": "execute_result"
    }
   ],
   "source": [
    "a == b"
   ]
  },
  {
   "cell_type": "code",
   "execution_count": 33,
   "id": "e36f49f4",
   "metadata": {},
   "outputs": [
    {
     "data": {
      "text/plain": [
       "True"
      ]
     },
     "execution_count": 33,
     "metadata": {},
     "output_type": "execute_result"
    }
   ],
   "source": [
    "a > b or  a == b"
   ]
  },
  {
   "cell_type": "code",
   "execution_count": 34,
   "id": "0c8624a6",
   "metadata": {},
   "outputs": [
    {
     "data": {
      "text/plain": [
       "False"
      ]
     },
     "execution_count": 34,
     "metadata": {},
     "output_type": "execute_result"
    }
   ],
   "source": [
    "a > b and   a == b"
   ]
  },
  {
   "cell_type": "markdown",
   "id": "660944ff",
   "metadata": {},
   "source": [
    "### Assignment"
   ]
  },
  {
   "cell_type": "code",
   "execution_count": null,
   "id": "df497f96",
   "metadata": {},
   "outputs": [],
   "source": [
    "a = 10 \n",
    "b = 30\n",
    "x = 10\n",
    "x = x + 1 \n",
    "x += 1 \n",
    "x = x - 1 \n",
    "x -= 1 \n"
   ]
  },
  {
   "cell_type": "markdown",
   "id": "cb0f24f8",
   "metadata": {},
   "source": [
    "### Logical"
   ]
  },
  {
   "cell_type": "code",
   "execution_count": null,
   "id": "6d79eacc",
   "metadata": {},
   "outputs": [],
   "source": [
    "# (True)  and  (True)  >>> True \n",
    "# (False) and (True) >>> False\n",
    "# (True) and (False) >>> False\n",
    "# (False) and (False) >>> False\n",
    "\n",
    "# or\n",
    "# (True)  or  (True)  >>> True \n",
    "# (False) or (True) >>> True\n",
    "# (True) or (False) >>> True\n",
    "# (False) or (False) >>> False\n",
    "\n"
   ]
  },
  {
   "cell_type": "code",
   "execution_count": 35,
   "id": "e75d066f",
   "metadata": {},
   "outputs": [
    {
     "data": {
      "text/plain": [
       "False"
      ]
     },
     "execution_count": 35,
     "metadata": {},
     "output_type": "execute_result"
    }
   ],
   "source": [
    "10 == 10 and 20 > 50 "
   ]
  },
  {
   "cell_type": "code",
   "execution_count": 36,
   "id": "db16994e",
   "metadata": {},
   "outputs": [
    {
     "data": {
      "text/plain": [
       "True"
      ]
     },
     "execution_count": 36,
     "metadata": {},
     "output_type": "execute_result"
    }
   ],
   "source": [
    "10 == 10 or 20 > 50 "
   ]
  },
  {
   "cell_type": "markdown",
   "id": "949f3792",
   "metadata": {},
   "source": [
    "### If Else Conditional Statement"
   ]
  },
  {
   "cell_type": "code",
   "execution_count": null,
   "id": "683852d2",
   "metadata": {},
   "outputs": [],
   "source": [
    "# if (condition):\n",
    "#     statements\n",
    "#     ......\n",
    "#     ....\n",
    "# else:\n",
    "#     ....\n",
    "#     ...\n",
    "#     ....\n",
    "    "
   ]
  },
  {
   "cell_type": "code",
   "execution_count": 38,
   "id": "0d508963",
   "metadata": {},
   "outputs": [
    {
     "name": "stdout",
     "output_type": "stream",
     "text": [
      "Very Good\n"
     ]
    }
   ],
   "source": [
    "g = 90 \n",
    "if g >= 90 :\n",
    "    print(\"Very Good\")\n",
    "else:\n",
    "    print(\"Good\")"
   ]
  },
  {
   "cell_type": "code",
   "execution_count": 41,
   "id": "024f404b",
   "metadata": {},
   "outputs": [
    {
     "name": "stdout",
     "output_type": "stream",
     "text": [
      "enter your grade: 40\n",
      "F\n"
     ]
    }
   ],
   "source": [
    "g = int(input(\"enter your grade: \"))\n",
    "if g >= 90 and g <= 100:    #[90 , 100]\n",
    "    print(\"Ex\")\n",
    "elif g >=70 and g < 90:   #[70 , > 90]\n",
    "    print(\"V G\")\n",
    "elif g >= 50 and g < 70:  #[50 , 69]\n",
    "    print(\"G\")\n",
    "else:\n",
    "    print(\"F\")\n"
   ]
  },
  {
   "cell_type": "code",
   "execution_count": 55,
   "id": "cd51c5e0",
   "metadata": {},
   "outputs": [
    {
     "name": "stdout",
     "output_type": "stream",
     "text": [
      "enter your name Ahmed\n",
      "True\n"
     ]
    }
   ],
   "source": [
    "x = input(\"enter your name \").lower()\n",
    "if x[0] == \"a\":\n",
    "    print(True)\n",
    "else:\n",
    "    print(False)"
   ]
  },
  {
   "cell_type": "code",
   "execution_count": 50,
   "id": "8bb5f267",
   "metadata": {},
   "outputs": [
    {
     "name": "stdout",
     "output_type": "stream",
     "text": [
      "Enter your word: lala\n"
     ]
    },
    {
     "data": {
      "text/plain": [
       "'lala'"
      ]
     },
     "execution_count": 50,
     "metadata": {},
     "output_type": "execute_result"
    }
   ],
   "source": [
    "word = input(\"Enter your word: \")\n",
    "word"
   ]
  },
  {
   "cell_type": "code",
   "execution_count": 51,
   "id": "19cb75c4",
   "metadata": {},
   "outputs": [
    {
     "data": {
      "text/plain": [
       "'alal'"
      ]
     },
     "execution_count": 51,
     "metadata": {},
     "output_type": "execute_result"
    }
   ],
   "source": [
    "word[ : : -1]"
   ]
  },
  {
   "cell_type": "code",
   "execution_count": 58,
   "id": "93c7fc3c",
   "metadata": {},
   "outputs": [
    {
     "name": "stdout",
     "output_type": "stream",
     "text": [
      "Enter your word: amit\n",
      "False\n"
     ]
    }
   ],
   "source": [
    "word = input(\"Enter your word: \")\n",
    "if word == word[ : : -1] : \n",
    "    print(True)\n",
    "else:\n",
    "    print(False)"
   ]
  },
  {
   "cell_type": "code",
   "execution_count": 57,
   "id": "ddcdabe1",
   "metadata": {},
   "outputs": [
    {
     "data": {
      "text/plain": [
       "'tima'"
      ]
     },
     "execution_count": 57,
     "metadata": {},
     "output_type": "execute_result"
    }
   ],
   "source": [
    "word = \"amit\"\n",
    "word[ : : -1]"
   ]
  },
  {
   "cell_type": "code",
   "execution_count": 60,
   "id": "ab9fd429",
   "metadata": {},
   "outputs": [
    {
     "data": {
      "text/plain": [
       "'g'"
      ]
     },
     "execution_count": 60,
     "metadata": {},
     "output_type": "execute_result"
    }
   ],
   "source": [
    "x = \"amit learning\"\n",
    "x[-1]"
   ]
  },
  {
   "cell_type": "code",
   "execution_count": 61,
   "id": "66e6d344",
   "metadata": {},
   "outputs": [
    {
     "data": {
      "text/plain": [
       "'amit'"
      ]
     },
     "execution_count": 61,
     "metadata": {},
     "output_type": "execute_result"
    }
   ],
   "source": [
    "# x[ start=0 : end : step = 1  ] \n",
    "x[0 : 4 : 1]"
   ]
  },
  {
   "cell_type": "code",
   "execution_count": 63,
   "id": "4e4ed0f5",
   "metadata": {},
   "outputs": [
    {
     "data": {
      "text/plain": [
       "'gninrael tima'"
      ]
     },
     "execution_count": 63,
     "metadata": {},
     "output_type": "execute_result"
    }
   ],
   "source": [
    "x[ :  : -1]"
   ]
  },
  {
   "cell_type": "code",
   "execution_count": null,
   "id": "fe664aa0",
   "metadata": {},
   "outputs": [],
   "source": []
  },
  {
   "cell_type": "code",
   "execution_count": 67,
   "id": "7262ab67",
   "metadata": {},
   "outputs": [
    {
     "name": "stdout",
     "output_type": "stream",
     "text": [
      "Enter your num 9\n",
      "the number 9 is odd\n"
     ]
    }
   ],
   "source": [
    "#  4 >>> \"even\"\n",
    "#  5 >>> \"odd\"\n",
    "num = int(input(\"Enter your num \"))\n",
    "if num % 2 == 0 :\n",
    "    print(f\"the number {num} is even\")\n",
    "else:\n",
    "    print(f\"the number {num} is odd\")"
   ]
  },
  {
   "cell_type": "markdown",
   "id": "f90c3cb2",
   "metadata": {},
   "source": [
    "## list "
   ]
  },
  {
   "cell_type": "code",
   "execution_count": 68,
   "id": "3776426f",
   "metadata": {},
   "outputs": [],
   "source": [
    "# x = 10 \n",
    "# y = 20 \n",
    "# z = \"amit\"\n",
    "# a = True \n",
    "lst = [10 ,20 , \"Amit\" , True]  # lst = list(seq) seq (1,2,3,4,5,\"amit\") [1,2,3,4]\n"
   ]
  },
  {
   "cell_type": "code",
   "execution_count": 74,
   "id": "f5960395",
   "metadata": {},
   "outputs": [
    {
     "data": {
      "text/plain": [
       "list"
      ]
     },
     "execution_count": 74,
     "metadata": {},
     "output_type": "execute_result"
    }
   ],
   "source": [
    "lst = [1,2,3,4,5,6,7,8 ]\n",
    "type(lst)"
   ]
  },
  {
   "cell_type": "code",
   "execution_count": 70,
   "id": "27e28bbc",
   "metadata": {},
   "outputs": [
    {
     "data": {
      "text/plain": [
       "4"
      ]
     },
     "execution_count": 70,
     "metadata": {},
     "output_type": "execute_result"
    }
   ],
   "source": [
    "x= \"amit\"\n",
    "len(x)"
   ]
  },
  {
   "cell_type": "code",
   "execution_count": 71,
   "id": "6037b800",
   "metadata": {},
   "outputs": [
    {
     "data": {
      "text/plain": [
       "8"
      ]
     },
     "execution_count": 71,
     "metadata": {},
     "output_type": "execute_result"
    }
   ],
   "source": [
    "len(lst)"
   ]
  },
  {
   "cell_type": "code",
   "execution_count": 75,
   "id": "df182489",
   "metadata": {},
   "outputs": [
    {
     "data": {
      "text/plain": [
       "[1, 2, 3, 4, 5, 6, 7, 8]"
      ]
     },
     "execution_count": 75,
     "metadata": {},
     "output_type": "execute_result"
    }
   ],
   "source": [
    "lst"
   ]
  },
  {
   "cell_type": "code",
   "execution_count": 76,
   "id": "13fbd076",
   "metadata": {},
   "outputs": [
    {
     "data": {
      "text/plain": [
       "1"
      ]
     },
     "execution_count": 76,
     "metadata": {},
     "output_type": "execute_result"
    }
   ],
   "source": [
    "lst[0]"
   ]
  },
  {
   "cell_type": "code",
   "execution_count": 77,
   "id": "c4f8784f",
   "metadata": {},
   "outputs": [
    {
     "data": {
      "text/plain": [
       "8"
      ]
     },
     "execution_count": 77,
     "metadata": {},
     "output_type": "execute_result"
    }
   ],
   "source": [
    "lst[-1]"
   ]
  },
  {
   "cell_type": "code",
   "execution_count": 78,
   "id": "2b7b828d",
   "metadata": {},
   "outputs": [
    {
     "data": {
      "text/plain": [
       "2"
      ]
     },
     "execution_count": 78,
     "metadata": {},
     "output_type": "execute_result"
    }
   ],
   "source": [
    "lst[1]"
   ]
  },
  {
   "cell_type": "code",
   "execution_count": 80,
   "id": "0057cb48",
   "metadata": {},
   "outputs": [],
   "source": [
    "lst[0] = 10"
   ]
  },
  {
   "cell_type": "code",
   "execution_count": 81,
   "id": "86990fdc",
   "metadata": {},
   "outputs": [
    {
     "data": {
      "text/plain": [
       "[10, 2, 3, 4, 5, 6, 7, 8]"
      ]
     },
     "execution_count": 81,
     "metadata": {},
     "output_type": "execute_result"
    }
   ],
   "source": [
    "lst"
   ]
  },
  {
   "cell_type": "code",
   "execution_count": 82,
   "id": "4dd86f6c",
   "metadata": {},
   "outputs": [
    {
     "data": {
      "text/plain": [
       "[10, 2, 3]"
      ]
     },
     "execution_count": 82,
     "metadata": {},
     "output_type": "execute_result"
    }
   ],
   "source": [
    "# lst[start : end : step]\n",
    "lst[0 : 3]"
   ]
  },
  {
   "cell_type": "code",
   "execution_count": 86,
   "id": "8acc8d20",
   "metadata": {},
   "outputs": [
    {
     "data": {
      "text/plain": [
       "[10, 2, 3, 4, 5, 6, 7, 8]"
      ]
     },
     "execution_count": 86,
     "metadata": {},
     "output_type": "execute_result"
    }
   ],
   "source": [
    "lst[ : : 1]   # lst[ : : ]"
   ]
  },
  {
   "cell_type": "code",
   "execution_count": 87,
   "id": "affb9213",
   "metadata": {},
   "outputs": [
    {
     "data": {
      "text/plain": [
       "[8, 7, 6, 5, 4, 3, 2, 10]"
      ]
     },
     "execution_count": 87,
     "metadata": {},
     "output_type": "execute_result"
    }
   ],
   "source": [
    "lst[ : : -1]"
   ]
  },
  {
   "cell_type": "code",
   "execution_count": 88,
   "id": "f6f96e83",
   "metadata": {},
   "outputs": [],
   "source": [
    "x = \"machine learning and deep learning\""
   ]
  },
  {
   "cell_type": "code",
   "execution_count": 96,
   "id": "a079c3ba",
   "metadata": {},
   "outputs": [
    {
     "data": {
      "text/plain": [
       "list"
      ]
     },
     "execution_count": 96,
     "metadata": {},
     "output_type": "execute_result"
    }
   ],
   "source": [
    "y = x.split(\" \")\n",
    "type(y)"
   ]
  },
  {
   "cell_type": "code",
   "execution_count": 97,
   "id": "7a24488c",
   "metadata": {},
   "outputs": [
    {
     "data": {
      "text/plain": [
       "['machine', 'learning', 'and', 'deep', 'learning']"
      ]
     },
     "execution_count": 97,
     "metadata": {},
     "output_type": "execute_result"
    }
   ],
   "source": [
    "y"
   ]
  },
  {
   "cell_type": "code",
   "execution_count": 104,
   "id": "a69e6f94",
   "metadata": {
    "scrolled": true
   },
   "outputs": [
    {
     "data": {
      "text/plain": [
       "'machine learning and deep learning'"
      ]
     },
     "execution_count": 104,
     "metadata": {},
     "output_type": "execute_result"
    }
   ],
   "source": [
    "m = \" \".join(y)\n",
    "m"
   ]
  },
  {
   "cell_type": "code",
   "execution_count": 105,
   "id": "b8a531bb",
   "metadata": {},
   "outputs": [
    {
     "data": {
      "text/plain": [
       "[10, 2, 3, 4, 5, 6, 7, 8]"
      ]
     },
     "execution_count": 105,
     "metadata": {},
     "output_type": "execute_result"
    }
   ],
   "source": [
    "# sum(lst)\n",
    "lst"
   ]
  },
  {
   "cell_type": "code",
   "execution_count": 106,
   "id": "34f73afc",
   "metadata": {},
   "outputs": [
    {
     "data": {
      "text/plain": [
       "45"
      ]
     },
     "execution_count": 106,
     "metadata": {},
     "output_type": "execute_result"
    }
   ],
   "source": [
    "sum(lst)"
   ]
  },
  {
   "cell_type": "code",
   "execution_count": 107,
   "id": "051007d2",
   "metadata": {},
   "outputs": [
    {
     "data": {
      "text/plain": [
       "2"
      ]
     },
     "execution_count": 107,
     "metadata": {},
     "output_type": "execute_result"
    }
   ],
   "source": [
    "min(lst)"
   ]
  },
  {
   "cell_type": "code",
   "execution_count": 108,
   "id": "e0335b01",
   "metadata": {},
   "outputs": [
    {
     "data": {
      "text/plain": [
       "10"
      ]
     },
     "execution_count": 108,
     "metadata": {},
     "output_type": "execute_result"
    }
   ],
   "source": [
    "max(lst)"
   ]
  },
  {
   "cell_type": "code",
   "execution_count": 109,
   "id": "b43adf15",
   "metadata": {
    "scrolled": true
   },
   "outputs": [
    {
     "data": {
      "text/plain": [
       "[10, 2, 3, 4, 5, 6, 7, 8]"
      ]
     },
     "execution_count": 109,
     "metadata": {},
     "output_type": "execute_result"
    }
   ],
   "source": [
    "lst"
   ]
  },
  {
   "cell_type": "code",
   "execution_count": null,
   "id": "1c86be08",
   "metadata": {},
   "outputs": [],
   "source": [
    "# lst.append(value)\n",
    "# lst.insert(index , value)\n",
    "# lst.extend(lst2)"
   ]
  },
  {
   "cell_type": "code",
   "execution_count": 110,
   "id": "d0567835",
   "metadata": {},
   "outputs": [],
   "source": [
    "lst.append(12)"
   ]
  },
  {
   "cell_type": "code",
   "execution_count": 111,
   "id": "47388622",
   "metadata": {},
   "outputs": [
    {
     "data": {
      "text/plain": [
       "[10, 2, 3, 4, 5, 6, 7, 8, 12]"
      ]
     },
     "execution_count": 111,
     "metadata": {},
     "output_type": "execute_result"
    }
   ],
   "source": [
    "lst"
   ]
  },
  {
   "cell_type": "code",
   "execution_count": 112,
   "id": "398ab828",
   "metadata": {},
   "outputs": [],
   "source": [
    "# lst.insert(index , value)\n",
    "lst.insert(0 ,20)"
   ]
  },
  {
   "cell_type": "code",
   "execution_count": 113,
   "id": "afc0859f",
   "metadata": {},
   "outputs": [
    {
     "data": {
      "text/plain": [
       "[20, 10, 2, 3, 4, 5, 6, 7, 8, 12]"
      ]
     },
     "execution_count": 113,
     "metadata": {},
     "output_type": "execute_result"
    }
   ],
   "source": [
    "lst"
   ]
  },
  {
   "cell_type": "code",
   "execution_count": 114,
   "id": "955f1d33",
   "metadata": {},
   "outputs": [],
   "source": [
    "lst.extend([30,40,50])"
   ]
  },
  {
   "cell_type": "code",
   "execution_count": 115,
   "id": "5558239a",
   "metadata": {},
   "outputs": [
    {
     "data": {
      "text/plain": [
       "[20, 10, 2, 3, 4, 5, 6, 7, 8, 12, 30, 40, 50]"
      ]
     },
     "execution_count": 115,
     "metadata": {},
     "output_type": "execute_result"
    }
   ],
   "source": [
    "lst"
   ]
  },
  {
   "cell_type": "code",
   "execution_count": 116,
   "id": "dd1ddedf",
   "metadata": {},
   "outputs": [],
   "source": [
    "# lst.remove(value)\n",
    "# lst.pop(index)\n",
    "# del lst[index]"
   ]
  },
  {
   "cell_type": "code",
   "execution_count": 117,
   "id": "32f0e3dd",
   "metadata": {},
   "outputs": [],
   "source": [
    "lst.remove(40)"
   ]
  },
  {
   "cell_type": "code",
   "execution_count": 118,
   "id": "081ba648",
   "metadata": {},
   "outputs": [
    {
     "data": {
      "text/plain": [
       "[20, 10, 2, 3, 4, 5, 6, 7, 8, 12, 30, 50]"
      ]
     },
     "execution_count": 118,
     "metadata": {},
     "output_type": "execute_result"
    }
   ],
   "source": [
    "lst"
   ]
  },
  {
   "cell_type": "code",
   "execution_count": 119,
   "id": "1be9b819",
   "metadata": {},
   "outputs": [
    {
     "data": {
      "text/plain": [
       "20"
      ]
     },
     "execution_count": 119,
     "metadata": {},
     "output_type": "execute_result"
    }
   ],
   "source": [
    "lst.pop(0)"
   ]
  },
  {
   "cell_type": "code",
   "execution_count": 120,
   "id": "47648585",
   "metadata": {},
   "outputs": [
    {
     "data": {
      "text/plain": [
       "[10, 2, 3, 4, 5, 6, 7, 8, 12, 30, 50]"
      ]
     },
     "execution_count": 120,
     "metadata": {},
     "output_type": "execute_result"
    }
   ],
   "source": [
    "lst"
   ]
  },
  {
   "cell_type": "code",
   "execution_count": 121,
   "id": "12071b35",
   "metadata": {},
   "outputs": [
    {
     "data": {
      "text/plain": [
       "50"
      ]
     },
     "execution_count": 121,
     "metadata": {},
     "output_type": "execute_result"
    }
   ],
   "source": [
    "lst.pop()"
   ]
  },
  {
   "cell_type": "code",
   "execution_count": 122,
   "id": "7dd0f88c",
   "metadata": {},
   "outputs": [
    {
     "data": {
      "text/plain": [
       "[10, 2, 3, 4, 5, 6, 7, 8, 12, 30]"
      ]
     },
     "execution_count": 122,
     "metadata": {},
     "output_type": "execute_result"
    }
   ],
   "source": [
    "lst"
   ]
  },
  {
   "cell_type": "code",
   "execution_count": 123,
   "id": "faeca4aa",
   "metadata": {},
   "outputs": [],
   "source": [
    "del lst[0]"
   ]
  },
  {
   "cell_type": "code",
   "execution_count": 124,
   "id": "b679bd2b",
   "metadata": {},
   "outputs": [
    {
     "data": {
      "text/plain": [
       "[2, 3, 4, 5, 6, 7, 8, 12, 30]"
      ]
     },
     "execution_count": 124,
     "metadata": {},
     "output_type": "execute_result"
    }
   ],
   "source": [
    "lst"
   ]
  },
  {
   "cell_type": "code",
   "execution_count": 125,
   "id": "a536fb2b",
   "metadata": {},
   "outputs": [],
   "source": [
    "lst.append(2)"
   ]
  },
  {
   "cell_type": "code",
   "execution_count": 126,
   "id": "e75481fb",
   "metadata": {},
   "outputs": [
    {
     "data": {
      "text/plain": [
       "[2, 3, 4, 5, 6, 7, 8, 12, 30, 2]"
      ]
     },
     "execution_count": 126,
     "metadata": {},
     "output_type": "execute_result"
    }
   ],
   "source": [
    "lst"
   ]
  },
  {
   "cell_type": "code",
   "execution_count": 127,
   "id": "0607f74e",
   "metadata": {},
   "outputs": [
    {
     "data": {
      "text/plain": [
       "2"
      ]
     },
     "execution_count": 127,
     "metadata": {},
     "output_type": "execute_result"
    }
   ],
   "source": [
    "# lst.count(value)\n",
    "lst.count(2)"
   ]
  },
  {
   "cell_type": "code",
   "execution_count": 128,
   "id": "ca64a28a",
   "metadata": {},
   "outputs": [
    {
     "data": {
      "text/plain": [
       "0"
      ]
     },
     "execution_count": 128,
     "metadata": {},
     "output_type": "execute_result"
    }
   ],
   "source": [
    "lst.count(20)"
   ]
  },
  {
   "cell_type": "code",
   "execution_count": 131,
   "id": "449d96e8",
   "metadata": {},
   "outputs": [
    {
     "data": {
      "text/plain": [
       "3"
      ]
     },
     "execution_count": 131,
     "metadata": {},
     "output_type": "execute_result"
    }
   ],
   "source": [
    "# lst.index(value)\n",
    "lst.index(5)"
   ]
  },
  {
   "cell_type": "code",
   "execution_count": 132,
   "id": "ff101ff3",
   "metadata": {},
   "outputs": [],
   "source": [
    "lst.sort()"
   ]
  },
  {
   "cell_type": "code",
   "execution_count": 133,
   "id": "c9114cbd",
   "metadata": {},
   "outputs": [
    {
     "data": {
      "text/plain": [
       "[2, 2, 3, 4, 5, 6, 7, 8, 12, 30]"
      ]
     },
     "execution_count": 133,
     "metadata": {},
     "output_type": "execute_result"
    }
   ],
   "source": [
    "lst"
   ]
  },
  {
   "cell_type": "code",
   "execution_count": 134,
   "id": "efeac5a9",
   "metadata": {},
   "outputs": [
    {
     "data": {
      "text/plain": [
       "[30, 12, 8, 7, 6, 5, 4, 3, 2, 2]"
      ]
     },
     "execution_count": 134,
     "metadata": {},
     "output_type": "execute_result"
    }
   ],
   "source": [
    "lst[: : -1]"
   ]
  },
  {
   "cell_type": "code",
   "execution_count": 135,
   "id": "dda382cb",
   "metadata": {},
   "outputs": [],
   "source": [
    "lst.reverse()"
   ]
  },
  {
   "cell_type": "code",
   "execution_count": 136,
   "id": "2869f146",
   "metadata": {},
   "outputs": [
    {
     "data": {
      "text/plain": [
       "[30, 12, 8, 7, 6, 5, 4, 3, 2, 2]"
      ]
     },
     "execution_count": 136,
     "metadata": {},
     "output_type": "execute_result"
    }
   ],
   "source": [
    "lst"
   ]
  },
  {
   "cell_type": "code",
   "execution_count": 137,
   "id": "f6495153",
   "metadata": {},
   "outputs": [
    {
     "data": {
      "text/plain": [
       "[30, 12, 8, 7, 6, 5, 4, 3, 2, 2]"
      ]
     },
     "execution_count": 137,
     "metadata": {},
     "output_type": "execute_result"
    }
   ],
   "source": [
    "lst"
   ]
  },
  {
   "cell_type": "code",
   "execution_count": 138,
   "id": "7456fcb8",
   "metadata": {},
   "outputs": [],
   "source": [
    "lst2 = lst"
   ]
  },
  {
   "cell_type": "code",
   "execution_count": 139,
   "id": "7c4af2bc",
   "metadata": {},
   "outputs": [
    {
     "data": {
      "text/plain": [
       "[30, 12, 8, 7, 6, 5, 4, 3, 2, 2]"
      ]
     },
     "execution_count": 139,
     "metadata": {},
     "output_type": "execute_result"
    }
   ],
   "source": [
    "lst2"
   ]
  },
  {
   "cell_type": "code",
   "execution_count": 140,
   "id": "61f8f286",
   "metadata": {},
   "outputs": [
    {
     "data": {
      "text/plain": [
       "[30, 12, 8, 7, 6, 5, 4, 3, 2, 2]"
      ]
     },
     "execution_count": 140,
     "metadata": {},
     "output_type": "execute_result"
    }
   ],
   "source": [
    "lst"
   ]
  },
  {
   "cell_type": "code",
   "execution_count": 141,
   "id": "3ae2c5d5",
   "metadata": {},
   "outputs": [],
   "source": [
    "lst2.append(100)"
   ]
  },
  {
   "cell_type": "code",
   "execution_count": 142,
   "id": "e32c5ac9",
   "metadata": {},
   "outputs": [
    {
     "data": {
      "text/plain": [
       "[30, 12, 8, 7, 6, 5, 4, 3, 2, 2, 100]"
      ]
     },
     "execution_count": 142,
     "metadata": {},
     "output_type": "execute_result"
    }
   ],
   "source": [
    "lst2"
   ]
  },
  {
   "cell_type": "code",
   "execution_count": 143,
   "id": "9cde943d",
   "metadata": {},
   "outputs": [
    {
     "data": {
      "text/plain": [
       "[30, 12, 8, 7, 6, 5, 4, 3, 2, 2, 100]"
      ]
     },
     "execution_count": 143,
     "metadata": {},
     "output_type": "execute_result"
    }
   ],
   "source": [
    "lst"
   ]
  },
  {
   "cell_type": "code",
   "execution_count": 144,
   "id": "db4fded0",
   "metadata": {},
   "outputs": [],
   "source": [
    "lst2 = lst.copy()"
   ]
  },
  {
   "cell_type": "code",
   "execution_count": 145,
   "id": "22ddd543",
   "metadata": {},
   "outputs": [
    {
     "data": {
      "text/plain": [
       "[30, 12, 8, 7, 6, 5, 4, 3, 2, 2, 100]"
      ]
     },
     "execution_count": 145,
     "metadata": {},
     "output_type": "execute_result"
    }
   ],
   "source": [
    "lst2"
   ]
  },
  {
   "cell_type": "code",
   "execution_count": 146,
   "id": "52b393a5",
   "metadata": {},
   "outputs": [
    {
     "data": {
      "text/plain": [
       "[30, 12, 8, 7, 6, 5, 4, 3, 2, 2, 100]"
      ]
     },
     "execution_count": 146,
     "metadata": {},
     "output_type": "execute_result"
    }
   ],
   "source": [
    "lst"
   ]
  },
  {
   "cell_type": "code",
   "execution_count": 147,
   "id": "3818a402",
   "metadata": {},
   "outputs": [],
   "source": [
    "lst2.clear()"
   ]
  },
  {
   "cell_type": "code",
   "execution_count": 148,
   "id": "60dbea7f",
   "metadata": {},
   "outputs": [
    {
     "data": {
      "text/plain": [
       "[]"
      ]
     },
     "execution_count": 148,
     "metadata": {},
     "output_type": "execute_result"
    }
   ],
   "source": [
    "lst2"
   ]
  },
  {
   "cell_type": "code",
   "execution_count": 149,
   "id": "4ff45495",
   "metadata": {},
   "outputs": [
    {
     "data": {
      "text/plain": [
       "[30, 12, 8, 7, 6, 5, 4, 3, 2, 2, 100]"
      ]
     },
     "execution_count": 149,
     "metadata": {},
     "output_type": "execute_result"
    }
   ],
   "source": [
    "lst"
   ]
  },
  {
   "cell_type": "code",
   "execution_count": 150,
   "id": "99220bc1",
   "metadata": {},
   "outputs": [
    {
     "data": {
      "text/plain": [
       "[]"
      ]
     },
     "execution_count": 150,
     "metadata": {},
     "output_type": "execute_result"
    }
   ],
   "source": [
    "lst2 "
   ]
  },
  {
   "cell_type": "code",
   "execution_count": 151,
   "id": "2c831d58",
   "metadata": {},
   "outputs": [],
   "source": [
    "del lst2"
   ]
  },
  {
   "cell_type": "code",
   "execution_count": 152,
   "id": "dc40e27f",
   "metadata": {},
   "outputs": [
    {
     "ename": "NameError",
     "evalue": "name 'lst2' is not defined",
     "output_type": "error",
     "traceback": [
      "\u001b[1;31m---------------------------------------------------------------------------\u001b[0m",
      "\u001b[1;31mNameError\u001b[0m                                 Traceback (most recent call last)",
      "Cell \u001b[1;32mIn[152], line 1\u001b[0m\n\u001b[1;32m----> 1\u001b[0m \u001b[43mlst2\u001b[49m\n",
      "\u001b[1;31mNameError\u001b[0m: name 'lst2' is not defined"
     ]
    }
   ],
   "source": [
    "lst2"
   ]
  },
  {
   "cell_type": "code",
   "execution_count": 153,
   "id": "c21ed30e",
   "metadata": {},
   "outputs": [],
   "source": [
    "l = list()"
   ]
  },
  {
   "cell_type": "code",
   "execution_count": 154,
   "id": "ded12268",
   "metadata": {},
   "outputs": [
    {
     "data": {
      "text/plain": [
       "[]"
      ]
     },
     "execution_count": 154,
     "metadata": {},
     "output_type": "execute_result"
    }
   ],
   "source": [
    "l"
   ]
  },
  {
   "cell_type": "code",
   "execution_count": 155,
   "id": "d155f835",
   "metadata": {},
   "outputs": [],
   "source": [
    "l = []"
   ]
  },
  {
   "cell_type": "code",
   "execution_count": 156,
   "id": "fcb28ea6",
   "metadata": {},
   "outputs": [
    {
     "data": {
      "text/plain": [
       "[]"
      ]
     },
     "execution_count": 156,
     "metadata": {},
     "output_type": "execute_result"
    }
   ],
   "source": [
    "l"
   ]
  },
  {
   "cell_type": "code",
   "execution_count": 158,
   "id": "7679db7e",
   "metadata": {},
   "outputs": [
    {
     "name": "stdout",
     "output_type": "stream",
     "text": [
      "enter 5 num 1 2 3 4 5\n"
     ]
    },
    {
     "data": {
      "text/plain": [
       "['1', '2', '3', '4', '5']"
      ]
     },
     "execution_count": 158,
     "metadata": {},
     "output_type": "execute_result"
    }
   ],
   "source": [
    "num = input(\"enter 5 num \").split()\n",
    "num"
   ]
  },
  {
   "cell_type": "code",
   "execution_count": 159,
   "id": "5659cda0",
   "metadata": {},
   "outputs": [
    {
     "name": "stdout",
     "output_type": "stream",
     "text": [
      "enter 1 num 2\n",
      "enter 2 num 3\n",
      "enter 3 num 4\n",
      "enter 4 num 5\n",
      "enter 5 num 6\n"
     ]
    },
    {
     "data": {
      "text/plain": [
       "['2', '3', '4', '5', '6']"
      ]
     },
     "execution_count": 159,
     "metadata": {},
     "output_type": "execute_result"
    }
   ],
   "source": [
    "num1 = input(\"enter 1 num \")\n",
    "num2 = input(\"enter 2 num \")\n",
    "num3 = input(\"enter 3 num \")\n",
    "num4 = input(\"enter 4 num \")\n",
    "num5 = input(\"enter 5 num \")\n",
    "lst = []\n",
    "lst.append(num1)\n",
    "lst.append(num2)\n",
    "lst.append(num3)\n",
    "lst.append(num4)\n",
    "lst.append(num5)\n",
    "lst"
   ]
  },
  {
   "cell_type": "code",
   "execution_count": 160,
   "id": "e502d96e",
   "metadata": {},
   "outputs": [
    {
     "data": {
      "text/plain": [
       "['2', '3', '4', '5', '6']"
      ]
     },
     "execution_count": 160,
     "metadata": {},
     "output_type": "execute_result"
    }
   ],
   "source": [
    "lst = [num1, num2 , num3 , num4 , num5]\n",
    "lst"
   ]
  },
  {
   "cell_type": "markdown",
   "id": "2c3b6ea9",
   "metadata": {},
   "source": [
    "## tuple"
   ]
  },
  {
   "cell_type": "code",
   "execution_count": 161,
   "id": "fcff82b3",
   "metadata": {},
   "outputs": [
    {
     "data": {
      "text/plain": [
       "(1, 2, 3, 4, 'amit', True)"
      ]
     },
     "execution_count": 161,
     "metadata": {},
     "output_type": "execute_result"
    }
   ],
   "source": [
    "t = (1,2,3,4,\"amit\" , True)  # t=  tuple(seq)\n",
    "t"
   ]
  },
  {
   "cell_type": "code",
   "execution_count": 182,
   "id": "81177aa0",
   "metadata": {
    "scrolled": true
   },
   "outputs": [
    {
     "data": {
      "text/plain": [
       "tuple"
      ]
     },
     "execution_count": 182,
     "metadata": {},
     "output_type": "execute_result"
    }
   ],
   "source": [
    "t = (1,2,3,4,5)\n",
    "type(t)"
   ]
  },
  {
   "cell_type": "code",
   "execution_count": 183,
   "id": "f0df730b",
   "metadata": {},
   "outputs": [
    {
     "data": {
      "text/plain": [
       "2157248605184"
      ]
     },
     "execution_count": 183,
     "metadata": {},
     "output_type": "execute_result"
    }
   ],
   "source": [
    "id(t)"
   ]
  },
  {
   "cell_type": "code",
   "execution_count": 163,
   "id": "1ec33161",
   "metadata": {},
   "outputs": [
    {
     "data": {
      "text/plain": [
       "5"
      ]
     },
     "execution_count": 163,
     "metadata": {},
     "output_type": "execute_result"
    }
   ],
   "source": [
    "len(t)"
   ]
  },
  {
   "cell_type": "code",
   "execution_count": 164,
   "id": "32663e0c",
   "metadata": {},
   "outputs": [
    {
     "data": {
      "text/plain": [
       "15"
      ]
     },
     "execution_count": 164,
     "metadata": {},
     "output_type": "execute_result"
    }
   ],
   "source": [
    "sum(t)"
   ]
  },
  {
   "cell_type": "code",
   "execution_count": 165,
   "id": "9fe44019",
   "metadata": {},
   "outputs": [
    {
     "data": {
      "text/plain": [
       "5"
      ]
     },
     "execution_count": 165,
     "metadata": {},
     "output_type": "execute_result"
    }
   ],
   "source": [
    "max(t)"
   ]
  },
  {
   "cell_type": "code",
   "execution_count": 166,
   "id": "b54e3880",
   "metadata": {},
   "outputs": [
    {
     "data": {
      "text/plain": [
       "1"
      ]
     },
     "execution_count": 166,
     "metadata": {},
     "output_type": "execute_result"
    }
   ],
   "source": [
    "min(t)"
   ]
  },
  {
   "cell_type": "code",
   "execution_count": 167,
   "id": "0d093ace",
   "metadata": {},
   "outputs": [
    {
     "data": {
      "text/plain": [
       "1"
      ]
     },
     "execution_count": 167,
     "metadata": {},
     "output_type": "execute_result"
    }
   ],
   "source": [
    "t[0]"
   ]
  },
  {
   "cell_type": "code",
   "execution_count": 168,
   "id": "f20fca6c",
   "metadata": {},
   "outputs": [
    {
     "ename": "TypeError",
     "evalue": "'tuple' object does not support item assignment",
     "output_type": "error",
     "traceback": [
      "\u001b[1;31m---------------------------------------------------------------------------\u001b[0m",
      "\u001b[1;31mTypeError\u001b[0m                                 Traceback (most recent call last)",
      "Cell \u001b[1;32mIn[168], line 1\u001b[0m\n\u001b[1;32m----> 1\u001b[0m t[\u001b[38;5;241m0\u001b[39m] \u001b[38;5;241m=\u001b[39m\u001b[38;5;241m20\u001b[39m\n",
      "\u001b[1;31mTypeError\u001b[0m: 'tuple' object does not support item assignment"
     ]
    }
   ],
   "source": [
    "t[0] = 20"
   ]
  },
  {
   "cell_type": "code",
   "execution_count": 169,
   "id": "c00deb09",
   "metadata": {},
   "outputs": [],
   "source": [
    "# mutable   list ,  dict \n",
    "# immutable   >> tuple , str , int , float , bool "
   ]
  },
  {
   "cell_type": "code",
   "execution_count": 170,
   "id": "626450b7",
   "metadata": {},
   "outputs": [
    {
     "data": {
      "text/plain": [
       "(1, 2, 3, 4, 5)"
      ]
     },
     "execution_count": 170,
     "metadata": {},
     "output_type": "execute_result"
    }
   ],
   "source": [
    "t"
   ]
  },
  {
   "cell_type": "code",
   "execution_count": 171,
   "id": "2c693682",
   "metadata": {},
   "outputs": [
    {
     "data": {
      "text/plain": [
       "1"
      ]
     },
     "execution_count": 171,
     "metadata": {},
     "output_type": "execute_result"
    }
   ],
   "source": [
    "t.count(1)"
   ]
  },
  {
   "cell_type": "code",
   "execution_count": 172,
   "id": "fc253eb3",
   "metadata": {},
   "outputs": [
    {
     "data": {
      "text/plain": [
       "1"
      ]
     },
     "execution_count": 172,
     "metadata": {},
     "output_type": "execute_result"
    }
   ],
   "source": [
    "t.index(2)"
   ]
  },
  {
   "cell_type": "code",
   "execution_count": 184,
   "id": "80d6f584",
   "metadata": {},
   "outputs": [
    {
     "data": {
      "text/plain": [
       "[1, 2, 3, 4, 5]"
      ]
     },
     "execution_count": 184,
     "metadata": {},
     "output_type": "execute_result"
    }
   ],
   "source": [
    "lst = list(t)\n",
    "lst"
   ]
  },
  {
   "cell_type": "code",
   "execution_count": 185,
   "id": "5a8e10b5",
   "metadata": {},
   "outputs": [
    {
     "data": {
      "text/plain": [
       "[1, 2, 3, 4, 5, 6]"
      ]
     },
     "execution_count": 185,
     "metadata": {},
     "output_type": "execute_result"
    }
   ],
   "source": [
    "lst.append(6)\n",
    "lst"
   ]
  },
  {
   "cell_type": "code",
   "execution_count": 186,
   "id": "08a3093a",
   "metadata": {},
   "outputs": [],
   "source": [
    "t = tuple(lst)"
   ]
  },
  {
   "cell_type": "code",
   "execution_count": 187,
   "id": "95e8511f",
   "metadata": {},
   "outputs": [
    {
     "data": {
      "text/plain": [
       "(1, 2, 3, 4, 5, 6)"
      ]
     },
     "execution_count": 187,
     "metadata": {},
     "output_type": "execute_result"
    }
   ],
   "source": [
    "t"
   ]
  },
  {
   "cell_type": "code",
   "execution_count": 188,
   "id": "ba254bc7",
   "metadata": {},
   "outputs": [
    {
     "data": {
      "text/plain": [
       "2157251785728"
      ]
     },
     "execution_count": 188,
     "metadata": {},
     "output_type": "execute_result"
    }
   ],
   "source": [
    "id(t)"
   ]
  },
  {
   "cell_type": "code",
   "execution_count": 178,
   "id": "b1ba1ea0",
   "metadata": {},
   "outputs": [
    {
     "data": {
      "text/plain": [
       "10"
      ]
     },
     "execution_count": 178,
     "metadata": {},
     "output_type": "execute_result"
    }
   ],
   "source": [
    "x = 10 \n",
    "x"
   ]
  },
  {
   "cell_type": "code",
   "execution_count": 179,
   "id": "4c30f336",
   "metadata": {},
   "outputs": [
    {
     "data": {
      "text/plain": [
       "2157129302544"
      ]
     },
     "execution_count": 179,
     "metadata": {},
     "output_type": "execute_result"
    }
   ],
   "source": [
    "id(x)"
   ]
  },
  {
   "cell_type": "code",
   "execution_count": 180,
   "id": "d74c1ad7",
   "metadata": {},
   "outputs": [
    {
     "data": {
      "text/plain": [
       "30"
      ]
     },
     "execution_count": 180,
     "metadata": {},
     "output_type": "execute_result"
    }
   ],
   "source": [
    "x = 30\n",
    "x"
   ]
  },
  {
   "cell_type": "code",
   "execution_count": 181,
   "id": "6009928a",
   "metadata": {},
   "outputs": [
    {
     "data": {
      "text/plain": [
       "2157129303184"
      ]
     },
     "execution_count": 181,
     "metadata": {},
     "output_type": "execute_result"
    }
   ],
   "source": [
    "id(x)"
   ]
  },
  {
   "cell_type": "code",
   "execution_count": 189,
   "id": "9333ba73",
   "metadata": {},
   "outputs": [
    {
     "data": {
      "text/plain": [
       "True"
      ]
     },
     "execution_count": 189,
     "metadata": {},
     "output_type": "execute_result"
    }
   ],
   "source": [
    "5 in t"
   ]
  },
  {
   "cell_type": "code",
   "execution_count": 190,
   "id": "0dae09ef",
   "metadata": {},
   "outputs": [
    {
     "name": "stdout",
     "output_type": "stream",
     "text": [
      "number 5 in tuple\n"
     ]
    }
   ],
   "source": [
    "if 5 in t :\n",
    "    print(\"number 5 in tuple\" )\n",
    "else:\n",
    "    print(\"not found\")"
   ]
  },
  {
   "cell_type": "code",
   "execution_count": 191,
   "id": "ed76d30b",
   "metadata": {},
   "outputs": [
    {
     "data": {
      "text/plain": [
       "(1, 2, 3, 4, 5, 6)"
      ]
     },
     "execution_count": 191,
     "metadata": {},
     "output_type": "execute_result"
    }
   ],
   "source": [
    "t"
   ]
  },
  {
   "cell_type": "code",
   "execution_count": 192,
   "id": "cd4ac3f0",
   "metadata": {},
   "outputs": [],
   "source": [
    "a , b , c , d , e ,f = t"
   ]
  },
  {
   "cell_type": "code",
   "execution_count": 193,
   "id": "fc314e61",
   "metadata": {},
   "outputs": [
    {
     "data": {
      "text/plain": [
       "1"
      ]
     },
     "execution_count": 193,
     "metadata": {},
     "output_type": "execute_result"
    }
   ],
   "source": [
    "a"
   ]
  },
  {
   "cell_type": "code",
   "execution_count": 194,
   "id": "a681585f",
   "metadata": {},
   "outputs": [
    {
     "data": {
      "text/plain": [
       "2"
      ]
     },
     "execution_count": 194,
     "metadata": {},
     "output_type": "execute_result"
    }
   ],
   "source": [
    "b"
   ]
  },
  {
   "cell_type": "code",
   "execution_count": 195,
   "id": "fc268cb6",
   "metadata": {},
   "outputs": [
    {
     "data": {
      "text/plain": [
       "6"
      ]
     },
     "execution_count": 195,
     "metadata": {},
     "output_type": "execute_result"
    }
   ],
   "source": [
    "f"
   ]
  },
  {
   "cell_type": "code",
   "execution_count": 196,
   "id": "1aaf783d",
   "metadata": {},
   "outputs": [
    {
     "data": {
      "text/plain": [
       "(1, 2, 3)"
      ]
     },
     "execution_count": 196,
     "metadata": {},
     "output_type": "execute_result"
    }
   ],
   "source": [
    "t[0 : 3]"
   ]
  },
  {
   "cell_type": "code",
   "execution_count": 198,
   "id": "baf81d71",
   "metadata": {},
   "outputs": [
    {
     "name": "stdout",
     "output_type": "stream",
     "text": [
      "1\n",
      "2\n",
      "3\n"
     ]
    }
   ],
   "source": [
    "a , b , c = t[0 : 3]\n",
    "print(a)\n",
    "print(b)\n",
    "print(c)"
   ]
  },
  {
   "cell_type": "markdown",
   "id": "f61d6bcd",
   "metadata": {},
   "source": [
    "## Set "
   ]
  },
  {
   "cell_type": "code",
   "execution_count": 199,
   "id": "5c8937ba",
   "metadata": {},
   "outputs": [],
   "source": [
    "s = {1,2,3} # s = set(seq)"
   ]
  },
  {
   "cell_type": "code",
   "execution_count": 200,
   "id": "f0672805",
   "metadata": {},
   "outputs": [
    {
     "data": {
      "text/plain": [
       "3"
      ]
     },
     "execution_count": 200,
     "metadata": {},
     "output_type": "execute_result"
    }
   ],
   "source": [
    "len(s)"
   ]
  },
  {
   "cell_type": "code",
   "execution_count": 201,
   "id": "54e509f6",
   "metadata": {},
   "outputs": [
    {
     "data": {
      "text/plain": [
       "set"
      ]
     },
     "execution_count": 201,
     "metadata": {},
     "output_type": "execute_result"
    }
   ],
   "source": [
    "type(s)"
   ]
  },
  {
   "cell_type": "code",
   "execution_count": 202,
   "id": "2959ab08",
   "metadata": {},
   "outputs": [
    {
     "data": {
      "text/plain": [
       "6"
      ]
     },
     "execution_count": 202,
     "metadata": {},
     "output_type": "execute_result"
    }
   ],
   "source": [
    "sum(s)"
   ]
  },
  {
   "cell_type": "code",
   "execution_count": 203,
   "id": "e4e54bbd",
   "metadata": {},
   "outputs": [
    {
     "data": {
      "text/plain": [
       "3"
      ]
     },
     "execution_count": 203,
     "metadata": {},
     "output_type": "execute_result"
    }
   ],
   "source": [
    "max(s)"
   ]
  },
  {
   "cell_type": "code",
   "execution_count": 204,
   "id": "4b4bc132",
   "metadata": {},
   "outputs": [
    {
     "data": {
      "text/plain": [
       "1"
      ]
     },
     "execution_count": 204,
     "metadata": {},
     "output_type": "execute_result"
    }
   ],
   "source": [
    "min(s)"
   ]
  },
  {
   "cell_type": "code",
   "execution_count": 205,
   "id": "c9b65f50",
   "metadata": {},
   "outputs": [
    {
     "data": {
      "text/plain": [
       "{1, 2, 3, 4, 5, 6}"
      ]
     },
     "execution_count": 205,
     "metadata": {},
     "output_type": "execute_result"
    }
   ],
   "source": [
    "A = {1,2,3,4}\n",
    "B = {3,4,5,6}\n",
    "A.union(B)    # A v B "
   ]
  },
  {
   "cell_type": "code",
   "execution_count": 206,
   "id": "14b294c7",
   "metadata": {},
   "outputs": [
    {
     "data": {
      "text/plain": [
       "{3, 4}"
      ]
     },
     "execution_count": 206,
     "metadata": {},
     "output_type": "execute_result"
    }
   ],
   "source": [
    "A.intersection(B)  # A ^ B "
   ]
  },
  {
   "cell_type": "code",
   "execution_count": 207,
   "id": "6ac2bf3e",
   "metadata": {},
   "outputs": [
    {
     "data": {
      "text/plain": [
       "{1, 2}"
      ]
     },
     "execution_count": 207,
     "metadata": {},
     "output_type": "execute_result"
    }
   ],
   "source": [
    "A.difference(B)"
   ]
  },
  {
   "cell_type": "code",
   "execution_count": 208,
   "id": "d40d5deb",
   "metadata": {},
   "outputs": [
    {
     "data": {
      "text/plain": [
       "{5, 6}"
      ]
     },
     "execution_count": 208,
     "metadata": {},
     "output_type": "execute_result"
    }
   ],
   "source": [
    "B.difference(A)"
   ]
  },
  {
   "cell_type": "code",
   "execution_count": 209,
   "id": "ece21baa",
   "metadata": {},
   "outputs": [
    {
     "data": {
      "text/plain": [
       "{1, 2, 3, 4, 5, 6, 9}"
      ]
     },
     "execution_count": 209,
     "metadata": {},
     "output_type": "execute_result"
    }
   ],
   "source": [
    "lst = [1,1,1,1,2,3,4,5,6,5,4,3,2,2,2,3,4,5,6,9]\n",
    "set(lst)"
   ]
  },
  {
   "cell_type": "code",
   "execution_count": 210,
   "id": "103dcf99",
   "metadata": {},
   "outputs": [
    {
     "data": {
      "text/plain": [
       "{1, 2, 3}"
      ]
     },
     "execution_count": 210,
     "metadata": {},
     "output_type": "execute_result"
    }
   ],
   "source": [
    "s"
   ]
  },
  {
   "cell_type": "code",
   "execution_count": 211,
   "id": "1c66d63a",
   "metadata": {},
   "outputs": [],
   "source": [
    "s.add(4)"
   ]
  },
  {
   "cell_type": "code",
   "execution_count": 212,
   "id": "573e73f3",
   "metadata": {},
   "outputs": [
    {
     "data": {
      "text/plain": [
       "{1, 2, 3, 4}"
      ]
     },
     "execution_count": 212,
     "metadata": {},
     "output_type": "execute_result"
    }
   ],
   "source": [
    "s"
   ]
  },
  {
   "cell_type": "code",
   "execution_count": 213,
   "id": "e1cff426",
   "metadata": {},
   "outputs": [],
   "source": [
    "s.add(1)"
   ]
  },
  {
   "cell_type": "code",
   "execution_count": 214,
   "id": "00a91ff1",
   "metadata": {},
   "outputs": [
    {
     "data": {
      "text/plain": [
       "{1, 2, 3, 4}"
      ]
     },
     "execution_count": 214,
     "metadata": {},
     "output_type": "execute_result"
    }
   ],
   "source": [
    "s"
   ]
  },
  {
   "cell_type": "code",
   "execution_count": 218,
   "id": "7d263b78",
   "metadata": {},
   "outputs": [],
   "source": [
    "s.update([3,4,5,6])"
   ]
  },
  {
   "cell_type": "code",
   "execution_count": 219,
   "id": "da078191",
   "metadata": {},
   "outputs": [
    {
     "data": {
      "text/plain": [
       "{1, 2, 3, 4, 5, 6}"
      ]
     },
     "execution_count": 219,
     "metadata": {},
     "output_type": "execute_result"
    }
   ],
   "source": [
    "s"
   ]
  },
  {
   "cell_type": "code",
   "execution_count": 215,
   "id": "779247b2",
   "metadata": {},
   "outputs": [],
   "source": [
    "s.remove(4)"
   ]
  },
  {
   "cell_type": "code",
   "execution_count": 216,
   "id": "23c0f5cb",
   "metadata": {},
   "outputs": [
    {
     "data": {
      "text/plain": [
       "{1, 2, 3}"
      ]
     },
     "execution_count": 216,
     "metadata": {},
     "output_type": "execute_result"
    }
   ],
   "source": [
    "s"
   ]
  },
  {
   "cell_type": "code",
   "execution_count": 217,
   "id": "eeaea93c",
   "metadata": {},
   "outputs": [
    {
     "ename": "TypeError",
     "evalue": "'set' object is not subscriptable",
     "output_type": "error",
     "traceback": [
      "\u001b[1;31m---------------------------------------------------------------------------\u001b[0m",
      "\u001b[1;31mTypeError\u001b[0m                                 Traceback (most recent call last)",
      "Cell \u001b[1;32mIn[217], line 1\u001b[0m\n\u001b[1;32m----> 1\u001b[0m \u001b[43ms\u001b[49m\u001b[43m[\u001b[49m\u001b[38;5;241;43m0\u001b[39;49m\u001b[43m]\u001b[49m\n",
      "\u001b[1;31mTypeError\u001b[0m: 'set' object is not subscriptable"
     ]
    }
   ],
   "source": [
    "s[0]"
   ]
  },
  {
   "cell_type": "code",
   "execution_count": 220,
   "id": "92edfb83",
   "metadata": {},
   "outputs": [
    {
     "data": {
      "text/plain": [
       "True"
      ]
     },
     "execution_count": 220,
     "metadata": {},
     "output_type": "execute_result"
    }
   ],
   "source": [
    "1 in s"
   ]
  },
  {
   "cell_type": "code",
   "execution_count": 221,
   "id": "c06dc121",
   "metadata": {},
   "outputs": [
    {
     "data": {
      "text/plain": [
       "False"
      ]
     },
     "execution_count": 221,
     "metadata": {},
     "output_type": "execute_result"
    }
   ],
   "source": [
    "10 in s"
   ]
  },
  {
   "cell_type": "code",
   "execution_count": 222,
   "id": "b2ff5533",
   "metadata": {},
   "outputs": [
    {
     "data": {
      "text/plain": [
       "True"
      ]
     },
     "execution_count": 222,
     "metadata": {},
     "output_type": "execute_result"
    }
   ],
   "source": [
    "10 not in s "
   ]
  },
  {
   "cell_type": "markdown",
   "id": "5ec18960",
   "metadata": {},
   "source": [
    "## Dictionary "
   ]
  },
  {
   "cell_type": "code",
   "execution_count": 223,
   "id": "84ec3a01",
   "metadata": {},
   "outputs": [],
   "source": [
    "# d = {\"key\": value}  d = dict([(1,2) , (2,4)])\n",
    "d = {\"name\": \"amit\" , \"age\": 30  , \"addr\":\"123\"}"
   ]
  },
  {
   "cell_type": "code",
   "execution_count": 224,
   "id": "096d20d8",
   "metadata": {},
   "outputs": [
    {
     "data": {
      "text/plain": [
       "'amit'"
      ]
     },
     "execution_count": 224,
     "metadata": {},
     "output_type": "execute_result"
    }
   ],
   "source": [
    "d[\"name\"]"
   ]
  },
  {
   "cell_type": "code",
   "execution_count": 225,
   "id": "1ff455ba",
   "metadata": {},
   "outputs": [
    {
     "data": {
      "text/plain": [
       "'amit'"
      ]
     },
     "execution_count": 225,
     "metadata": {},
     "output_type": "execute_result"
    }
   ],
   "source": [
    "d.get(\"name\")"
   ]
  },
  {
   "cell_type": "code",
   "execution_count": 226,
   "id": "2f206748",
   "metadata": {},
   "outputs": [],
   "source": [
    "d[\"age\"] = 50 "
   ]
  },
  {
   "cell_type": "code",
   "execution_count": 227,
   "id": "0222506e",
   "metadata": {},
   "outputs": [
    {
     "data": {
      "text/plain": [
       "{'name': 'amit', 'age': 50, 'addr': '123'}"
      ]
     },
     "execution_count": 227,
     "metadata": {},
     "output_type": "execute_result"
    }
   ],
   "source": [
    "d"
   ]
  },
  {
   "cell_type": "code",
   "execution_count": 229,
   "id": "9cf91052",
   "metadata": {},
   "outputs": [],
   "source": [
    "# x = \"amit\"\n",
    "# x[0] = 'b'"
   ]
  },
  {
   "cell_type": "code",
   "execution_count": 230,
   "id": "b370fbc5",
   "metadata": {},
   "outputs": [
    {
     "data": {
      "text/plain": [
       "dict_keys(['name', 'age', 'addr'])"
      ]
     },
     "execution_count": 230,
     "metadata": {},
     "output_type": "execute_result"
    }
   ],
   "source": [
    "d.keys()"
   ]
  },
  {
   "cell_type": "code",
   "execution_count": 231,
   "id": "3f961c84",
   "metadata": {},
   "outputs": [
    {
     "data": {
      "text/plain": [
       "dict_values(['amit', 50, '123'])"
      ]
     },
     "execution_count": 231,
     "metadata": {},
     "output_type": "execute_result"
    }
   ],
   "source": [
    "d.values()"
   ]
  },
  {
   "cell_type": "code",
   "execution_count": 232,
   "id": "b65e4d0d",
   "metadata": {},
   "outputs": [
    {
     "data": {
      "text/plain": [
       "dict_items([('name', 'amit'), ('age', 50), ('addr', '123')])"
      ]
     },
     "execution_count": 232,
     "metadata": {},
     "output_type": "execute_result"
    }
   ],
   "source": [
    "d.items()"
   ]
  },
  {
   "cell_type": "code",
   "execution_count": 233,
   "id": "025f5dc0",
   "metadata": {},
   "outputs": [
    {
     "data": {
      "text/plain": [
       "{'name': 'amit', 'age': 50, 'addr': '123'}"
      ]
     },
     "execution_count": 233,
     "metadata": {},
     "output_type": "execute_result"
    }
   ],
   "source": [
    "d = dict([('name', 'amit'), ('age', 50), ('addr', '123')])\n",
    "d"
   ]
  },
  {
   "cell_type": "code",
   "execution_count": 234,
   "id": "b1366a70",
   "metadata": {},
   "outputs": [
    {
     "data": {
      "text/plain": [
       "{'name': 'amit', 'age': 50, 'addr': '123'}"
      ]
     },
     "execution_count": 234,
     "metadata": {},
     "output_type": "execute_result"
    }
   ],
   "source": [
    "d"
   ]
  },
  {
   "cell_type": "code",
   "execution_count": 236,
   "id": "85168c38",
   "metadata": {},
   "outputs": [],
   "source": [
    "d[\"phone\"] = 1010"
   ]
  },
  {
   "cell_type": "code",
   "execution_count": 237,
   "id": "d2469d1e",
   "metadata": {},
   "outputs": [
    {
     "data": {
      "text/plain": [
       "{'name': 'amit', 'age': 50, 'addr': '123', 'phone': 1010}"
      ]
     },
     "execution_count": 237,
     "metadata": {},
     "output_type": "execute_result"
    }
   ],
   "source": [
    "d"
   ]
  },
  {
   "cell_type": "code",
   "execution_count": 238,
   "id": "5982a666",
   "metadata": {},
   "outputs": [],
   "source": [
    "d2 = d.copy()"
   ]
  },
  {
   "cell_type": "code",
   "execution_count": 239,
   "id": "16a41c41",
   "metadata": {},
   "outputs": [
    {
     "data": {
      "text/plain": [
       "{'name': 'amit', 'age': 50, 'addr': '123', 'phone': 1010}"
      ]
     },
     "execution_count": 239,
     "metadata": {},
     "output_type": "execute_result"
    }
   ],
   "source": [
    "d2"
   ]
  },
  {
   "cell_type": "code",
   "execution_count": 240,
   "id": "44f8e487",
   "metadata": {},
   "outputs": [],
   "source": [
    "d2.clear()"
   ]
  },
  {
   "cell_type": "code",
   "execution_count": 242,
   "id": "07ce22fb",
   "metadata": {},
   "outputs": [
    {
     "data": {
      "text/plain": [
       "dict"
      ]
     },
     "execution_count": 242,
     "metadata": {},
     "output_type": "execute_result"
    }
   ],
   "source": [
    "type(d2)"
   ]
  },
  {
   "cell_type": "code",
   "execution_count": 243,
   "id": "3cdcc3c3",
   "metadata": {},
   "outputs": [],
   "source": [
    "d ={'name': ['python' , \"DS\" , \"machine\"], 'grades': [50 , 60, 70 ] , \"n_students\":[20,30,20] }"
   ]
  },
  {
   "cell_type": "code",
   "execution_count": 244,
   "id": "f16bc219",
   "metadata": {},
   "outputs": [
    {
     "data": {
      "text/plain": [
       "{'name': ['python', 'DS', 'machine'],\n",
       " 'grades': [50, 60, 70],\n",
       " 'n_students': [20, 30, 20]}"
      ]
     },
     "execution_count": 244,
     "metadata": {},
     "output_type": "execute_result"
    }
   ],
   "source": [
    "d"
   ]
  },
  {
   "cell_type": "code",
   "execution_count": 247,
   "id": "f3c5a3d0",
   "metadata": {},
   "outputs": [
    {
     "data": {
      "text/plain": [
       "{'name': ['PYTHON', 'DS', 'machine'],\n",
       " 'grades': [50, 60, 70],\n",
       " 'n_students': [20, 30, 20]}"
      ]
     },
     "execution_count": 247,
     "metadata": {},
     "output_type": "execute_result"
    }
   ],
   "source": [
    "d[\"name\"][0] = 'python'.upper()\n",
    "d"
   ]
  },
  {
   "cell_type": "code",
   "execution_count": 1,
   "id": "0a6f6a5c",
   "metadata": {},
   "outputs": [],
   "source": [
    "d = {\"k1\":[1,2,3,4,5,6,7,{1:1 , 2:[1,2,3,4,5,{\"k2\":[\"amit\" , \"learning\" , [2,3,4,5,6,{\"k3\":[\"  Amit_learning  \"]}]]}]}]}"
   ]
  },
  {
   "cell_type": "code",
   "execution_count": 6,
   "id": "25cfedb8",
   "metadata": {
    "scrolled": true
   },
   "outputs": [],
   "source": [
    "d[\"k1\"][-1][2][-1][\"k2\"][-1][-1]['k3'][0] = d[\"k1\"][-1][2][-1][\"k2\"][-1][-1]['k3'][0].strip().upper()"
   ]
  },
  {
   "cell_type": "code",
   "execution_count": 7,
   "id": "a16f647f",
   "metadata": {},
   "outputs": [
    {
     "data": {
      "text/plain": [
       "{'k1': [1,\n",
       "  2,\n",
       "  3,\n",
       "  4,\n",
       "  5,\n",
       "  6,\n",
       "  7,\n",
       "  {1: 1,\n",
       "   2: [1,\n",
       "    2,\n",
       "    3,\n",
       "    4,\n",
       "    5,\n",
       "    {'k2': ['amit',\n",
       "      'learning',\n",
       "      [2, 3, 4, 5, 6, {'k3': ['AMIT_LEARNING']}]]}]}]}"
      ]
     },
     "execution_count": 7,
     "metadata": {},
     "output_type": "execute_result"
    }
   ],
   "source": [
    "d"
   ]
  },
  {
   "cell_type": "code",
   "execution_count": 8,
   "id": "033345ee",
   "metadata": {},
   "outputs": [
    {
     "name": "stdout",
     "output_type": "stream",
     "text": [
      "    \n",
      " amit     \t\n"
     ]
    }
   ],
   "source": [
    "x = \"    \\n amit     \\t\"\n",
    "print(x)"
   ]
  },
  {
   "cell_type": "code",
   "execution_count": 9,
   "id": "09af0927",
   "metadata": {},
   "outputs": [
    {
     "data": {
      "text/plain": [
       "'amit'"
      ]
     },
     "execution_count": 9,
     "metadata": {},
     "output_type": "execute_result"
    }
   ],
   "source": [
    "x.strip()"
   ]
  },
  {
   "cell_type": "markdown",
   "id": "9bf8d496",
   "metadata": {},
   "source": [
    "## for loop \n"
   ]
  },
  {
   "cell_type": "code",
   "execution_count": 11,
   "id": "f93ad8df",
   "metadata": {},
   "outputs": [
    {
     "name": "stdout",
     "output_type": "stream",
     "text": [
      "2\n",
      "**\n",
      "3\n",
      "***\n",
      "4\n",
      "****\n",
      "5\n",
      "*****\n",
      "6\n",
      "******\n"
     ]
    }
   ],
   "source": [
    "# for i in  seq : seq >>\" list , tuple , str , dict , set\" \n",
    "#     ......\n",
    "#     ....\n",
    "#     .....\n",
    "#     ......\n",
    "    \n",
    "lst = [2,3,4,5,6]\n",
    "for i in [2,3,4,5,6] :\n",
    "    print(i)\n",
    "    print(\"*\" * i  )\n",
    "    "
   ]
  },
  {
   "cell_type": "code",
   "execution_count": 12,
   "id": "173ebbbf",
   "metadata": {},
   "outputs": [
    {
     "name": "stdout",
     "output_type": "stream",
     "text": [
      "2\n",
      "3\n",
      "4\n",
      "5\n",
      "6\n"
     ]
    }
   ],
   "source": [
    "for i in lst:\n",
    "    print(i)"
   ]
  },
  {
   "cell_type": "code",
   "execution_count": 13,
   "id": "60e42f16",
   "metadata": {},
   "outputs": [
    {
     "name": "stdout",
     "output_type": "stream",
     "text": [
      "0\n",
      "1\n",
      "2\n",
      "3\n",
      "4\n"
     ]
    }
   ],
   "source": [
    "for i in range(0,5,1):    #range(start=0 , end , step=1)\n",
    "    print(i)"
   ]
  },
  {
   "cell_type": "code",
   "execution_count": 17,
   "id": "31e2c583",
   "metadata": {},
   "outputs": [
    {
     "name": "stdout",
     "output_type": "stream",
     "text": [
      "Enter the number 2\n",
      "Enter the number 3\n",
      "Enter the number 4\n",
      "Enter the number 5\n",
      "Enter the number 6\n"
     ]
    }
   ],
   "source": [
    "lst = []\n",
    "for i in range(5):\n",
    "    x= int(input(\"Enter the number \"))\n",
    "    lst.append(x)"
   ]
  },
  {
   "cell_type": "code",
   "execution_count": 18,
   "id": "2a053390",
   "metadata": {},
   "outputs": [
    {
     "data": {
      "text/plain": [
       "[2, 3, 4, 5, 6]"
      ]
     },
     "execution_count": 18,
     "metadata": {},
     "output_type": "execute_result"
    }
   ],
   "source": [
    "lst"
   ]
  },
  {
   "cell_type": "code",
   "execution_count": 19,
   "id": "9e50cec1",
   "metadata": {},
   "outputs": [
    {
     "data": {
      "text/plain": [
       "20"
      ]
     },
     "execution_count": 19,
     "metadata": {},
     "output_type": "execute_result"
    }
   ],
   "source": [
    "sum(lst)"
   ]
  },
  {
   "cell_type": "code",
   "execution_count": 21,
   "id": "bb10d210",
   "metadata": {},
   "outputs": [
    {
     "name": "stdout",
     "output_type": "stream",
     "text": [
      "20\n"
     ]
    }
   ],
   "source": [
    "s = 0\n",
    "for i in [2, 3, 4, 5, 6]:\n",
    "    s= s + i\n",
    "print(s)"
   ]
  },
  {
   "cell_type": "code",
   "execution_count": 26,
   "id": "d6995d41",
   "metadata": {},
   "outputs": [
    {
     "name": "stdout",
     "output_type": "stream",
     "text": [
      "the number 1 is odd\n",
      "the number 2 is even\n",
      "the number 3 is odd\n",
      "the number 4 is even\n",
      "the number 5 is odd\n",
      "the number 6 is even\n",
      "the number 7 is odd\n",
      "the number 8 is even\n",
      "the number 9 is odd\n",
      "the number 10 is even\n",
      "the number 11 is odd\n",
      "the number 12 is even\n",
      "the number 13 is odd\n",
      "the number 14 is even\n",
      "the number 15 is odd\n",
      "the number 16 is even\n",
      "the number 17 is odd\n",
      "the number 18 is even\n",
      "the number 19 is odd\n",
      "the number 20 is even\n",
      "the number 21 is odd\n",
      "the number 22 is even\n",
      "the number 23 is odd\n",
      "the number 24 is even\n",
      "the number 25 is odd\n",
      "the number 26 is even\n",
      "the number 27 is odd\n",
      "the number 28 is even\n",
      "the number 29 is odd\n",
      "the number 30 is even\n",
      "the number 31 is odd\n",
      "the number 32 is even\n",
      "the number 33 is odd\n",
      "the number 34 is even\n",
      "the number 35 is odd\n",
      "the number 36 is even\n",
      "the number 37 is odd\n",
      "the number 38 is even\n",
      "the number 39 is odd\n",
      "the number 40 is even\n",
      "the number 41 is odd\n",
      "the number 42 is even\n",
      "the number 43 is odd\n",
      "the number 44 is even\n",
      "the number 45 is odd\n",
      "the number 46 is even\n",
      "the number 47 is odd\n",
      "the number 48 is even\n",
      "the number 49 is odd\n",
      "the number 50 is even\n",
      "the number 51 is odd\n",
      "the number 52 is even\n",
      "the number 53 is odd\n",
      "the number 54 is even\n",
      "the number 55 is odd\n",
      "the number 56 is even\n",
      "the number 57 is odd\n",
      "the number 58 is even\n",
      "the number 59 is odd\n",
      "the number 60 is even\n",
      "the number 61 is odd\n",
      "the number 62 is even\n",
      "the number 63 is odd\n",
      "the number 64 is even\n",
      "the number 65 is odd\n",
      "the number 66 is even\n",
      "the number 67 is odd\n",
      "the number 68 is even\n",
      "the number 69 is odd\n",
      "the number 70 is even\n",
      "the number 71 is odd\n",
      "the number 72 is even\n",
      "the number 73 is odd\n",
      "the number 74 is even\n",
      "the number 75 is odd\n",
      "the number 76 is even\n",
      "the number 77 is odd\n",
      "the number 78 is even\n",
      "the number 79 is odd\n",
      "the number 80 is even\n",
      "the number 81 is odd\n",
      "the number 82 is even\n",
      "the number 83 is odd\n",
      "the number 84 is even\n",
      "the number 85 is odd\n",
      "the number 86 is even\n",
      "the number 87 is odd\n",
      "the number 88 is even\n",
      "the number 89 is odd\n",
      "the number 90 is even\n",
      "the number 91 is odd\n",
      "the number 92 is even\n",
      "the number 93 is odd\n",
      "the number 94 is even\n",
      "the number 95 is odd\n",
      "the number 96 is even\n",
      "the number 97 is odd\n",
      "the number 98 is even\n",
      "the number 99 is odd\n",
      "the number 100 is even\n"
     ]
    }
   ],
   "source": [
    "for i in range(1 , 101):\n",
    "    if i % 2 == 0 :\n",
    "        print(f\"the number {i} is even\")\n",
    "    else:\n",
    "        print(f\"the number {i} is odd\")"
   ]
  },
  {
   "cell_type": "code",
   "execution_count": 27,
   "id": "f8262bfe",
   "metadata": {},
   "outputs": [],
   "source": [
    "# 3 >> \"fizz\"\n",
    "# 5 >> \"Buzz\"\n",
    "# 3 and 5 >> \"fizz_Buzz\"\n",
    "# else >> number itself"
   ]
  },
  {
   "cell_type": "code",
   "execution_count": 28,
   "id": "eefd368f",
   "metadata": {},
   "outputs": [
    {
     "name": "stdout",
     "output_type": "stream",
     "text": [
      "1\n",
      "2\n",
      "3  fizz\n",
      "4\n",
      "5  Buzz\n",
      "6  fizz\n",
      "7\n",
      "8\n",
      "9  fizz\n",
      "10  Buzz\n",
      "11\n",
      "12  fizz\n",
      "13\n",
      "14\n",
      "15  fizz_Buzz\n",
      "16\n",
      "17\n",
      "18  fizz\n",
      "19\n",
      "20  Buzz\n",
      "21  fizz\n",
      "22\n",
      "23\n",
      "24  fizz\n",
      "25  Buzz\n",
      "26\n",
      "27  fizz\n",
      "28\n",
      "29\n",
      "30  fizz_Buzz\n",
      "31\n",
      "32\n",
      "33  fizz\n",
      "34\n",
      "35  Buzz\n",
      "36  fizz\n",
      "37\n",
      "38\n",
      "39  fizz\n",
      "40  Buzz\n",
      "41\n",
      "42  fizz\n",
      "43\n",
      "44\n",
      "45  fizz_Buzz\n",
      "46\n",
      "47\n",
      "48  fizz\n",
      "49\n",
      "50  Buzz\n",
      "51  fizz\n",
      "52\n",
      "53\n",
      "54  fizz\n",
      "55  Buzz\n",
      "56\n",
      "57  fizz\n",
      "58\n",
      "59\n",
      "60  fizz_Buzz\n",
      "61\n",
      "62\n",
      "63  fizz\n",
      "64\n",
      "65  Buzz\n",
      "66  fizz\n",
      "67\n",
      "68\n",
      "69  fizz\n",
      "70  Buzz\n",
      "71\n",
      "72  fizz\n",
      "73\n",
      "74\n",
      "75  fizz_Buzz\n",
      "76\n",
      "77\n",
      "78  fizz\n",
      "79\n",
      "80  Buzz\n",
      "81  fizz\n",
      "82\n",
      "83\n",
      "84  fizz\n",
      "85  Buzz\n",
      "86\n",
      "87  fizz\n",
      "88\n",
      "89\n",
      "90  fizz_Buzz\n",
      "91\n",
      "92\n",
      "93  fizz\n",
      "94\n",
      "95  Buzz\n",
      "96  fizz\n",
      "97\n",
      "98\n",
      "99  fizz\n",
      "100  Buzz\n"
     ]
    }
   ],
   "source": [
    "for i in range(1 , 101):\n",
    "    if i % 3 == 0 and i % 5 == 0 :\n",
    "        print(i,\" fizz_Buzz\" )\n",
    "    elif i % 3 == 0 :\n",
    "        print(i,\" fizz\")\n",
    "    elif i % 5 == 0 :\n",
    "        print(i ,\" Buzz\")\n",
    "    else:\n",
    "        print( i )"
   ]
  }
 ],
 "metadata": {
  "kernelspec": {
   "display_name": "Python 3 (ipykernel)",
   "language": "python",
   "name": "python3"
  },
  "language_info": {
   "codemirror_mode": {
    "name": "ipython",
    "version": 3
   },
   "file_extension": ".py",
   "mimetype": "text/x-python",
   "name": "python",
   "nbconvert_exporter": "python",
   "pygments_lexer": "ipython3",
   "version": "3.10.9"
  }
 },
 "nbformat": 4,
 "nbformat_minor": 5
}
