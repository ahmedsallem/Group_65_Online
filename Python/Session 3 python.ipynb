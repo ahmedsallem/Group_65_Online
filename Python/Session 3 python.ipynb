{
 "cells": [
  {
   "cell_type": "markdown",
   "id": "d7b63a03",
   "metadata": {},
   "source": [
    "# Agenda \n",
    "\n",
    "    Loops  \n",
    "        for loop and while loop \n",
    "               > break \n",
    "               > continue \n",
    "               > pass \n",
    "\n",
    "    Functions\n",
    "        built-in , user defined  \n",
    "    \n",
    "    Scopes\n",
    "        > local \n",
    "        > nonlocal\n",
    "        > global \n",
    "        \n",
    "    Try &Except\n",
    "\n",
    "    FileHandling\n",
    "        \n",
    "    Pre-built & User DefinedModules\n"
   ]
  },
  {
   "cell_type": "markdown",
   "id": "e5e88f67",
   "metadata": {},
   "source": [
    "### Write a program that prompts a user for a two-word string andprints True if both words begin with same letter\n",
    "    ○ ('Levelheaded Llama') --> True\n",
    "    ○ ('Crazy Kangaroo') --> False"
   ]
  },
  {
   "cell_type": "code",
   "execution_count": null,
   "id": "421f4c2a",
   "metadata": {},
   "outputs": [],
   "source": [
    "words = \"Amit Learning\"  >> False  words = \"Amit Amit\"  >> True \n",
    "\n",
    "if conditions:\n",
    "    print(True)\n",
    "    \n",
    "else:\n",
    "    print(False)\n",
    "lst[0][0] "
   ]
  },
  {
   "cell_type": "code",
   "execution_count": 13,
   "id": "aa50d713",
   "metadata": {},
   "outputs": [
    {
     "name": "stdout",
     "output_type": "stream",
     "text": [
      "Enter 2 words: amit amit s\n",
      "True\n"
     ]
    }
   ],
   "source": [
    "words = input(\"Enter 2 words: \").lower().split()\n",
    "if len(words) >= 2 :\n",
    "    if words[0][0] == words[1][0] :\n",
    "        print(True)\n",
    "    else:\n",
    "        print(False)\n",
    "else:\n",
    "    print(\"check your input \")"
   ]
  },
  {
   "cell_type": "code",
   "execution_count": 14,
   "id": "2ca82dc5",
   "metadata": {},
   "outputs": [
    {
     "name": "stdout",
     "output_type": "stream",
     "text": [
      "1\n",
      "2\n",
      "3\n",
      "4\n",
      "5\n"
     ]
    }
   ],
   "source": [
    "lst = [1,2,3,4,5]\n",
    "\n",
    "for i in lst :\n",
    "    print(i)"
   ]
  },
  {
   "cell_type": "code",
   "execution_count": 15,
   "id": "3f3a698f",
   "metadata": {},
   "outputs": [
    {
     "name": "stdout",
     "output_type": "stream",
     "text": [
      "0 1\n",
      "1 2\n",
      "2 3\n",
      "3 4\n",
      "4 5\n"
     ]
    }
   ],
   "source": [
    "for i , v in enumerate(lst):\n",
    "    print(i , v )"
   ]
  },
  {
   "cell_type": "code",
   "execution_count": 16,
   "id": "32967899",
   "metadata": {},
   "outputs": [
    {
     "data": {
      "text/plain": [
       "[2, 3, 4, 5, 2, 3, 4, 5]"
      ]
     },
     "execution_count": 16,
     "metadata": {},
     "output_type": "execute_result"
    }
   ],
   "source": [
    "lst = [2,3,4,5]\n",
    "lst * 2 "
   ]
  },
  {
   "cell_type": "code",
   "execution_count": 18,
   "id": "2795eb3f",
   "metadata": {},
   "outputs": [],
   "source": [
    "l = []\n",
    "for i in lst :\n",
    "    l.append(i * 2) "
   ]
  },
  {
   "cell_type": "code",
   "execution_count": 19,
   "id": "28cda480",
   "metadata": {},
   "outputs": [
    {
     "data": {
      "text/plain": [
       "[4, 6, 8, 10]"
      ]
     },
     "execution_count": 19,
     "metadata": {},
     "output_type": "execute_result"
    }
   ],
   "source": [
    "l"
   ]
  },
  {
   "cell_type": "code",
   "execution_count": 20,
   "id": "2ae74bef",
   "metadata": {},
   "outputs": [
    {
     "data": {
      "text/plain": [
       "[4, 6, 8, 10]"
      ]
     },
     "execution_count": 20,
     "metadata": {},
     "output_type": "execute_result"
    }
   ],
   "source": [
    "[i * 2 for i in lst ]"
   ]
  },
  {
   "cell_type": "code",
   "execution_count": 21,
   "id": "c3fef723",
   "metadata": {},
   "outputs": [
    {
     "name": "stdout",
     "output_type": "stream",
     "text": [
      "odd\n",
      "Even\n",
      "odd\n",
      "Even\n",
      "odd\n",
      "Even\n",
      "odd\n",
      "Even\n",
      "odd\n"
     ]
    }
   ],
   "source": [
    "lst = [1,2,3,4,5,6,7,8,9]\n",
    "for i in lst :\n",
    "    if i % 2 == 0 :\n",
    "        print(\"Even\")\n",
    "    else:\n",
    "        print(\"odd\")"
   ]
  },
  {
   "cell_type": "code",
   "execution_count": 22,
   "id": "bdedba4e",
   "metadata": {},
   "outputs": [
    {
     "data": {
      "text/plain": [
       "['odd', 'even', 'odd', 'even', 'odd', 'even', 'odd', 'even', 'odd']"
      ]
     },
     "execution_count": 22,
     "metadata": {},
     "output_type": "execute_result"
    }
   ],
   "source": [
    "[\"even\" if i % 2 == 0 else \"odd\"  for i in lst ]"
   ]
  },
  {
   "cell_type": "code",
   "execution_count": 26,
   "id": "4d70ab1a",
   "metadata": {
    "scrolled": true
   },
   "outputs": [
    {
     "name": "stdout",
     "output_type": "stream",
     "text": [
      "enter your num 10\n"
     ]
    }
   ],
   "source": [
    "num = int(input(\"enter your num \"))\n",
    "x = \"even\" if num % 2 == 0 else \"odd\""
   ]
  },
  {
   "cell_type": "code",
   "execution_count": 27,
   "id": "c96136d1",
   "metadata": {},
   "outputs": [
    {
     "data": {
      "text/plain": [
       "'even'"
      ]
     },
     "execution_count": 27,
     "metadata": {},
     "output_type": "execute_result"
    }
   ],
   "source": [
    "x"
   ]
  },
  {
   "cell_type": "code",
   "execution_count": null,
   "id": "44fed174",
   "metadata": {},
   "outputs": [],
   "source": []
  },
  {
   "cell_type": "code",
   "execution_count": null,
   "id": "f9b3fdcd",
   "metadata": {},
   "outputs": [],
   "source": [
    "# if 10 % 2 == 0:\n",
    "#     print(\"even\")\n",
    "# else:\n",
    "#     print(\"odd\")"
   ]
  },
  {
   "cell_type": "code",
   "execution_count": 62,
   "id": "f52990ca",
   "metadata": {},
   "outputs": [],
   "source": [
    "lst = [(20,30,40 , 50) ,(20,30,40)  , (20,30,40)]\n",
    "\n",
    "# [(20,30,100) ,(20,30,100)  , (20,30,100)]"
   ]
  },
  {
   "cell_type": "code",
   "execution_count": 63,
   "id": "4ddb7f15",
   "metadata": {},
   "outputs": [
    {
     "data": {
      "text/plain": [
       "[(20, 30, 40, 100), (20, 30, 100), (20, 30, 100)]"
      ]
     },
     "execution_count": 63,
     "metadata": {},
     "output_type": "execute_result"
    }
   ],
   "source": [
    "[i[0:(len(i)-1)]+(100,) for i in lst ]"
   ]
  },
  {
   "cell_type": "code",
   "execution_count": 30,
   "id": "a8166819",
   "metadata": {},
   "outputs": [
    {
     "name": "stdout",
     "output_type": "stream",
     "text": [
      "(20, 30, 40)\n",
      "(20, 30, 40)\n",
      "(20, 30, 40)\n"
     ]
    }
   ],
   "source": [
    "for i in lst :\n",
    "    print(i)"
   ]
  },
  {
   "cell_type": "code",
   "execution_count": 38,
   "id": "42881272",
   "metadata": {},
   "outputs": [],
   "source": [
    "t = (10,20,30)"
   ]
  },
  {
   "cell_type": "code",
   "execution_count": 43,
   "id": "cffb7ca5",
   "metadata": {},
   "outputs": [],
   "source": [
    "t = t + (30,)"
   ]
  },
  {
   "cell_type": "code",
   "execution_count": 41,
   "id": "ef8e2b15",
   "metadata": {},
   "outputs": [],
   "source": [
    "t2 = (30,)"
   ]
  },
  {
   "cell_type": "code",
   "execution_count": 42,
   "id": "1ebe02e7",
   "metadata": {},
   "outputs": [
    {
     "data": {
      "text/plain": [
       "tuple"
      ]
     },
     "execution_count": 42,
     "metadata": {},
     "output_type": "execute_result"
    }
   ],
   "source": [
    "type(t2)"
   ]
  },
  {
   "cell_type": "code",
   "execution_count": 59,
   "id": "60ef46f8",
   "metadata": {},
   "outputs": [
    {
     "name": "stdout",
     "output_type": "stream",
     "text": [
      "(20, 30, 100)\n",
      "(20, 30, 100)\n",
      "(20, 30, 100)\n"
     ]
    }
   ],
   "source": [
    "for i in lst :\n",
    "    r = list(i)\n",
    "    r[-1] = 100\n",
    "    t = tuple(r)\n",
    "    print(t)"
   ]
  },
  {
   "cell_type": "code",
   "execution_count": 49,
   "id": "46869610",
   "metadata": {},
   "outputs": [],
   "source": [
    "l = [1,2,3]\n",
    "l[-1] = 100"
   ]
  },
  {
   "cell_type": "code",
   "execution_count": 50,
   "id": "6a08f815",
   "metadata": {},
   "outputs": [
    {
     "data": {
      "text/plain": [
       "[1, 2, 100]"
      ]
     },
     "execution_count": 50,
     "metadata": {},
     "output_type": "execute_result"
    }
   ],
   "source": [
    "l"
   ]
  },
  {
   "cell_type": "code",
   "execution_count": 52,
   "id": "278ee75b",
   "metadata": {},
   "outputs": [
    {
     "ename": "TypeError",
     "evalue": "'tuple' object does not support item assignment",
     "output_type": "error",
     "traceback": [
      "\u001b[1;31m---------------------------------------------------------------------------\u001b[0m",
      "\u001b[1;31mTypeError\u001b[0m                                 Traceback (most recent call last)",
      "Cell \u001b[1;32mIn[52], line 2\u001b[0m\n\u001b[0;32m      1\u001b[0m t \u001b[38;5;241m=\u001b[39m (\u001b[38;5;241m1\u001b[39m,\u001b[38;5;241m2\u001b[39m,\u001b[38;5;241m3\u001b[39m)\n\u001b[1;32m----> 2\u001b[0m t[\u001b[38;5;241m-\u001b[39m\u001b[38;5;241m1\u001b[39m] \u001b[38;5;241m=\u001b[39m \u001b[38;5;241m100\u001b[39m\n",
      "\u001b[1;31mTypeError\u001b[0m: 'tuple' object does not support item assignment"
     ]
    }
   ],
   "source": [
    "t = (1,2,3)\n",
    "t[-1] = 100"
   ]
  },
  {
   "cell_type": "code",
   "execution_count": 72,
   "id": "70eee96b",
   "metadata": {},
   "outputs": [
    {
     "name": "stdout",
     "output_type": "stream",
     "text": [
      "enter your variable name: @amit@\n"
     ]
    }
   ],
   "source": [
    "# Remove the illegal characters in the variable name:\n",
    "illegal_chars = \"0123456789!@#$%^&*()-+=[]{}|\\\\;:'\\\",.<>/?`~ \"\n",
    "text = input(\"enter your variable name: \")\n",
    "clean_text = ''\n",
    "for i in text :\n",
    "    if i not in illegal_chars:\n",
    "        clean_text += i\n",
    "    else:\n",
    "        clean_text += ''\n",
    "    "
   ]
  },
  {
   "cell_type": "code",
   "execution_count": 73,
   "id": "49d28082",
   "metadata": {},
   "outputs": [
    {
     "name": "stdout",
     "output_type": "stream",
     "text": [
      "amit\n"
     ]
    }
   ],
   "source": [
    "print(clean_text)"
   ]
  },
  {
   "cell_type": "code",
   "execution_count": 80,
   "id": "d10041b3",
   "metadata": {},
   "outputs": [],
   "source": [
    "clean = \"\".join( i  if i not in illegal_chars else '' for i in text ) # @amit@"
   ]
  },
  {
   "cell_type": "code",
   "execution_count": 81,
   "id": "2ee97eb6",
   "metadata": {},
   "outputs": [
    {
     "data": {
      "text/plain": [
       "'amit'"
      ]
     },
     "execution_count": 81,
     "metadata": {},
     "output_type": "execute_result"
    }
   ],
   "source": [
    "clean"
   ]
  },
  {
   "cell_type": "code",
   "execution_count": 83,
   "id": "a111b1b0",
   "metadata": {},
   "outputs": [
    {
     "data": {
      "text/plain": [
       "'amit'"
      ]
     },
     "execution_count": 83,
     "metadata": {},
     "output_type": "execute_result"
    }
   ],
   "source": [
    "\"\".join(i  if i not in illegal_chars else '' for i in text)"
   ]
  },
  {
   "cell_type": "code",
   "execution_count": 87,
   "id": "09bac110",
   "metadata": {},
   "outputs": [
    {
     "name": "stdout",
     "output_type": "stream",
     "text": [
      "@\n",
      "a\n",
      "m\n",
      "i\n",
      "t\n",
      "@\n"
     ]
    }
   ],
   "source": [
    "for i in text :\n",
    "    print(i)"
   ]
  },
  {
   "cell_type": "code",
   "execution_count": 85,
   "id": "fc7d1ebe",
   "metadata": {},
   "outputs": [
    {
     "data": {
      "text/plain": [
       "True"
      ]
     },
     "execution_count": 85,
     "metadata": {},
     "output_type": "execute_result"
    }
   ],
   "source": [
    "\"@\" in text"
   ]
  },
  {
   "cell_type": "code",
   "execution_count": 86,
   "id": "2ea0ab8d",
   "metadata": {},
   "outputs": [
    {
     "data": {
      "text/plain": [
       "'@amit@'"
      ]
     },
     "execution_count": 86,
     "metadata": {},
     "output_type": "execute_result"
    }
   ],
   "source": [
    "text"
   ]
  },
  {
   "cell_type": "code",
   "execution_count": 91,
   "id": "454501d6",
   "metadata": {},
   "outputs": [
    {
     "name": "stdout",
     "output_type": "stream",
     "text": [
      "1\n",
      "2\n",
      "3\n"
     ]
    }
   ],
   "source": [
    "lst = [1,2,3,5,6,7,8,9]\n",
    "for i in lst :\n",
    "    if i == 5 : #  1 == 5 > False , 2 == 5 > False  3 == 5 > False  , 5 == 5 > True \n",
    "        break   #stop for loop \n",
    "        print(i)\n",
    "    else:\n",
    "        print(i)  #  i > 1 , i > 2 , i > 3 "
   ]
  },
  {
   "cell_type": "code",
   "execution_count": 92,
   "id": "a23bdab6",
   "metadata": {},
   "outputs": [
    {
     "name": "stdout",
     "output_type": "stream",
     "text": [
      "1\n",
      "2\n",
      "3\n",
      "6\n",
      "7\n",
      "8\n",
      "9\n"
     ]
    }
   ],
   "source": [
    "lst = [1,2,3,5,6,7,8,9]\n",
    "for i in lst :\n",
    "    if i == 5 : #  1 == 5 > False , 2 == 5 > False  3 == 5 > False  , 5 == 5 > True \n",
    "        continue   \n",
    "        print(i)\n",
    "    else:\n",
    "        print(i)  #  i > 1 , i > 2 , i > 3 "
   ]
  },
  {
   "cell_type": "code",
   "execution_count": 111,
   "id": "1df87d24",
   "metadata": {},
   "outputs": [
    {
     "name": "stdout",
     "output_type": "stream",
     "text": [
      "1\n",
      "2\n",
      "3\n",
      "5\n",
      "6\n",
      "7\n",
      "8\n",
      "9\n"
     ]
    }
   ],
   "source": [
    "lst = [1,2,3,5,6,7,8,9]\n",
    "for i in lst :\n",
    "    if i == 5 : #  1 == 5 > False , 2 == 5 > False  3 == 5 > False  , 5 == 5 > True \n",
    "        pass   \n",
    "        print(i)\n",
    "    else:\n",
    "        print(i)  #  i > 1 , i > 2 , i > 3 "
   ]
  },
  {
   "cell_type": "code",
   "execution_count": 97,
   "id": "780041a1",
   "metadata": {},
   "outputs": [],
   "source": [
    "if 5 == 5 :\n",
    "    pass\n",
    "else:\n",
    "    print(\"amit\")"
   ]
  },
  {
   "cell_type": "code",
   "execution_count": 103,
   "id": "f961eb2e",
   "metadata": {},
   "outputs": [
    {
     "name": "stdout",
     "output_type": "stream",
     "text": [
      "1\n",
      "2\n",
      "3\n",
      "5\n",
      "6\n",
      "7\n",
      "8\n",
      "9\n"
     ]
    }
   ],
   "source": [
    "for i in lst :\n",
    "    print(i)"
   ]
  },
  {
   "cell_type": "code",
   "execution_count": 106,
   "id": "b235687e",
   "metadata": {},
   "outputs": [],
   "source": [
    "class Cars:\n",
    "    pass"
   ]
  },
  {
   "cell_type": "code",
   "execution_count": null,
   "id": "4f5dcf75",
   "metadata": {},
   "outputs": [],
   "source": [
    "while condition :\n",
    "    statements\n",
    "    .....\n",
    "    ....\n",
    "    counter += 1 "
   ]
  },
  {
   "cell_type": "code",
   "execution_count": 112,
   "id": "87b7e985",
   "metadata": {},
   "outputs": [
    {
     "name": "stdout",
     "output_type": "stream",
     "text": [
      "1  amit\n",
      "2  amit\n",
      "3  amit\n",
      "4  amit\n",
      "5  amit\n",
      "6  amit\n",
      "7  amit\n",
      "8  amit\n",
      "9  amit\n",
      "10  amit\n"
     ]
    }
   ],
   "source": [
    "x = 1\n",
    "while x <= 10:\n",
    "    print(x , \" amit\")\n",
    "    x += 1 "
   ]
  },
  {
   "cell_type": "code",
   "execution_count": 113,
   "id": "a838232d",
   "metadata": {},
   "outputs": [],
   "source": [
    "# Functions\n",
    "#     built-in , user defined\n",
    "x = 10\n"
   ]
  },
  {
   "cell_type": "code",
   "execution_count": 114,
   "id": "951ea5a4",
   "metadata": {},
   "outputs": [
    {
     "data": {
      "text/plain": [
       "int"
      ]
     },
     "execution_count": 114,
     "metadata": {},
     "output_type": "execute_result"
    }
   ],
   "source": [
    "type(x)"
   ]
  },
  {
   "cell_type": "code",
   "execution_count": 115,
   "id": "38d71cc9",
   "metadata": {},
   "outputs": [
    {
     "data": {
      "text/plain": [
       "[1, 2, 3, 5, 6, 7, 8, 9]"
      ]
     },
     "execution_count": 115,
     "metadata": {},
     "output_type": "execute_result"
    }
   ],
   "source": [
    "lst"
   ]
  },
  {
   "cell_type": "code",
   "execution_count": 116,
   "id": "84893c63",
   "metadata": {},
   "outputs": [
    {
     "data": {
      "text/plain": [
       "8"
      ]
     },
     "execution_count": 116,
     "metadata": {},
     "output_type": "execute_result"
    }
   ],
   "source": [
    "len(lst)"
   ]
  },
  {
   "cell_type": "code",
   "execution_count": 117,
   "id": "b9478788",
   "metadata": {},
   "outputs": [
    {
     "data": {
      "text/plain": [
       "9"
      ]
     },
     "execution_count": 117,
     "metadata": {},
     "output_type": "execute_result"
    }
   ],
   "source": [
    "max(lst)"
   ]
  },
  {
   "cell_type": "code",
   "execution_count": 118,
   "id": "108c6812",
   "metadata": {},
   "outputs": [
    {
     "data": {
      "text/plain": [
       "1"
      ]
     },
     "execution_count": 118,
     "metadata": {},
     "output_type": "execute_result"
    }
   ],
   "source": [
    "min(lst)"
   ]
  },
  {
   "cell_type": "code",
   "execution_count": 119,
   "id": "f66e057c",
   "metadata": {},
   "outputs": [
    {
     "data": {
      "text/plain": [
       "41"
      ]
     },
     "execution_count": 119,
     "metadata": {},
     "output_type": "execute_result"
    }
   ],
   "source": [
    "sum(lst)"
   ]
  },
  {
   "cell_type": "code",
   "execution_count": 120,
   "id": "6fad3561",
   "metadata": {},
   "outputs": [
    {
     "ename": "NameError",
     "evalue": "name 'add' is not defined",
     "output_type": "error",
     "traceback": [
      "\u001b[1;31m---------------------------------------------------------------------------\u001b[0m",
      "\u001b[1;31mNameError\u001b[0m                                 Traceback (most recent call last)",
      "Cell \u001b[1;32mIn[120], line 1\u001b[0m\n\u001b[1;32m----> 1\u001b[0m \u001b[43madd\u001b[49m(lst)\n",
      "\u001b[1;31mNameError\u001b[0m: name 'add' is not defined"
     ]
    }
   ],
   "source": [
    "add(lst)"
   ]
  },
  {
   "cell_type": "code",
   "execution_count": 121,
   "id": "1a6de891",
   "metadata": {},
   "outputs": [],
   "source": [
    "# def fun_name(arg1 ,arg2 ):\n",
    "#     statements\n",
    "#     ......\n",
    "#     ......\n",
    "#     .....\n",
    "#     .....\n",
    "#     ......\n",
    "#     return x ,x2 ,x3 \n",
    "# fun_name(arg1 , arg2)"
   ]
  },
  {
   "cell_type": "code",
   "execution_count": 122,
   "id": "a1215810",
   "metadata": {},
   "outputs": [],
   "source": [
    "def add(n1 ,n2):\n",
    "    s = n1 + n2\n",
    "    return s "
   ]
  },
  {
   "cell_type": "code",
   "execution_count": 123,
   "id": "9e1b8fb2",
   "metadata": {},
   "outputs": [
    {
     "data": {
      "text/plain": [
       "20"
      ]
     },
     "execution_count": 123,
     "metadata": {},
     "output_type": "execute_result"
    }
   ],
   "source": [
    "add(10 ,10 )"
   ]
  },
  {
   "cell_type": "code",
   "execution_count": 124,
   "id": "da00fb1b",
   "metadata": {},
   "outputs": [
    {
     "data": {
      "text/plain": [
       "40"
      ]
     },
     "execution_count": 124,
     "metadata": {},
     "output_type": "execute_result"
    }
   ],
   "source": [
    "add(20,20)"
   ]
  },
  {
   "cell_type": "code",
   "execution_count": 125,
   "id": "5f542e8f",
   "metadata": {},
   "outputs": [
    {
     "data": {
      "text/plain": [
       "200"
      ]
     },
     "execution_count": 125,
     "metadata": {},
     "output_type": "execute_result"
    }
   ],
   "source": [
    "add(100 ,100)"
   ]
  },
  {
   "cell_type": "code",
   "execution_count": 127,
   "id": "b22a03e7",
   "metadata": {},
   "outputs": [
    {
     "ename": "TypeError",
     "evalue": "add() takes 2 positional arguments but 3 were given",
     "output_type": "error",
     "traceback": [
      "\u001b[1;31m---------------------------------------------------------------------------\u001b[0m",
      "\u001b[1;31mTypeError\u001b[0m                                 Traceback (most recent call last)",
      "Cell \u001b[1;32mIn[127], line 1\u001b[0m\n\u001b[1;32m----> 1\u001b[0m \u001b[43madd\u001b[49m\u001b[43m(\u001b[49m\u001b[38;5;241;43m10\u001b[39;49m\u001b[43m,\u001b[49m\u001b[38;5;241;43m10\u001b[39;49m\u001b[43m,\u001b[49m\u001b[38;5;241;43m10\u001b[39;49m\u001b[43m)\u001b[49m\n",
      "\u001b[1;31mTypeError\u001b[0m: add() takes 2 positional arguments but 3 were given"
     ]
    }
   ],
   "source": [
    "add(10,10,10)"
   ]
  },
  {
   "cell_type": "code",
   "execution_count": 130,
   "id": "0263632e",
   "metadata": {},
   "outputs": [],
   "source": [
    "def add(*n):\n",
    "    s = 0 \n",
    "    for i in n :\n",
    "        s+= i\n",
    "    return s"
   ]
  },
  {
   "cell_type": "code",
   "execution_count": 131,
   "id": "54b11bfb",
   "metadata": {},
   "outputs": [
    {
     "data": {
      "text/plain": [
       "60"
      ]
     },
     "execution_count": 131,
     "metadata": {},
     "output_type": "execute_result"
    }
   ],
   "source": [
    "add(10,10,10,10,20)"
   ]
  },
  {
   "cell_type": "code",
   "execution_count": 132,
   "id": "9353c094",
   "metadata": {},
   "outputs": [
    {
     "data": {
      "text/plain": [
       "20"
      ]
     },
     "execution_count": 132,
     "metadata": {},
     "output_type": "execute_result"
    }
   ],
   "source": [
    "add(10,10)"
   ]
  },
  {
   "cell_type": "code",
   "execution_count": 133,
   "id": "d78b4cc2",
   "metadata": {},
   "outputs": [
    {
     "data": {
      "text/plain": [
       "74"
      ]
     },
     "execution_count": 133,
     "metadata": {},
     "output_type": "execute_result"
    }
   ],
   "source": [
    "add(10,2,3,4,5,6,7,8,9,0,10,1,2,3,4)"
   ]
  },
  {
   "cell_type": "code",
   "execution_count": 134,
   "id": "03816900",
   "metadata": {},
   "outputs": [],
   "source": [
    "def add(*n):\n",
    "    return sum(n)"
   ]
  },
  {
   "cell_type": "code",
   "execution_count": 135,
   "id": "21746696",
   "metadata": {},
   "outputs": [
    {
     "data": {
      "text/plain": [
       "28"
      ]
     },
     "execution_count": 135,
     "metadata": {},
     "output_type": "execute_result"
    }
   ],
   "source": [
    "add(1,2,3,4,5,6,7)"
   ]
  },
  {
   "cell_type": "code",
   "execution_count": 137,
   "id": "3d7308ff",
   "metadata": {},
   "outputs": [],
   "source": [
    "# check()\n",
    "# int(input(\"enter your num \"))"
   ]
  },
  {
   "cell_type": "code",
   "execution_count": 141,
   "id": "5d388249",
   "metadata": {},
   "outputs": [
    {
     "name": "stdout",
     "output_type": "stream",
     "text": [
      "enter your num 12\n"
     ]
    }
   ],
   "source": [
    "def check():\n",
    "    num = int(input(\"enter your num \"))\n",
    "    if num % 2 == 0 :\n",
    "        return \"Even\"\n",
    "    else:\n",
    "        return \"Odd\"\n",
    "x = check()"
   ]
  },
  {
   "cell_type": "code",
   "execution_count": 142,
   "id": "d37fe408",
   "metadata": {},
   "outputs": [
    {
     "data": {
      "text/plain": [
       "'Even'"
      ]
     },
     "execution_count": 142,
     "metadata": {},
     "output_type": "execute_result"
    }
   ],
   "source": [
    "x"
   ]
  },
  {
   "cell_type": "code",
   "execution_count": 143,
   "id": "ba88e5b7",
   "metadata": {},
   "outputs": [],
   "source": [
    "def check():\n",
    "    num = int(input(\"enter your num \"))\n",
    "    if num % 2 == 0 :\n",
    "        print( \"Even\" )\n",
    "    else:\n",
    "        print(\"Odd\")\n"
   ]
  },
  {
   "cell_type": "code",
   "execution_count": 145,
   "id": "2fab1d76",
   "metadata": {},
   "outputs": [
    {
     "name": "stdout",
     "output_type": "stream",
     "text": [
      "enter your num 23\n",
      "Odd\n"
     ]
    }
   ],
   "source": [
    "x = check()"
   ]
  },
  {
   "cell_type": "code",
   "execution_count": 147,
   "id": "784d6911",
   "metadata": {},
   "outputs": [],
   "source": [
    "x"
   ]
  },
  {
   "cell_type": "code",
   "execution_count": 148,
   "id": "df9f26a1",
   "metadata": {},
   "outputs": [],
   "source": [
    "z = lambda x : x * 2 "
   ]
  },
  {
   "cell_type": "code",
   "execution_count": 151,
   "id": "4df2b0a1",
   "metadata": {
    "scrolled": true
   },
   "outputs": [
    {
     "data": {
      "text/plain": [
       "20"
      ]
     },
     "execution_count": 151,
     "metadata": {},
     "output_type": "execute_result"
    }
   ],
   "source": [
    "def add(n1 ,n2 ):\n",
    "    return n1 + n2 \n",
    "add(10,10)"
   ]
  },
  {
   "cell_type": "code",
   "execution_count": 152,
   "id": "5399c7e3",
   "metadata": {},
   "outputs": [
    {
     "data": {
      "text/plain": [
       "20"
      ]
     },
     "execution_count": 152,
     "metadata": {},
     "output_type": "execute_result"
    }
   ],
   "source": [
    "add = lambda n1 ,n2 : n1 + n2 \n",
    "add(10,10)"
   ]
  },
  {
   "cell_type": "code",
   "execution_count": 149,
   "id": "a1eb7777",
   "metadata": {},
   "outputs": [
    {
     "data": {
      "text/plain": [
       "24"
      ]
     },
     "execution_count": 149,
     "metadata": {},
     "output_type": "execute_result"
    }
   ],
   "source": [
    "z(12)"
   ]
  },
  {
   "cell_type": "code",
   "execution_count": 150,
   "id": "64c8ccee",
   "metadata": {},
   "outputs": [
    {
     "data": {
      "text/plain": [
       "4"
      ]
     },
     "execution_count": 150,
     "metadata": {},
     "output_type": "execute_result"
    }
   ],
   "source": [
    "z(2)"
   ]
  },
  {
   "cell_type": "code",
   "execution_count": 154,
   "id": "c171748a",
   "metadata": {},
   "outputs": [
    {
     "data": {
      "text/plain": [
       "[2, 4, 6]"
      ]
     },
     "execution_count": 154,
     "metadata": {},
     "output_type": "execute_result"
    }
   ],
   "source": [
    "# list(filter(fun , seq))\n",
    "list(filter(lambda x : x % 2 == 0  , [1,2,3,4,5,6]))"
   ]
  },
  {
   "cell_type": "code",
   "execution_count": 169,
   "id": "dc4d25ef",
   "metadata": {},
   "outputs": [],
   "source": [
    "def check(n):\n",
    "    if n % 2 != 0 :\n",
    "        return True \n",
    "    else:\n",
    "        return False"
   ]
  },
  {
   "cell_type": "code",
   "execution_count": 170,
   "id": "95cc9cac",
   "metadata": {},
   "outputs": [
    {
     "data": {
      "text/plain": [
       "[1, 3, 5, 7, 9]"
      ]
     },
     "execution_count": 170,
     "metadata": {},
     "output_type": "execute_result"
    }
   ],
   "source": [
    "# list(filter(fun , seq))\n",
    "list(filter(check , lst))"
   ]
  },
  {
   "cell_type": "code",
   "execution_count": 171,
   "id": "a7717d05",
   "metadata": {},
   "outputs": [
    {
     "data": {
      "text/plain": [
       "[1, 2, 3, 5, 6, 7, 8, 9]"
      ]
     },
     "execution_count": 171,
     "metadata": {},
     "output_type": "execute_result"
    }
   ],
   "source": [
    "lst"
   ]
  },
  {
   "cell_type": "code",
   "execution_count": 172,
   "id": "d557c9d4",
   "metadata": {},
   "outputs": [
    {
     "data": {
      "text/plain": [
       "[True, False, True, True, False, True, False, True]"
      ]
     },
     "execution_count": 172,
     "metadata": {},
     "output_type": "execute_result"
    }
   ],
   "source": [
    "# list(map(fun , seq))\n",
    "list(map(check , lst))"
   ]
  },
  {
   "cell_type": "code",
   "execution_count": 162,
   "id": "f6176fca",
   "metadata": {},
   "outputs": [],
   "source": [
    "def mult(n):\n",
    "    return  n ** 2 "
   ]
  },
  {
   "cell_type": "code",
   "execution_count": 165,
   "id": "402fa8bc",
   "metadata": {},
   "outputs": [
    {
     "data": {
      "text/plain": [
       "[1, 4, 9, 25, 36, 49, 64, 81]"
      ]
     },
     "execution_count": 165,
     "metadata": {},
     "output_type": "execute_result"
    }
   ],
   "source": [
    "list(map(mult , lst))"
   ]
  },
  {
   "cell_type": "code",
   "execution_count": 166,
   "id": "f1e4be42",
   "metadata": {},
   "outputs": [
    {
     "data": {
      "text/plain": [
       "[1, 4, 9, 25, 36, 49, 64, 81]"
      ]
     },
     "execution_count": 166,
     "metadata": {},
     "output_type": "execute_result"
    }
   ],
   "source": [
    "list(map(lambda x : x **2  , lst))"
   ]
  },
  {
   "cell_type": "code",
   "execution_count": 173,
   "id": "a0b2638a",
   "metadata": {},
   "outputs": [],
   "source": [
    "# Recursive Function\n",
    "# 5! = 5 * 4 * 3 * 2 * 1 \n",
    "def f(n):\n",
    "    if n == 1 :\n",
    "        return 1 \n",
    "    else:\n",
    "        return n * f(n-1)    # (5 * f(4)(4 * f(3 )(3 * f(2)(2 * f(1)(1))))"
   ]
  },
  {
   "cell_type": "code",
   "execution_count": 176,
   "id": "f2e3379f",
   "metadata": {},
   "outputs": [
    {
     "data": {
      "text/plain": [
       "6"
      ]
     },
     "execution_count": 176,
     "metadata": {},
     "output_type": "execute_result"
    }
   ],
   "source": [
    "f(3)  # 3 * 2 * 1 "
   ]
  },
  {
   "cell_type": "code",
   "execution_count": 177,
   "id": "c9912a9a",
   "metadata": {},
   "outputs": [
    {
     "name": "stdout",
     "output_type": "stream",
     "text": [
      "1\n"
     ]
    }
   ],
   "source": [
    "if 1 in lst:\n",
    "    print(1)"
   ]
  },
  {
   "cell_type": "code",
   "execution_count": 178,
   "id": "4b38fee1",
   "metadata": {},
   "outputs": [
    {
     "name": "stdout",
     "output_type": "stream",
     "text": [
      "1\n",
      "2\n",
      "3\n",
      "5\n",
      "6\n",
      "7\n",
      "8\n",
      "9\n"
     ]
    }
   ],
   "source": [
    "for i in lst :\n",
    "    print(i)"
   ]
  },
  {
   "cell_type": "code",
   "execution_count": 179,
   "id": "8b444d45",
   "metadata": {},
   "outputs": [],
   "source": [
    "def add(n1 ,n2):\n",
    "    return n1 +n2"
   ]
  },
  {
   "cell_type": "code",
   "execution_count": 180,
   "id": "89674c04",
   "metadata": {},
   "outputs": [
    {
     "name": "stdout",
     "output_type": "stream",
     "text": [
      "local\n",
      "global\n"
     ]
    }
   ],
   "source": [
    "x = \"global\"\n",
    "def outer():\n",
    "    x = \"local\"\n",
    "    print(x)\n",
    "outer()\n",
    "print(x)"
   ]
  },
  {
   "cell_type": "code",
   "execution_count": 181,
   "id": "a7b599f2",
   "metadata": {},
   "outputs": [
    {
     "name": "stdout",
     "output_type": "stream",
     "text": [
      "local\n",
      "local\n"
     ]
    }
   ],
   "source": [
    "x = \"global\"\n",
    "def outer():\n",
    "    global x \n",
    "    x = \"local\"\n",
    "    print(x)\n",
    "outer()\n",
    "print(x)"
   ]
  },
  {
   "cell_type": "code",
   "execution_count": 182,
   "id": "c78e7586",
   "metadata": {},
   "outputs": [
    {
     "name": "stdout",
     "output_type": "stream",
     "text": [
      "inner\n",
      "local\n",
      "global\n"
     ]
    }
   ],
   "source": [
    "x = \"global\"\n",
    "def outer():\n",
    "    x = \"local\"\n",
    "    def inner():\n",
    "        x = \"inner\"\n",
    "        print(x)\n",
    "    inner()\n",
    "    print(x)\n",
    "outer()\n",
    "print(x)"
   ]
  },
  {
   "cell_type": "code",
   "execution_count": 183,
   "id": "920cffca",
   "metadata": {},
   "outputs": [
    {
     "name": "stdout",
     "output_type": "stream",
     "text": [
      "inner\n",
      "inner\n",
      "global\n"
     ]
    }
   ],
   "source": [
    "x = \"global\"\n",
    "def outer():\n",
    "    x = \"local\"\n",
    "    def inner():\n",
    "        nonlocal x \n",
    "        x = \"inner\"\n",
    "        print(x)\n",
    "    inner()\n",
    "    print(x)\n",
    "outer()\n",
    "print(x)"
   ]
  },
  {
   "cell_type": "code",
   "execution_count": 184,
   "id": "106559f0",
   "metadata": {},
   "outputs": [
    {
     "name": "stdout",
     "output_type": "stream",
     "text": [
      "inner\n",
      "local\n",
      "inner\n"
     ]
    }
   ],
   "source": [
    "x = \"global\"\n",
    "def outer():\n",
    "    x = \"local\"\n",
    "    def inner():\n",
    "        global x \n",
    "        x = \"inner\"\n",
    "        print(x)\n",
    "    inner()\n",
    "    print(x)\n",
    "outer()\n",
    "print(x)"
   ]
  },
  {
   "cell_type": "code",
   "execution_count": 185,
   "id": "0f0f8499",
   "metadata": {},
   "outputs": [
    {
     "data": {
      "text/plain": [
       "[1, 2, 3, 5, 6, 7, 8, 9]"
      ]
     },
     "execution_count": 185,
     "metadata": {},
     "output_type": "execute_result"
    }
   ],
   "source": [
    "lst"
   ]
  },
  {
   "cell_type": "code",
   "execution_count": 188,
   "id": "1ea108df",
   "metadata": {},
   "outputs": [
    {
     "ename": "ValueError",
     "evalue": "list.remove(x): x not in list",
     "output_type": "error",
     "traceback": [
      "\u001b[1;31m---------------------------------------------------------------------------\u001b[0m",
      "\u001b[1;31mValueError\u001b[0m                                Traceback (most recent call last)",
      "Cell \u001b[1;32mIn[188], line 1\u001b[0m\n\u001b[1;32m----> 1\u001b[0m \u001b[43mlst\u001b[49m\u001b[38;5;241;43m.\u001b[39;49m\u001b[43mremove\u001b[49m\u001b[43m(\u001b[49m\u001b[38;5;241;43m10\u001b[39;49m\u001b[43m)\u001b[49m\n\u001b[0;32m      2\u001b[0m lst\u001b[38;5;241m.\u001b[39mappend(\u001b[38;5;241m10\u001b[39m)\n",
      "\u001b[1;31mValueError\u001b[0m: list.remove(x): x not in list"
     ]
    }
   ],
   "source": [
    "lst.remove(10)\n",
    "lst.append(10)"
   ]
  },
  {
   "cell_type": "code",
   "execution_count": 190,
   "id": "32e831db",
   "metadata": {},
   "outputs": [
    {
     "name": "stdout",
     "output_type": "stream",
     "text": [
      "list.remove(10): 10 not in list\n"
     ]
    }
   ],
   "source": [
    "x = 10\n",
    "try:\n",
    "    lst.remove(x)\n",
    "except:\n",
    "    print(f\"list.remove({x}): {x} not in list\")\n",
    "    \n",
    "lst.append(20)"
   ]
  },
  {
   "cell_type": "code",
   "execution_count": 191,
   "id": "dae39df0",
   "metadata": {},
   "outputs": [
    {
     "data": {
      "text/plain": [
       "[1, 2, 3, 5, 6, 7, 8, 9, 20]"
      ]
     },
     "execution_count": 191,
     "metadata": {},
     "output_type": "execute_result"
    }
   ],
   "source": [
    "lst"
   ]
  },
  {
   "cell_type": "code",
   "execution_count": 195,
   "id": "bc80c1a5",
   "metadata": {},
   "outputs": [
    {
     "name": "stdout",
     "output_type": "stream",
     "text": [
      "10\n",
      "Good\n",
      "try, except work\n"
     ]
    }
   ],
   "source": [
    "try:\n",
    "    print(x)\n",
    "except:\n",
    "    print(\"error\")\n",
    "else:\n",
    "    print(\"Good\")\n",
    "finally:\n",
    "    print(\"try, except work\")"
   ]
  },
  {
   "cell_type": "code",
   "execution_count": 208,
   "id": "66bfaa23",
   "metadata": {},
   "outputs": [
    {
     "name": "stdout",
     "output_type": "stream",
     "text": [
      "An error occurred: name 'mm' is not defined\n",
      "This block is always executed.\n"
     ]
    }
   ],
   "source": [
    "try:\n",
    "    x = 10 / mm  # This will raise a ZeroDivisionError\n",
    "# except ZeroDivisionError:\n",
    "#     print(\"Error: Division by zero occurred.\")\n",
    "except Exception as e:\n",
    "    print(\"An error occurred:\", e)\n",
    "else:\n",
    "    print(\"No exception occurred.\")\n",
    "finally:\n",
    "    print(\"This block is always executed.\")"
   ]
  },
  {
   "cell_type": "code",
   "execution_count": null,
   "id": "860bae74",
   "metadata": {},
   "outputs": [],
   "source": []
  }
 ],
 "metadata": {
  "kernelspec": {
   "display_name": "Python 3 (ipykernel)",
   "language": "python",
   "name": "python3"
  },
  "language_info": {
   "codemirror_mode": {
    "name": "ipython",
    "version": 3
   },
   "file_extension": ".py",
   "mimetype": "text/x-python",
   "name": "python",
   "nbconvert_exporter": "python",
   "pygments_lexer": "ipython3",
   "version": "3.10.9"
  }
 },
 "nbformat": 4,
 "nbformat_minor": 5
}
