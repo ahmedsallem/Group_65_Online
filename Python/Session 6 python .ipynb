{
 "cells": [
  {
   "cell_type": "code",
   "execution_count": 1,
   "id": "58f68c73",
   "metadata": {},
   "outputs": [],
   "source": [
    "# vars \n",
    "#     int \n",
    "#     float \n",
    "#     bool >> True or False \n",
    "#     str >> '  ' or \"  \" or \"\"\" \"\"\"   or ''' '''\n",
    "#     None \n",
    "#     int()   or float() or  str()"
   ]
  },
  {
   "cell_type": "code",
   "execution_count": 2,
   "id": "37001728",
   "metadata": {},
   "outputs": [],
   "source": [
    "# x = 10   # int \n",
    "# x = 10.0 # float \n",
    "# x = \"amit\" #string \n",
    "# x = None   # none value \n",
    "# x = True \n",
    "# x = False "
   ]
  },
  {
   "cell_type": "code",
   "execution_count": 3,
   "id": "6ae32488",
   "metadata": {},
   "outputs": [
    {
     "data": {
      "text/plain": [
       "int"
      ]
     },
     "execution_count": 3,
     "metadata": {},
     "output_type": "execute_result"
    }
   ],
   "source": [
    "x = 10 \n",
    "type(x)"
   ]
  },
  {
   "cell_type": "code",
   "execution_count": 4,
   "id": "62813a6e",
   "metadata": {},
   "outputs": [
    {
     "data": {
      "text/plain": [
       "'a'"
      ]
     },
     "execution_count": 4,
     "metadata": {},
     "output_type": "execute_result"
    }
   ],
   "source": [
    "x = \"amit learning\"\n",
    "x[0]"
   ]
  },
  {
   "cell_type": "code",
   "execution_count": 5,
   "id": "41b5d9fa",
   "metadata": {},
   "outputs": [
    {
     "data": {
      "text/plain": [
       "'g'"
      ]
     },
     "execution_count": 5,
     "metadata": {},
     "output_type": "execute_result"
    }
   ],
   "source": [
    "x[-1]"
   ]
  },
  {
   "cell_type": "code",
   "execution_count": 6,
   "id": "242b157e",
   "metadata": {},
   "outputs": [
    {
     "data": {
      "text/plain": [
       "'amit'"
      ]
     },
     "execution_count": 6,
     "metadata": {},
     "output_type": "execute_result"
    }
   ],
   "source": [
    "# x[start : stop : step ]\n",
    "x[0:4]"
   ]
  },
  {
   "cell_type": "code",
   "execution_count": 8,
   "id": "f6149f28",
   "metadata": {},
   "outputs": [
    {
     "data": {
      "text/plain": [
       "'AMIT learning'"
      ]
     },
     "execution_count": 8,
     "metadata": {},
     "output_type": "execute_result"
    }
   ],
   "source": [
    "x[0:4].upper() + x[4:]"
   ]
  },
  {
   "cell_type": "code",
   "execution_count": 9,
   "id": "4259a17e",
   "metadata": {},
   "outputs": [
    {
     "data": {
      "text/plain": [
       "'amit learning'"
      ]
     },
     "execution_count": 9,
     "metadata": {},
     "output_type": "execute_result"
    }
   ],
   "source": [
    "x"
   ]
  },
  {
   "cell_type": "code",
   "execution_count": 10,
   "id": "2fc61fbe",
   "metadata": {},
   "outputs": [
    {
     "data": {
      "text/plain": [
       "'Amit Learning'"
      ]
     },
     "execution_count": 10,
     "metadata": {},
     "output_type": "execute_result"
    }
   ],
   "source": [
    "x.title()"
   ]
  },
  {
   "cell_type": "code",
   "execution_count": 11,
   "id": "9485a664",
   "metadata": {},
   "outputs": [
    {
     "data": {
      "text/plain": [
       "'Amit learning'"
      ]
     },
     "execution_count": 11,
     "metadata": {},
     "output_type": "execute_result"
    }
   ],
   "source": [
    "x.capitalize()"
   ]
  },
  {
   "cell_type": "code",
   "execution_count": 12,
   "id": "bd9f281f",
   "metadata": {},
   "outputs": [
    {
     "data": {
      "text/plain": [
       "True"
      ]
     },
     "execution_count": 12,
     "metadata": {},
     "output_type": "execute_result"
    }
   ],
   "source": [
    "\"a\" in x   #bool"
   ]
  },
  {
   "cell_type": "code",
   "execution_count": 13,
   "id": "bfbe8aff",
   "metadata": {},
   "outputs": [
    {
     "data": {
      "text/plain": [
       "True"
      ]
     },
     "execution_count": 13,
     "metadata": {},
     "output_type": "execute_result"
    }
   ],
   "source": [
    "x.startswith(\"amit\")  #bool"
   ]
  },
  {
   "cell_type": "code",
   "execution_count": 15,
   "id": "dc173135",
   "metadata": {},
   "outputs": [
    {
     "data": {
      "text/plain": [
       "True"
      ]
     },
     "execution_count": 15,
     "metadata": {},
     "output_type": "execute_result"
    }
   ],
   "source": [
    "x.endswith(\"ing\") #bool"
   ]
  },
  {
   "cell_type": "code",
   "execution_count": 16,
   "id": "5504c3e7",
   "metadata": {},
   "outputs": [],
   "source": [
    "# python operators \n",
    "#     math operators\n",
    "#     conditional operators \n",
    "#     logical operators \n",
    "    "
   ]
  },
  {
   "cell_type": "code",
   "execution_count": 17,
   "id": "90d297e9",
   "metadata": {},
   "outputs": [
    {
     "data": {
      "text/plain": [
       "20"
      ]
     },
     "execution_count": 17,
     "metadata": {},
     "output_type": "execute_result"
    }
   ],
   "source": [
    "10 +10 "
   ]
  },
  {
   "cell_type": "code",
   "execution_count": 18,
   "id": "da288338",
   "metadata": {},
   "outputs": [
    {
     "data": {
      "text/plain": [
       "2"
      ]
     },
     "execution_count": 18,
     "metadata": {},
     "output_type": "execute_result"
    }
   ],
   "source": [
    "12-10"
   ]
  },
  {
   "cell_type": "code",
   "execution_count": 19,
   "id": "c49a8639",
   "metadata": {},
   "outputs": [
    {
     "data": {
      "text/plain": [
       "4"
      ]
     },
     "execution_count": 19,
     "metadata": {},
     "output_type": "execute_result"
    }
   ],
   "source": [
    "2 * 2 "
   ]
  },
  {
   "cell_type": "code",
   "execution_count": 20,
   "id": "4a32b5de",
   "metadata": {},
   "outputs": [
    {
     "data": {
      "text/plain": [
       "9"
      ]
     },
     "execution_count": 20,
     "metadata": {},
     "output_type": "execute_result"
    }
   ],
   "source": [
    "3 ** 2 "
   ]
  },
  {
   "cell_type": "code",
   "execution_count": 21,
   "id": "f7b210bd",
   "metadata": {},
   "outputs": [
    {
     "data": {
      "text/plain": [
       "9"
      ]
     },
     "execution_count": 21,
     "metadata": {},
     "output_type": "execute_result"
    }
   ],
   "source": [
    "pow(3,2)"
   ]
  },
  {
   "cell_type": "code",
   "execution_count": 22,
   "id": "d123bc82",
   "metadata": {},
   "outputs": [
    {
     "data": {
      "text/plain": [
       "3.0"
      ]
     },
     "execution_count": 22,
     "metadata": {},
     "output_type": "execute_result"
    }
   ],
   "source": [
    "9/3"
   ]
  },
  {
   "cell_type": "code",
   "execution_count": 23,
   "id": "e8207db1",
   "metadata": {},
   "outputs": [
    {
     "data": {
      "text/plain": [
       "3"
      ]
     },
     "execution_count": 23,
     "metadata": {},
     "output_type": "execute_result"
    }
   ],
   "source": [
    "9 // 3 "
   ]
  },
  {
   "cell_type": "code",
   "execution_count": 24,
   "id": "3d6a752f",
   "metadata": {},
   "outputs": [
    {
     "data": {
      "text/plain": [
       "1"
      ]
     },
     "execution_count": 24,
     "metadata": {},
     "output_type": "execute_result"
    }
   ],
   "source": [
    "10 % 3 "
   ]
  },
  {
   "cell_type": "code",
   "execution_count": 26,
   "id": "7b61279f",
   "metadata": {},
   "outputs": [
    {
     "data": {
      "text/plain": [
       "False"
      ]
     },
     "execution_count": 26,
     "metadata": {},
     "output_type": "execute_result"
    }
   ],
   "source": [
    "10 > 11    #bool "
   ]
  },
  {
   "cell_type": "code",
   "execution_count": 27,
   "id": "904ceebd",
   "metadata": {},
   "outputs": [
    {
     "data": {
      "text/plain": [
       "True"
      ]
     },
     "execution_count": 27,
     "metadata": {},
     "output_type": "execute_result"
    }
   ],
   "source": [
    "10 < 11 "
   ]
  },
  {
   "cell_type": "code",
   "execution_count": 28,
   "id": "00340d56",
   "metadata": {},
   "outputs": [
    {
     "data": {
      "text/plain": [
       "True"
      ]
     },
     "execution_count": 28,
     "metadata": {},
     "output_type": "execute_result"
    }
   ],
   "source": [
    "10 >= 10"
   ]
  },
  {
   "cell_type": "code",
   "execution_count": 29,
   "id": "d63d4673",
   "metadata": {},
   "outputs": [
    {
     "data": {
      "text/plain": [
       "True"
      ]
     },
     "execution_count": 29,
     "metadata": {},
     "output_type": "execute_result"
    }
   ],
   "source": [
    "10 <= 10"
   ]
  },
  {
   "cell_type": "code",
   "execution_count": 30,
   "id": "5062b278",
   "metadata": {},
   "outputs": [
    {
     "data": {
      "text/plain": [
       "True"
      ]
     },
     "execution_count": 30,
     "metadata": {},
     "output_type": "execute_result"
    }
   ],
   "source": [
    "10 == 10 "
   ]
  },
  {
   "cell_type": "code",
   "execution_count": 31,
   "id": "6b6f50d8",
   "metadata": {},
   "outputs": [
    {
     "data": {
      "text/plain": [
       "True"
      ]
     },
     "execution_count": 31,
     "metadata": {},
     "output_type": "execute_result"
    }
   ],
   "source": [
    "11 != 10"
   ]
  },
  {
   "cell_type": "code",
   "execution_count": 32,
   "id": "dbaa4db2",
   "metadata": {},
   "outputs": [
    {
     "data": {
      "text/plain": [
       "True"
      ]
     },
     "execution_count": 32,
     "metadata": {},
     "output_type": "execute_result"
    }
   ],
   "source": [
    "10 > 9 and  True "
   ]
  },
  {
   "cell_type": "code",
   "execution_count": 33,
   "id": "78c8b3dc",
   "metadata": {},
   "outputs": [
    {
     "data": {
      "text/plain": [
       "True"
      ]
     },
     "execution_count": 33,
     "metadata": {},
     "output_type": "execute_result"
    }
   ],
   "source": [
    "12 > 15 or True "
   ]
  },
  {
   "cell_type": "code",
   "execution_count": 34,
   "id": "159d625a",
   "metadata": {},
   "outputs": [
    {
     "data": {
      "text/plain": [
       "False"
      ]
     },
     "execution_count": 34,
     "metadata": {},
     "output_type": "execute_result"
    }
   ],
   "source": [
    "not True "
   ]
  },
  {
   "cell_type": "code",
   "execution_count": 35,
   "id": "cefe7ddd",
   "metadata": {},
   "outputs": [
    {
     "data": {
      "text/plain": [
       "True"
      ]
     },
     "execution_count": 35,
     "metadata": {},
     "output_type": "execute_result"
    }
   ],
   "source": [
    "not False "
   ]
  },
  {
   "cell_type": "code",
   "execution_count": 36,
   "id": "0c5f9341",
   "metadata": {},
   "outputs": [],
   "source": [
    "x = 10 \n",
    "x += 1"
   ]
  },
  {
   "cell_type": "code",
   "execution_count": 37,
   "id": "671374c1",
   "metadata": {},
   "outputs": [
    {
     "data": {
      "text/plain": [
       "11"
      ]
     },
     "execution_count": 37,
     "metadata": {},
     "output_type": "execute_result"
    }
   ],
   "source": [
    "x"
   ]
  },
  {
   "cell_type": "code",
   "execution_count": 38,
   "id": "f17be883",
   "metadata": {},
   "outputs": [],
   "source": [
    "# if condition : \n",
    "#     statement ...\n",
    "#     .....\n",
    "#     ....\n",
    "#     ....\n",
    "#     ....\n",
    "# elif condition2 :\n",
    "#     statements ...\n",
    "#     ....\n",
    "#     ...\n",
    "# .\n",
    "# .\n",
    "# .\n",
    "# else:\n",
    "#     statements..\n",
    "#     ....\n",
    "#     ."
   ]
  },
  {
   "cell_type": "code",
   "execution_count": 40,
   "id": "a3adbdc9",
   "metadata": {},
   "outputs": [
    {
     "name": "stdout",
     "output_type": "stream",
     "text": [
      "enter your number: 13\n",
      "13  Odd\n"
     ]
    }
   ],
   "source": [
    "x = int(input(\"enter your number: \"))\n",
    "if x % 2 == 0 :\n",
    "    print(x , \" Even\")\n",
    "else:\n",
    "    print(x , \" Odd\")"
   ]
  },
  {
   "cell_type": "code",
   "execution_count": 42,
   "id": "6fd454d4",
   "metadata": {},
   "outputs": [],
   "source": [
    "z = \"even\" if x % 2 == 0  else \"odd\""
   ]
  },
  {
   "cell_type": "code",
   "execution_count": 43,
   "id": "6a5d8516",
   "metadata": {},
   "outputs": [
    {
     "data": {
      "text/plain": [
       "'odd'"
      ]
     },
     "execution_count": 43,
     "metadata": {},
     "output_type": "execute_result"
    }
   ],
   "source": [
    "z"
   ]
  },
  {
   "cell_type": "code",
   "execution_count": 44,
   "id": "69aa4cad",
   "metadata": {},
   "outputs": [],
   "source": [
    "# list \n",
    "# tuple \n",
    "# set \n",
    "# dict"
   ]
  },
  {
   "cell_type": "code",
   "execution_count": 45,
   "id": "a6bd0011",
   "metadata": {},
   "outputs": [],
   "source": [
    "# lst= []   or lst = list()\n",
    "lst = [1,2,3,4,5]"
   ]
  },
  {
   "cell_type": "code",
   "execution_count": 46,
   "id": "52a67402",
   "metadata": {},
   "outputs": [
    {
     "data": {
      "text/plain": [
       "list"
      ]
     },
     "execution_count": 46,
     "metadata": {},
     "output_type": "execute_result"
    }
   ],
   "source": [
    "type(lst)"
   ]
  },
  {
   "cell_type": "code",
   "execution_count": 47,
   "id": "de8d7c5b",
   "metadata": {},
   "outputs": [
    {
     "data": {
      "text/plain": [
       "5"
      ]
     },
     "execution_count": 47,
     "metadata": {},
     "output_type": "execute_result"
    }
   ],
   "source": [
    "len(lst)"
   ]
  },
  {
   "cell_type": "code",
   "execution_count": 48,
   "id": "1809b1fd",
   "metadata": {},
   "outputs": [],
   "source": [
    "# lst.append(item )    item  =  (1,2,3) or = {\"k\":value} or = [1,2,3,4]\n",
    "# lst.extend(lst2)\n",
    "# lst[0] = 100\n",
    "# lst[start : stop : step ]\n",
    "# lst.pop(index= -1)\n",
    "# lst.remove(item)\n",
    "# del lst[0]\n",
    "# lst2 = lst.copy()\n",
    "# lst.clear()\n",
    "# lst.reverse()\n",
    "# lst.sort()"
   ]
  },
  {
   "cell_type": "code",
   "execution_count": 49,
   "id": "cfd904ac",
   "metadata": {},
   "outputs": [
    {
     "data": {
      "text/plain": [
       "1"
      ]
     },
     "execution_count": 49,
     "metadata": {},
     "output_type": "execute_result"
    }
   ],
   "source": [
    "t = (1,2,3)   #or t = tuple((1,2,3,4))\n",
    "t[0]"
   ]
  },
  {
   "cell_type": "code",
   "execution_count": 50,
   "id": "5e0b3903",
   "metadata": {},
   "outputs": [
    {
     "data": {
      "text/plain": [
       "(1, 2)"
      ]
     },
     "execution_count": 50,
     "metadata": {},
     "output_type": "execute_result"
    }
   ],
   "source": [
    "t[0:2]"
   ]
  },
  {
   "cell_type": "code",
   "execution_count": 51,
   "id": "687e20d6",
   "metadata": {},
   "outputs": [],
   "source": [
    "x , y = t[0:2]"
   ]
  },
  {
   "cell_type": "code",
   "execution_count": 52,
   "id": "91ae09cb",
   "metadata": {},
   "outputs": [
    {
     "data": {
      "text/plain": [
       "1"
      ]
     },
     "execution_count": 52,
     "metadata": {},
     "output_type": "execute_result"
    }
   ],
   "source": [
    "x"
   ]
  },
  {
   "cell_type": "code",
   "execution_count": 53,
   "id": "ff69bb40",
   "metadata": {},
   "outputs": [
    {
     "data": {
      "text/plain": [
       "2"
      ]
     },
     "execution_count": 53,
     "metadata": {},
     "output_type": "execute_result"
    }
   ],
   "source": [
    "y"
   ]
  },
  {
   "cell_type": "code",
   "execution_count": 55,
   "id": "b3b5bbb4",
   "metadata": {},
   "outputs": [],
   "source": [
    "# t[0] = 12"
   ]
  },
  {
   "cell_type": "code",
   "execution_count": 56,
   "id": "b5300d2e",
   "metadata": {},
   "outputs": [],
   "source": [
    "l = list(t)"
   ]
  },
  {
   "cell_type": "code",
   "execution_count": 57,
   "id": "248653e2",
   "metadata": {},
   "outputs": [
    {
     "data": {
      "text/plain": [
       "[1, 2, 3]"
      ]
     },
     "execution_count": 57,
     "metadata": {},
     "output_type": "execute_result"
    }
   ],
   "source": [
    "l"
   ]
  },
  {
   "cell_type": "code",
   "execution_count": 58,
   "id": "58888f95",
   "metadata": {},
   "outputs": [],
   "source": [
    "l[0] = 100"
   ]
  },
  {
   "cell_type": "code",
   "execution_count": 59,
   "id": "1921b166",
   "metadata": {},
   "outputs": [
    {
     "data": {
      "text/plain": [
       "[100, 2, 3]"
      ]
     },
     "execution_count": 59,
     "metadata": {},
     "output_type": "execute_result"
    }
   ],
   "source": [
    "l"
   ]
  },
  {
   "cell_type": "code",
   "execution_count": 60,
   "id": "1b81fe13",
   "metadata": {},
   "outputs": [],
   "source": [
    "t = tuple(l)"
   ]
  },
  {
   "cell_type": "code",
   "execution_count": 61,
   "id": "827e814f",
   "metadata": {},
   "outputs": [
    {
     "data": {
      "text/plain": [
       "(100, 2, 3)"
      ]
     },
     "execution_count": 61,
     "metadata": {},
     "output_type": "execute_result"
    }
   ],
   "source": [
    "t"
   ]
  },
  {
   "cell_type": "code",
   "execution_count": 66,
   "id": "9a3e9ab2",
   "metadata": {},
   "outputs": [],
   "source": [
    "t = t[0:-1] + (100,)"
   ]
  },
  {
   "cell_type": "code",
   "execution_count": 67,
   "id": "ce53cc70",
   "metadata": {},
   "outputs": [
    {
     "data": {
      "text/plain": [
       "(100, 2, 100)"
      ]
     },
     "execution_count": 67,
     "metadata": {},
     "output_type": "execute_result"
    }
   ],
   "source": [
    "t"
   ]
  },
  {
   "cell_type": "code",
   "execution_count": 68,
   "id": "ae919d45",
   "metadata": {},
   "outputs": [],
   "source": [
    "s = {1,2,3,4}  # or set(seq)\n"
   ]
  },
  {
   "cell_type": "code",
   "execution_count": 69,
   "id": "9b8d20d6",
   "metadata": {},
   "outputs": [],
   "source": [
    "s.add(10)"
   ]
  },
  {
   "cell_type": "code",
   "execution_count": 70,
   "id": "ff163335",
   "metadata": {},
   "outputs": [
    {
     "data": {
      "text/plain": [
       "{1, 2, 3, 4, 10}"
      ]
     },
     "execution_count": 70,
     "metadata": {},
     "output_type": "execute_result"
    }
   ],
   "source": [
    "s"
   ]
  },
  {
   "cell_type": "code",
   "execution_count": 71,
   "id": "9cce76df",
   "metadata": {},
   "outputs": [],
   "source": [
    "s.remove(10)"
   ]
  },
  {
   "cell_type": "code",
   "execution_count": 72,
   "id": "5b48e833",
   "metadata": {},
   "outputs": [
    {
     "data": {
      "text/plain": [
       "{1, 2, 3, 4}"
      ]
     },
     "execution_count": 72,
     "metadata": {},
     "output_type": "execute_result"
    }
   ],
   "source": [
    "s"
   ]
  },
  {
   "cell_type": "code",
   "execution_count": 73,
   "id": "92783409",
   "metadata": {},
   "outputs": [],
   "source": [
    "s.update({4,5,6})"
   ]
  },
  {
   "cell_type": "code",
   "execution_count": 74,
   "id": "bd80bea4",
   "metadata": {},
   "outputs": [
    {
     "data": {
      "text/plain": [
       "{1, 2, 3, 4, 5, 6}"
      ]
     },
     "execution_count": 74,
     "metadata": {},
     "output_type": "execute_result"
    }
   ],
   "source": [
    "s"
   ]
  },
  {
   "cell_type": "code",
   "execution_count": 75,
   "id": "cb96d5e1",
   "metadata": {},
   "outputs": [
    {
     "data": {
      "text/plain": [
       "{1, 2, 3, 4, 5, 6, 7}"
      ]
     },
     "execution_count": 75,
     "metadata": {},
     "output_type": "execute_result"
    }
   ],
   "source": [
    "lst = [1,2,2,3,3,4,5,5,6,7]\n",
    "set(lst)"
   ]
  },
  {
   "cell_type": "code",
   "execution_count": 76,
   "id": "c7c38845",
   "metadata": {},
   "outputs": [
    {
     "data": {
      "text/plain": [
       "{3, 4}"
      ]
     },
     "execution_count": 76,
     "metadata": {},
     "output_type": "execute_result"
    }
   ],
   "source": [
    "a = {1,2,3,4}\n",
    "b = {3,4,5,6}\n",
    "a.intersection(b)"
   ]
  },
  {
   "cell_type": "code",
   "execution_count": 77,
   "id": "8872b2a7",
   "metadata": {},
   "outputs": [
    {
     "data": {
      "text/plain": [
       "{1, 2, 3, 4, 5, 6}"
      ]
     },
     "execution_count": 77,
     "metadata": {},
     "output_type": "execute_result"
    }
   ],
   "source": [
    "a.union(b)"
   ]
  },
  {
   "cell_type": "code",
   "execution_count": 78,
   "id": "1ffec44d",
   "metadata": {},
   "outputs": [
    {
     "data": {
      "text/plain": [
       "{1, 2}"
      ]
     },
     "execution_count": 78,
     "metadata": {},
     "output_type": "execute_result"
    }
   ],
   "source": [
    "a.difference(b)"
   ]
  },
  {
   "cell_type": "code",
   "execution_count": 89,
   "id": "01ba03e0",
   "metadata": {},
   "outputs": [],
   "source": [
    "d = {\"k\" : 10 , \"k2\": \"amit\"}  #or  dict(seq)\n"
   ]
  },
  {
   "cell_type": "code",
   "execution_count": 90,
   "id": "d89ef1b4",
   "metadata": {},
   "outputs": [
    {
     "data": {
      "text/plain": [
       "10"
      ]
     },
     "execution_count": 90,
     "metadata": {},
     "output_type": "execute_result"
    }
   ],
   "source": [
    "d[\"k\"]"
   ]
  },
  {
   "cell_type": "code",
   "execution_count": 91,
   "id": "a4a7e488",
   "metadata": {},
   "outputs": [
    {
     "data": {
      "text/plain": [
       "10"
      ]
     },
     "execution_count": 91,
     "metadata": {},
     "output_type": "execute_result"
    }
   ],
   "source": [
    "d.get(\"k\")"
   ]
  },
  {
   "cell_type": "code",
   "execution_count": 92,
   "id": "db2bc977",
   "metadata": {},
   "outputs": [],
   "source": [
    "d[\"k\"] = 100"
   ]
  },
  {
   "cell_type": "code",
   "execution_count": 93,
   "id": "72c9bfac",
   "metadata": {},
   "outputs": [
    {
     "data": {
      "text/plain": [
       "{'k': 100, 'k2': 'amit'}"
      ]
     },
     "execution_count": 93,
     "metadata": {},
     "output_type": "execute_result"
    }
   ],
   "source": [
    "d"
   ]
  },
  {
   "cell_type": "code",
   "execution_count": 94,
   "id": "5a6157d2",
   "metadata": {},
   "outputs": [
    {
     "data": {
      "text/plain": [
       "dict_items([('k', 100), ('k2', 'amit')])"
      ]
     },
     "execution_count": 94,
     "metadata": {},
     "output_type": "execute_result"
    }
   ],
   "source": [
    "d.items()"
   ]
  },
  {
   "cell_type": "code",
   "execution_count": 95,
   "id": "f36bdb25",
   "metadata": {},
   "outputs": [
    {
     "data": {
      "text/plain": [
       "dict_keys(['k', 'k2'])"
      ]
     },
     "execution_count": 95,
     "metadata": {},
     "output_type": "execute_result"
    }
   ],
   "source": [
    "d.keys()"
   ]
  },
  {
   "cell_type": "code",
   "execution_count": 96,
   "id": "c57b8be1",
   "metadata": {},
   "outputs": [
    {
     "data": {
      "text/plain": [
       "dict_values([100, 'amit'])"
      ]
     },
     "execution_count": 96,
     "metadata": {},
     "output_type": "execute_result"
    }
   ],
   "source": [
    "d.values()"
   ]
  },
  {
   "cell_type": "code",
   "execution_count": 97,
   "id": "e2b83336",
   "metadata": {},
   "outputs": [
    {
     "name": "stdout",
     "output_type": "stream",
     "text": [
      "a\n",
      "m\n",
      "i\n",
      "t\n",
      " \n",
      "l\n",
      "e\n",
      "a\n",
      "r\n",
      "n\n",
      "i\n",
      "n\n",
      "g\n"
     ]
    }
   ],
   "source": [
    "for i in \"amit learning\":\n",
    "    print(i)"
   ]
  },
  {
   "cell_type": "code",
   "execution_count": 98,
   "id": "636cd90c",
   "metadata": {},
   "outputs": [],
   "source": [
    "lst = [1,2,3,4,5,6,7,8,9,10]\n",
    "even = []\n",
    "odd  = [] \n",
    "for i in lst :\n",
    "    if i % 2 == 0 :\n",
    "        even.append(i)\n",
    "    else:\n",
    "        odd.append(i)"
   ]
  },
  {
   "cell_type": "code",
   "execution_count": 99,
   "id": "da95abac",
   "metadata": {},
   "outputs": [
    {
     "data": {
      "text/plain": [
       "[2, 4, 6, 8, 10]"
      ]
     },
     "execution_count": 99,
     "metadata": {},
     "output_type": "execute_result"
    }
   ],
   "source": [
    "even"
   ]
  },
  {
   "cell_type": "code",
   "execution_count": 100,
   "id": "210e9c24",
   "metadata": {},
   "outputs": [
    {
     "data": {
      "text/plain": [
       "[1, 3, 5, 7, 9]"
      ]
     },
     "execution_count": 100,
     "metadata": {},
     "output_type": "execute_result"
    }
   ],
   "source": [
    "odd"
   ]
  },
  {
   "cell_type": "code",
   "execution_count": 101,
   "id": "17e3f76f",
   "metadata": {},
   "outputs": [
    {
     "data": {
      "text/plain": [
       "[1, 4, 27, 256, 3125, 46656, 823543, 16777216, 387420489, 10000000000]"
      ]
     },
     "execution_count": 101,
     "metadata": {},
     "output_type": "execute_result"
    }
   ],
   "source": [
    "[i ** i  for i in lst ]"
   ]
  },
  {
   "cell_type": "code",
   "execution_count": 103,
   "id": "f360c923",
   "metadata": {},
   "outputs": [
    {
     "data": {
      "text/plain": [
       "['1 odd',\n",
       " '2 even',\n",
       " '3 odd',\n",
       " '4 even',\n",
       " '5 odd',\n",
       " '6 even',\n",
       " '7 odd',\n",
       " '8 even',\n",
       " '9 odd',\n",
       " '10 even']"
      ]
     },
     "execution_count": 103,
     "metadata": {},
     "output_type": "execute_result"
    }
   ],
   "source": [
    "[ f\"{i} even\" if i % 2 == 0 else f\"{i} odd\" for i in lst ]"
   ]
  },
  {
   "cell_type": "code",
   "execution_count": 105,
   "id": "0303de4a",
   "metadata": {},
   "outputs": [
    {
     "name": "stdout",
     "output_type": "stream",
     "text": [
      "enter your name: amit\n",
      "amit\n",
      "enter your name: G_65\n",
      "G_65\n",
      "enter your name: G_65\n",
      "G_65\n",
      "enter your name: G_65\n",
      "G_65\n",
      "enter your name: G_65\n",
      "G_65\n",
      "enter your name: G_65\n",
      "G_65\n",
      "enter your name: G_65\n",
      "G_65\n",
      "enter your name: G_65\n",
      "G_65\n",
      "enter your name: G_65\n",
      "G_65\n",
      "enter your name: 123\n",
      "turn off while loop\n"
     ]
    }
   ],
   "source": [
    "while True:\n",
    "    name = input(\"enter your name: \")\n",
    "    if name == \"amit\":\n",
    "        print(name)\n",
    "    elif name == \"G_65\":\n",
    "        print(name)\n",
    "    else:\n",
    "        print(\"turn off while loop\")\n",
    "        break"
   ]
  },
  {
   "cell_type": "code",
   "execution_count": 106,
   "id": "b9f4bc9a",
   "metadata": {},
   "outputs": [],
   "source": [
    "# print()\n",
    "# len()\n",
    "# max()\n",
    "# min()\n",
    "# pow(12,2)"
   ]
  },
  {
   "cell_type": "code",
   "execution_count": 109,
   "id": "d59c55d9",
   "metadata": {},
   "outputs": [],
   "source": [
    "def add(*n):\n",
    "    s = 0 \n",
    "    for i in n:\n",
    "        s += i \n",
    "    return s \n",
    "    "
   ]
  },
  {
   "cell_type": "code",
   "execution_count": 110,
   "id": "0675ab77",
   "metadata": {},
   "outputs": [
    {
     "data": {
      "text/plain": [
       "24"
      ]
     },
     "execution_count": 110,
     "metadata": {},
     "output_type": "execute_result"
    }
   ],
   "source": [
    "add(12,12)"
   ]
  },
  {
   "cell_type": "code",
   "execution_count": 111,
   "id": "3fbc0cd5",
   "metadata": {},
   "outputs": [
    {
     "data": {
      "text/plain": [
       "96"
      ]
     },
     "execution_count": 111,
     "metadata": {},
     "output_type": "execute_result"
    }
   ],
   "source": [
    "add(12,12,12,12,12,12,2,1,21)"
   ]
  },
  {
   "cell_type": "code",
   "execution_count": 112,
   "id": "cb894bb4",
   "metadata": {},
   "outputs": [
    {
     "data": {
      "text/plain": [
       "[1, 2, 3, 4, 5, 6, 7, 8, 9, 10]"
      ]
     },
     "execution_count": 112,
     "metadata": {},
     "output_type": "execute_result"
    }
   ],
   "source": [
    "lst"
   ]
  },
  {
   "cell_type": "code",
   "execution_count": 116,
   "id": "a31aa51f",
   "metadata": {},
   "outputs": [
    {
     "data": {
      "text/plain": [
       "[2, 4, 6, 8, 10, 12, 14, 16, 18, 20]"
      ]
     },
     "execution_count": 116,
     "metadata": {},
     "output_type": "execute_result"
    }
   ],
   "source": [
    "fun = lambda x : x * 2\n",
    "list(map(fun, lst))"
   ]
  },
  {
   "cell_type": "code",
   "execution_count": 117,
   "id": "af0d0059",
   "metadata": {},
   "outputs": [
    {
     "data": {
      "text/plain": [
       "[2, 4, 6, 8, 10]"
      ]
     },
     "execution_count": 117,
     "metadata": {},
     "output_type": "execute_result"
    }
   ],
   "source": [
    "def check(num):\n",
    "    if num % 2 ==0 :\n",
    "        return True\n",
    "    else:\n",
    "        return False\n",
    "\n",
    "list(filter(check , lst))"
   ]
  },
  {
   "cell_type": "code",
   "execution_count": 118,
   "id": "0728c33b",
   "metadata": {},
   "outputs": [
    {
     "data": {
      "text/plain": [
       "[1, 3, 5, 7, 9]"
      ]
     },
     "execution_count": 118,
     "metadata": {},
     "output_type": "execute_result"
    }
   ],
   "source": [
    "def check(num):\n",
    "    if num % 2 !=0 :\n",
    "        return True\n",
    "    else:\n",
    "        return False\n",
    "    \n",
    "list(filter(check , lst))"
   ]
  },
  {
   "cell_type": "code",
   "execution_count": 120,
   "id": "458592c1",
   "metadata": {},
   "outputs": [
    {
     "name": "stdout",
     "output_type": "stream",
     "text": [
      "local\n",
      "global\n"
     ]
    }
   ],
   "source": [
    "x = \"global\"\n",
    "def outer():\n",
    "    x = \"local\"\n",
    "    print(x)\n",
    "outer()\n",
    "print(x)"
   ]
  },
  {
   "cell_type": "code",
   "execution_count": 121,
   "id": "b1228b0c",
   "metadata": {},
   "outputs": [
    {
     "name": "stdout",
     "output_type": "stream",
     "text": [
      "local\n",
      "local\n"
     ]
    }
   ],
   "source": [
    "x = \"global\"\n",
    "def outer():\n",
    "    global x \n",
    "    x = \"local\"\n",
    "    print(x)\n",
    "outer()\n",
    "print(x)"
   ]
  },
  {
   "cell_type": "code",
   "execution_count": 123,
   "id": "999513db",
   "metadata": {},
   "outputs": [
    {
     "name": "stdout",
     "output_type": "stream",
     "text": [
      "inner\n",
      "local\n",
      "global\n"
     ]
    }
   ],
   "source": [
    "x = \"global\"\n",
    "def outer():\n",
    "    \n",
    "    x = \"local\"\n",
    "    def inner():\n",
    "        x = \"inner\"\n",
    "        print(x)\n",
    "    inner()\n",
    "    print(x)\n",
    "    \n",
    "outer()\n",
    "print(x)"
   ]
  },
  {
   "cell_type": "code",
   "execution_count": 124,
   "id": "a390fe26",
   "metadata": {},
   "outputs": [
    {
     "name": "stdout",
     "output_type": "stream",
     "text": [
      "inner\n",
      "inner\n",
      "global\n"
     ]
    }
   ],
   "source": [
    "x = \"global\"\n",
    "def outer():\n",
    "    \n",
    "    x = \"local\"\n",
    "    def inner():\n",
    "        nonlocal x \n",
    "        x = \"inner\"\n",
    "        print(x)\n",
    "    inner()\n",
    "    print(x)\n",
    "    \n",
    "outer()\n",
    "print(x)"
   ]
  },
  {
   "cell_type": "code",
   "execution_count": 125,
   "id": "d5c0f14b",
   "metadata": {},
   "outputs": [
    {
     "name": "stdout",
     "output_type": "stream",
     "text": [
      "inner\n",
      "local\n",
      "inner\n"
     ]
    }
   ],
   "source": [
    "x = \"global\"\n",
    "def outer():\n",
    "    \n",
    "    x = \"local\"\n",
    "    def inner():\n",
    "        global x \n",
    "        x = \"inner\"\n",
    "        print(x)\n",
    "    inner()\n",
    "    print(x)\n",
    "    \n",
    "outer()\n",
    "print(x)"
   ]
  },
  {
   "cell_type": "code",
   "execution_count": 126,
   "id": "20cf7603",
   "metadata": {},
   "outputs": [],
   "source": [
    "\"r\"\n",
    "\"x\"\n",
    "\"w\"\n",
    "\"a\"\n",
    "f = open(\"test.txt\" , \"r\")"
   ]
  },
  {
   "cell_type": "code",
   "execution_count": 127,
   "id": "b0db94ac",
   "metadata": {},
   "outputs": [
    {
     "data": {
      "text/plain": [
       "'........'"
      ]
     },
     "execution_count": 127,
     "metadata": {},
     "output_type": "execute_result"
    }
   ],
   "source": [
    "f.read()"
   ]
  },
  {
   "cell_type": "code",
   "execution_count": 131,
   "id": "b73a7c6c",
   "metadata": {},
   "outputs": [],
   "source": [
    "# f = open(\"test2.txt\" , \"x\")"
   ]
  },
  {
   "cell_type": "code",
   "execution_count": 132,
   "id": "ead6557e",
   "metadata": {},
   "outputs": [],
   "source": [
    "f = open(\"test.txt\" , \"w\")"
   ]
  },
  {
   "cell_type": "code",
   "execution_count": 133,
   "id": "78694711",
   "metadata": {},
   "outputs": [
    {
     "data": {
      "text/plain": [
       "15"
      ]
     },
     "execution_count": 133,
     "metadata": {},
     "output_type": "execute_result"
    }
   ],
   "source": [
    "f.write(\"my name is amit\")"
   ]
  },
  {
   "cell_type": "code",
   "execution_count": 134,
   "id": "ddac9088",
   "metadata": {},
   "outputs": [],
   "source": [
    "f.close()"
   ]
  },
  {
   "cell_type": "code",
   "execution_count": 139,
   "id": "43325189",
   "metadata": {},
   "outputs": [],
   "source": [
    "f = open(\"test.txt\" , \"a\")"
   ]
  },
  {
   "cell_type": "code",
   "execution_count": 140,
   "id": "cb8b2540",
   "metadata": {},
   "outputs": [
    {
     "data": {
      "text/plain": [
       "13"
      ]
     },
     "execution_count": 140,
     "metadata": {},
     "output_type": "execute_result"
    }
   ],
   "source": [
    "f.write(\"\\nmy age is 10\")"
   ]
  },
  {
   "cell_type": "code",
   "execution_count": 141,
   "id": "208f26ff",
   "metadata": {},
   "outputs": [],
   "source": [
    "f.close()"
   ]
  },
  {
   "cell_type": "code",
   "execution_count": 201,
   "id": "8ea7521a",
   "metadata": {},
   "outputs": [],
   "source": [
    "class Cars:\n",
    "    def __init__(self , name , age ):\n",
    "        #instance attribute \n",
    "        self.__name = name \n",
    "        self.__age = age \n",
    "    #instance method\n",
    "    def show(self):\n",
    "        print(f\"my name is {self.__name} , and my age is {self.__age}\")\n",
    "    \n",
    "    def __str__(self):\n",
    "        return f\"my name is {self.__name}\""
   ]
  },
  {
   "cell_type": "code",
   "execution_count": 202,
   "id": "a5c85bc7",
   "metadata": {},
   "outputs": [],
   "source": [
    "BMW = Cars(\"BMW\" , 2)"
   ]
  },
  {
   "cell_type": "code",
   "execution_count": 203,
   "id": "081aa39c",
   "metadata": {},
   "outputs": [
    {
     "data": {
      "text/plain": [
       "'my name is BMW'"
      ]
     },
     "execution_count": 203,
     "metadata": {},
     "output_type": "execute_result"
    }
   ],
   "source": [
    "str(BMW)"
   ]
  },
  {
   "cell_type": "code",
   "execution_count": 204,
   "id": "9f5601b0",
   "metadata": {},
   "outputs": [
    {
     "name": "stdout",
     "output_type": "stream",
     "text": [
      "my name is BMW\n"
     ]
    }
   ],
   "source": [
    "print(BMW)"
   ]
  },
  {
   "cell_type": "code",
   "execution_count": 205,
   "id": "4934005e",
   "metadata": {},
   "outputs": [
    {
     "name": "stdout",
     "output_type": "stream",
     "text": [
      "my name is BMW , and my age is 2\n"
     ]
    }
   ],
   "source": [
    "BMW.show()"
   ]
  },
  {
   "cell_type": "code",
   "execution_count": 206,
   "id": "aa2dabee",
   "metadata": {},
   "outputs": [],
   "source": [
    "FIAT = Cars(\"FIAT\" , 3)"
   ]
  },
  {
   "cell_type": "code",
   "execution_count": 200,
   "id": "a5f95780",
   "metadata": {},
   "outputs": [
    {
     "data": {
      "text/plain": [
       "'my name is FIAT'"
      ]
     },
     "execution_count": 200,
     "metadata": {},
     "output_type": "execute_result"
    }
   ],
   "source": [
    "str(FIAT)"
   ]
  },
  {
   "cell_type": "code",
   "execution_count": 191,
   "id": "8cb51ead",
   "metadata": {},
   "outputs": [
    {
     "name": "stdout",
     "output_type": "stream",
     "text": [
      "my name is FIAT\n"
     ]
    }
   ],
   "source": [
    "print(FIAT)"
   ]
  },
  {
   "cell_type": "code",
   "execution_count": 192,
   "id": "f37a9ddb",
   "metadata": {},
   "outputs": [
    {
     "name": "stdout",
     "output_type": "stream",
     "text": [
      "my name is FIAT , and my age is 3\n"
     ]
    }
   ],
   "source": [
    "FIAT.show()"
   ]
  },
  {
   "cell_type": "code",
   "execution_count": 193,
   "id": "beb26459",
   "metadata": {},
   "outputs": [],
   "source": [
    "FIAT.name = \"lkglkflgklfkg\""
   ]
  },
  {
   "cell_type": "code",
   "execution_count": 173,
   "id": "96808758",
   "metadata": {},
   "outputs": [
    {
     "data": {
      "text/plain": [
       "'lkglkflgklfkg'"
      ]
     },
     "execution_count": 173,
     "metadata": {},
     "output_type": "execute_result"
    }
   ],
   "source": [
    "FIAT.name"
   ]
  },
  {
   "cell_type": "code",
   "execution_count": 175,
   "id": "732ab280",
   "metadata": {},
   "outputs": [
    {
     "name": "stdout",
     "output_type": "stream",
     "text": [
      "my name is FIAT , and my age is 3\n"
     ]
    }
   ],
   "source": [
    "FIAT.show()"
   ]
  },
  {
   "cell_type": "code",
   "execution_count": 214,
   "id": "3f9cfd0c",
   "metadata": {},
   "outputs": [],
   "source": [
    "class Bank:\n",
    "    def __init__(self , name):\n",
    "        self.name = name\n",
    "        self.users = []     # [{\"username\": , \"password\": , \"balance\":  },{\"username\": , \"password\": , \"balance\":  }]\n",
    "    def create_account(self , username , passoword):\n",
    "        for user in self.users:\n",
    "            if user[\"username\"] == username and user[\"password\"]== passoword:\n",
    "                print('The username already exists!  try to login..')\n",
    "        self.users.append({\"username\":username , \"password\":passoword , \"balance\":0  }) \n",
    "        self.login(username , passoword)\n",
    "        \n",
    "    def login(self , username , passoword):\n",
    "        for user in self.users:\n",
    "            if user[\"username\"] == username and user[\"password\"]== passoword:\n",
    "                print(f\"\\nWelcome {user['username']}\")\n",
    "                while True :\n",
    "                    self.menu()\n",
    "                    option = int(input())\n",
    "                    if option == 1 :\n",
    "                        self.check_balance(user)\n",
    "                    elif option == 2 :\n",
    "                        money = int(input(\"Enter your money: \"))\n",
    "                        self.deposit(user , money)\n",
    "                    elif option == 3 :\n",
    "                        money = int(input(\"Enter your Cash: \"))\n",
    "                        self.withdraw(user , money)\n",
    "                    elif option == 4 :\n",
    "                        print(F\"Thanks for using {self.name}\")\n",
    "                        break\n",
    "                    else:\n",
    "                        print(\"Invalid option! please try again \")\n",
    "                        \n",
    "            return self.users\n",
    "        print('Incorrect username or password ')\n",
    "    \n",
    "    \n",
    "    def check_balance(self ,user):\n",
    "        print(f\"Your Current Balance is: {user['balance']} \")\n",
    "        \n",
    "    def deposit(self , user , money):\n",
    "        if money >= 0 :\n",
    "            user[\"balance\"] += money\n",
    "            print(\"Your money has been added\")\n",
    "            print(f\"Your Current Balance is: {user['balance']}\")\n",
    "    def withdraw(self , user , money):\n",
    "        if money > user[\"balance\"]:\n",
    "            print(\"You dont have enough balance \")\n",
    "            print(f\"Your Balance is: {user['balance']}\")\n",
    "        else:\n",
    "            user['balance'] -= money \n",
    "            print(f\"Your Balance is: {user['balance']}\")\n",
    "        \n",
    "    \n",
    "    def menu(self):\n",
    "        print(\"\\nPlease enter a process number: \")\n",
    "        print(\"1 >> Check Your Balance \")\n",
    "        print(\"2 >> Deposit \")\n",
    "        print(\"3 >> Withdraw \")\n",
    "        print(\"4 >> Cancel \")"
   ]
  },
  {
   "cell_type": "code",
   "execution_count": 215,
   "id": "70899d1e",
   "metadata": {},
   "outputs": [],
   "source": [
    "bank = Bank('CIB')"
   ]
  },
  {
   "cell_type": "code",
   "execution_count": 216,
   "id": "f640bbf4",
   "metadata": {},
   "outputs": [],
   "source": [
    "def main_menu():\n",
    "    print(f\"Welcome to {bank.name}.\")\n",
    "    print(\"1 >> Create new account\")\n",
    "    print(\"2 >> Login \")\n",
    "    print(\"3 >> Cancel \")\n",
    "    option = int(input(\"Please enter valid option: \"))\n",
    "    return option"
   ]
  },
  {
   "cell_type": "code",
   "execution_count": 217,
   "id": "ab8c86dd",
   "metadata": {},
   "outputs": [
    {
     "name": "stdout",
     "output_type": "stream",
     "text": [
      "Welcome to CIB.\n",
      "1 >> Create new account\n",
      "2 >> Login \n",
      "3 >> Cancel \n",
      "Please enter valid option: 1\n",
      "Enter valid username ahmed\n",
      "Enter valid password 123\n",
      "\n",
      "Welcome ahmed\n",
      "\n",
      "Please enter a process number: \n",
      "1 >> Check Your Balance \n",
      "2 >> Deposit \n",
      "3 >> Withdraw \n",
      "4 >> Cancel \n",
      "4\n",
      "Thanks for using CIB\n",
      "Welcome to CIB.\n",
      "1 >> Create new account\n",
      "2 >> Login \n",
      "3 >> Cancel \n",
      "Please enter valid option: 3\n",
      "Thanks for using CIB\n"
     ]
    }
   ],
   "source": [
    "while True :\n",
    "    option = main_menu()\n",
    "    if option == 1 :\n",
    "        username = input(\"Enter valid username \")\n",
    "        password = input(\"Enter valid password \")\n",
    "        bank.create_account(username , password)\n",
    "    elif option == 2 :\n",
    "        username = input(\"Enter your username \")\n",
    "        password = input(\"Enter your password \")\n",
    "        bank.login(username , password)\n",
    "    elif option == 3 :\n",
    "        print(f\"Thanks for using {bank.name}\")\n",
    "        break\n",
    "    else:\n",
    "        print(\"please enter valid option\")"
   ]
  },
  {
   "cell_type": "code",
   "execution_count": null,
   "id": "21b15277",
   "metadata": {},
   "outputs": [],
   "source": []
  }
 ],
 "metadata": {
  "kernelspec": {
   "display_name": "Python 3 (ipykernel)",
   "language": "python",
   "name": "python3"
  },
  "language_info": {
   "codemirror_mode": {
    "name": "ipython",
    "version": 3
   },
   "file_extension": ".py",
   "mimetype": "text/x-python",
   "name": "python",
   "nbconvert_exporter": "python",
   "pygments_lexer": "ipython3",
   "version": "3.10.9"
  }
 },
 "nbformat": 4,
 "nbformat_minor": 5
}
